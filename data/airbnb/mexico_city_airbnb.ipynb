{
 "cells": [
  {
   "cell_type": "code",
   "execution_count": 1,
   "metadata": {
    "collapsed": false
   },
   "outputs": [],
   "source": [
    "rm -rf ~/.matplotlib/*"
   ]
  },
  {
   "cell_type": "code",
   "execution_count": 2,
   "metadata": {
    "collapsed": false
   },
   "outputs": [
    {
     "name": "stderr",
     "output_type": "stream",
     "text": [
      "//anaconda/lib/python2.7/site-packages/matplotlib/font_manager.py:273: UserWarning: Matplotlib is building the font cache using fc-list. This may take a moment.\n",
      "  warnings.warn('Matplotlib is building the font cache using fc-list. This may take a moment.')\n"
     ]
    }
   ],
   "source": [
    "import os\n",
    "import pandas as pd \n",
    "import numpy as np \n",
    "import seaborn as sns\n",
    "import matplotlib.pyplot as plt\n",
    "sns.set()\n",
    "%matplotlib inline"
   ]
  },
  {
   "cell_type": "code",
   "execution_count": 3,
   "metadata": {
    "collapsed": true
   },
   "outputs": [],
   "source": [
    "airbnb_room_table_cols = [\"room_id\", \"user_id\", \"room_type\", \"country\", \"city\", \"neighborhood\", \"address\",\n",
    "                           \"reviews\", \"rating\", \"accomodates\", \"bedrooms\", \"bathrooms\", \"price\", \"deleted\",\n",
    "                           \"min_stay\", \"last_modified\", \"latitude\", \"longitude\", \"survey_id\", \"location\"]"
   ]
  },
  {
   "cell_type": "code",
   "execution_count": 4,
   "metadata": {
    "collapsed": false
   },
   "outputs": [],
   "source": [
    "airbnb_room_table = pd.read_csv(\"room_airbnb.csv\", error_bad_lines=False, names = airbnb_room_table_cols)"
   ]
  },
  {
   "cell_type": "code",
   "execution_count": 5,
   "metadata": {
    "collapsed": false
   },
   "outputs": [
    {
     "data": {
      "text/html": [
       "<div>\n",
       "<table border=\"1\" class=\"dataframe\">\n",
       "  <thead>\n",
       "    <tr style=\"text-align: right;\">\n",
       "      <th></th>\n",
       "      <th>room_id</th>\n",
       "      <th>user_id</th>\n",
       "      <th>room_type</th>\n",
       "      <th>country</th>\n",
       "      <th>city</th>\n",
       "      <th>neighborhood</th>\n",
       "      <th>address</th>\n",
       "      <th>reviews</th>\n",
       "      <th>rating</th>\n",
       "      <th>accomodates</th>\n",
       "      <th>bedrooms</th>\n",
       "      <th>bathrooms</th>\n",
       "      <th>price</th>\n",
       "      <th>deleted</th>\n",
       "      <th>min_stay</th>\n",
       "      <th>last_modified</th>\n",
       "      <th>latitude</th>\n",
       "      <th>longitude</th>\n",
       "      <th>survey_id</th>\n",
       "      <th>location</th>\n",
       "    </tr>\n",
       "  </thead>\n",
       "  <tbody>\n",
       "    <tr>\n",
       "      <th>0</th>\n",
       "      <td>13311781</td>\n",
       "      <td>75218313.0</td>\n",
       "      <td>Private room</td>\n",
       "      <td>Mexico</td>\n",
       "      <td>Ciudad de México</td>\n",
       "      <td>Ciudad de Méxic</td>\n",
       "      <td>Ciudad de Méxic</td>\n",
       "      <td>0</td>\n",
       "      <td>NaN</td>\n",
       "      <td>1</td>\n",
       "      <td>1.00</td>\n",
       "      <td>2.0</td>\n",
       "      <td>11.0</td>\n",
       "      <td>0.0</td>\n",
       "      <td>3.0</td>\n",
       "      <td>2016-08-12 19:36:42.593277</td>\n",
       "      <td>19.402872</td>\n",
       "      <td>-99.182288</td>\n",
       "      <td>1.0</td>\n",
       "      <td>0101000020E6100000029D499BAACB58C05F79909E2267...</td>\n",
       "    </tr>\n",
       "    <tr>\n",
       "      <th>1</th>\n",
       "      <td>796477</td>\n",
       "      <td>4195771.0</td>\n",
       "      <td>Private room</td>\n",
       "      <td>Mexico</td>\n",
       "      <td>Mexico City</td>\n",
       "      <td>Mexico Cit</td>\n",
       "      <td>Mexico Cit</td>\n",
       "      <td>70</td>\n",
       "      <td>5</td>\n",
       "      <td>2</td>\n",
       "      <td>1.00</td>\n",
       "      <td>1.0</td>\n",
       "      <td>41.0</td>\n",
       "      <td>0.0</td>\n",
       "      <td>1.0</td>\n",
       "      <td>2016-08-12 20:16:12.508709</td>\n",
       "      <td>19.416327</td>\n",
       "      <td>-99.175053</td>\n",
       "      <td>1.0</td>\n",
       "      <td>0101000020E610000045847F1134CB58C019710168946A...</td>\n",
       "    </tr>\n",
       "    <tr>\n",
       "      <th>2</th>\n",
       "      <td>11089363</td>\n",
       "      <td>1011894.0</td>\n",
       "      <td>Private room</td>\n",
       "      <td>Mexico</td>\n",
       "      <td>Ciudad de México</td>\n",
       "      <td>Ciudad de Méxic</td>\n",
       "      <td>Ciudad de Méxic</td>\n",
       "      <td>29</td>\n",
       "      <td>5</td>\n",
       "      <td>2</td>\n",
       "      <td>1.00</td>\n",
       "      <td>1.0</td>\n",
       "      <td>36.0</td>\n",
       "      <td>0.0</td>\n",
       "      <td>2.0</td>\n",
       "      <td>2016-08-12 20:33:23.890845</td>\n",
       "      <td>19.410631</td>\n",
       "      <td>-99.172990</td>\n",
       "      <td>1.0</td>\n",
       "      <td>0101000020E61000003E22A64412CB58C049B9FB1C1F69...</td>\n",
       "    </tr>\n",
       "    <tr>\n",
       "      <th>3</th>\n",
       "      <td>12088827</td>\n",
       "      <td>57771772.0</td>\n",
       "      <td>Private room</td>\n",
       "      <td>Mexico</td>\n",
       "      <td>Ciudad de México</td>\n",
       "      <td>Ciudad de Méxic</td>\n",
       "      <td>Ciudad de Méxic</td>\n",
       "      <td>1</td>\n",
       "      <td>NaN</td>\n",
       "      <td>2</td>\n",
       "      <td>1.00</td>\n",
       "      <td>1.0</td>\n",
       "      <td>56.0</td>\n",
       "      <td>0.0</td>\n",
       "      <td>1.0</td>\n",
       "      <td>2016-08-12 21:32:43.450263</td>\n",
       "      <td>19.442962</td>\n",
       "      <td>-99.204891</td>\n",
       "      <td>1.0</td>\n",
       "      <td>0101000020E6100000AA0F24EF1CCD58C0EA5E27F56571...</td>\n",
       "    </tr>\n",
       "    <tr>\n",
       "      <th>4</th>\n",
       "      <td>11692281</td>\n",
       "      <td>62122323.0</td>\n",
       "      <td>Private room</td>\n",
       "      <td>Mexico</td>\n",
       "      <td>Ciudad de México</td>\n",
       "      <td>Ciudad de Méxic</td>\n",
       "      <td>Ciudad de Méxic</td>\n",
       "      <td>5</td>\n",
       "      <td>4.5</td>\n",
       "      <td>2</td>\n",
       "      <td>1.00</td>\n",
       "      <td>1.0</td>\n",
       "      <td>14.0</td>\n",
       "      <td>0.0</td>\n",
       "      <td>1.0</td>\n",
       "      <td>2016-08-12 22:33:00.899338</td>\n",
       "      <td>19.402246</td>\n",
       "      <td>-99.174304</td>\n",
       "      <td>1.0</td>\n",
       "      <td>0101000020E6100000F8E3F6CB27CB58C063F20698F966...</td>\n",
       "    </tr>\n",
       "  </tbody>\n",
       "</table>\n",
       "</div>"
      ],
      "text/plain": [
       "    room_id     user_id     room_type country              city  \\\n",
       "0  13311781  75218313.0  Private room  Mexico  Ciudad de México   \n",
       "1    796477   4195771.0  Private room  Mexico       Mexico City   \n",
       "2  11089363   1011894.0  Private room  Mexico  Ciudad de México   \n",
       "3  12088827  57771772.0  Private room  Mexico  Ciudad de México   \n",
       "4  11692281  62122323.0  Private room  Mexico  Ciudad de México   \n",
       "\n",
       "      neighborhood          address reviews rating accomodates bedrooms  \\\n",
       "0  Ciudad de Méxic  Ciudad de Méxic       0    NaN           1     1.00   \n",
       "1       Mexico Cit       Mexico Cit      70      5           2     1.00   \n",
       "2  Ciudad de Méxic  Ciudad de Méxic      29      5           2     1.00   \n",
       "3  Ciudad de Méxic  Ciudad de Méxic       1    NaN           2     1.00   \n",
       "4  Ciudad de Méxic  Ciudad de Méxic       5    4.5           2     1.00   \n",
       "\n",
       "   bathrooms  price  deleted  min_stay               last_modified   latitude  \\\n",
       "0        2.0   11.0      0.0       3.0  2016-08-12 19:36:42.593277  19.402872   \n",
       "1        1.0   41.0      0.0       1.0  2016-08-12 20:16:12.508709  19.416327   \n",
       "2        1.0   36.0      0.0       2.0  2016-08-12 20:33:23.890845  19.410631   \n",
       "3        1.0   56.0      0.0       1.0  2016-08-12 21:32:43.450263  19.442962   \n",
       "4        1.0   14.0      0.0       1.0  2016-08-12 22:33:00.899338  19.402246   \n",
       "\n",
       "    longitude  survey_id                                           location  \n",
       "0  -99.182288        1.0  0101000020E6100000029D499BAACB58C05F79909E2267...  \n",
       "1  -99.175053        1.0  0101000020E610000045847F1134CB58C019710168946A...  \n",
       "2  -99.172990        1.0  0101000020E61000003E22A64412CB58C049B9FB1C1F69...  \n",
       "3  -99.204891        1.0  0101000020E6100000AA0F24EF1CCD58C0EA5E27F56571...  \n",
       "4  -99.174304        1.0  0101000020E6100000F8E3F6CB27CB58C063F20698F966...  "
      ]
     },
     "execution_count": 5,
     "metadata": {},
     "output_type": "execute_result"
    }
   ],
   "source": [
    "airbnb_room_table.head()"
   ]
  },
  {
   "cell_type": "code",
   "execution_count": 6,
   "metadata": {
    "collapsed": false
   },
   "outputs": [
    {
     "data": {
      "text/plain": [
       "room_id            int64\n",
       "user_id          float64\n",
       "room_type         object\n",
       "country           object\n",
       "city              object\n",
       "neighborhood      object\n",
       "address           object\n",
       "reviews           object\n",
       "rating            object\n",
       "accomodates       object\n",
       "bedrooms          object\n",
       "bathrooms        float64\n",
       "price            float64\n",
       "deleted          float64\n",
       "min_stay         float64\n",
       "last_modified     object\n",
       "latitude         float64\n",
       "longitude         object\n",
       "survey_id        float64\n",
       "location          object\n",
       "dtype: object"
      ]
     },
     "execution_count": 6,
     "metadata": {},
     "output_type": "execute_result"
    }
   ],
   "source": [
    "airbnb_room_table.dtypes"
   ]
  },
  {
   "cell_type": "code",
   "execution_count": 7,
   "metadata": {
    "collapsed": false
   },
   "outputs": [
    {
     "data": {
      "text/plain": [
       "array(['Mexico', nan, 'Brazil', 'Uruguay', 'Jamaica', 'Spain', 'France',\n",
       "       'United States', 'Australia', 'China', 'Poland', 'Greece', 'Italy',\n",
       "       'India', 'Costa Rica', 'Canada', 'Germany', 'Macedonia',\n",
       "       'South Africa', 'United Kingdom', 'Austria'], dtype=object)"
      ]
     },
     "execution_count": 7,
     "metadata": {},
     "output_type": "execute_result"
    }
   ],
   "source": [
    "airbnb_room_table[\"country\"].unique()"
   ]
  },
  {
   "cell_type": "markdown",
   "metadata": {},
   "source": [
    "Subset analysis to Mexico City"
   ]
  },
  {
   "cell_type": "code",
   "execution_count": 8,
   "metadata": {
    "collapsed": true
   },
   "outputs": [],
   "source": [
    "mexico_city_airbnb_room_tbl = airbnb_room_table[airbnb_room_table[\"country\"]=='Mexico']"
   ]
  },
  {
   "cell_type": "code",
   "execution_count": 9,
   "metadata": {
    "collapsed": false
   },
   "outputs": [
    {
     "data": {
      "text/plain": [
       "(5137, 6)"
      ]
     },
     "execution_count": 9,
     "metadata": {},
     "output_type": "execute_result"
    }
   ],
   "source": [
    "mexico_city_airbnb_geocode = mexico_city_airbnb_room_tbl[[\"room_id\", \"room_type\", \"city\", \"price\", \"latitude\", \"longitude\"]]\n",
    "mexico_city_airbnb_geocode.shape"
   ]
  },
  {
   "cell_type": "code",
   "execution_count": 10,
   "metadata": {
    "collapsed": false
   },
   "outputs": [
    {
     "data": {
      "text/html": [
       "<div>\n",
       "<table border=\"1\" class=\"dataframe\">\n",
       "  <thead>\n",
       "    <tr style=\"text-align: right;\">\n",
       "      <th></th>\n",
       "      <th>room_id</th>\n",
       "      <th>room_type</th>\n",
       "      <th>city</th>\n",
       "      <th>price</th>\n",
       "      <th>latitude</th>\n",
       "      <th>longitude</th>\n",
       "    </tr>\n",
       "  </thead>\n",
       "  <tbody>\n",
       "    <tr>\n",
       "      <th>0</th>\n",
       "      <td>13311781</td>\n",
       "      <td>Private room</td>\n",
       "      <td>Ciudad de México</td>\n",
       "      <td>11.0</td>\n",
       "      <td>19.402872</td>\n",
       "      <td>-99.182288</td>\n",
       "    </tr>\n",
       "    <tr>\n",
       "      <th>1</th>\n",
       "      <td>796477</td>\n",
       "      <td>Private room</td>\n",
       "      <td>Mexico City</td>\n",
       "      <td>41.0</td>\n",
       "      <td>19.416327</td>\n",
       "      <td>-99.175053</td>\n",
       "    </tr>\n",
       "    <tr>\n",
       "      <th>2</th>\n",
       "      <td>11089363</td>\n",
       "      <td>Private room</td>\n",
       "      <td>Ciudad de México</td>\n",
       "      <td>36.0</td>\n",
       "      <td>19.410631</td>\n",
       "      <td>-99.172990</td>\n",
       "    </tr>\n",
       "    <tr>\n",
       "      <th>3</th>\n",
       "      <td>12088827</td>\n",
       "      <td>Private room</td>\n",
       "      <td>Ciudad de México</td>\n",
       "      <td>56.0</td>\n",
       "      <td>19.442962</td>\n",
       "      <td>-99.204891</td>\n",
       "    </tr>\n",
       "    <tr>\n",
       "      <th>4</th>\n",
       "      <td>11692281</td>\n",
       "      <td>Private room</td>\n",
       "      <td>Ciudad de México</td>\n",
       "      <td>14.0</td>\n",
       "      <td>19.402246</td>\n",
       "      <td>-99.174304</td>\n",
       "    </tr>\n",
       "  </tbody>\n",
       "</table>\n",
       "</div>"
      ],
      "text/plain": [
       "    room_id     room_type              city  price   latitude   longitude\n",
       "0  13311781  Private room  Ciudad de México   11.0  19.402872  -99.182288\n",
       "1    796477  Private room       Mexico City   41.0  19.416327  -99.175053\n",
       "2  11089363  Private room  Ciudad de México   36.0  19.410631  -99.172990\n",
       "3  12088827  Private room  Ciudad de México   56.0  19.442962  -99.204891\n",
       "4  11692281  Private room  Ciudad de México   14.0  19.402246  -99.174304"
      ]
     },
     "execution_count": 10,
     "metadata": {},
     "output_type": "execute_result"
    }
   ],
   "source": [
    "mexico_city_airbnb_geocode.head()"
   ]
  },
  {
   "cell_type": "markdown",
   "metadata": {},
   "source": [
    "Remove values from longitude column that are not coordinates"
   ]
  },
  {
   "cell_type": "code",
   "execution_count": 11,
   "metadata": {
    "collapsed": false
   },
   "outputs": [
    {
     "data": {
      "text/plain": [
       "(5118, 6)"
      ]
     },
     "execution_count": 11,
     "metadata": {},
     "output_type": "execute_result"
    }
   ],
   "source": [
    "mask = mexico_city_airbnb_geocode[\"longitude\"].str.len() == 10\n",
    "mexico_city_airbnb_geocode= mexico_city_airbnb_geocode.loc[mask]\n",
    "mexico_city_airbnb_geocode.shape"
   ]
  },
  {
   "cell_type": "markdown",
   "metadata": {},
   "source": [
    "Only select private rooms for analysis"
   ]
  },
  {
   "cell_type": "code",
   "execution_count": 12,
   "metadata": {
    "collapsed": false
   },
   "outputs": [
    {
     "data": {
      "text/plain": [
       "(2684, 6)"
      ]
     },
     "execution_count": 12,
     "metadata": {},
     "output_type": "execute_result"
    }
   ],
   "source": [
    "mexico_city_airbnb_geocode = mexico_city_airbnb_geocode[mexico_city_airbnb_geocode[\"room_type\"]=='Private room']\n",
    "mexico_city_airbnb_geocode.shape"
   ]
  },
  {
   "cell_type": "code",
   "execution_count": 13,
   "metadata": {
    "collapsed": false
   },
   "outputs": [
    {
     "data": {
      "text/html": [
       "<div>\n",
       "<table border=\"1\" class=\"dataframe\">\n",
       "  <thead>\n",
       "    <tr style=\"text-align: right;\">\n",
       "      <th></th>\n",
       "      <th>room_id</th>\n",
       "      <th>room_type</th>\n",
       "      <th>city</th>\n",
       "      <th>price</th>\n",
       "      <th>latitude</th>\n",
       "      <th>longitude</th>\n",
       "    </tr>\n",
       "  </thead>\n",
       "  <tbody>\n",
       "    <tr>\n",
       "      <th>0</th>\n",
       "      <td>13311781</td>\n",
       "      <td>Private room</td>\n",
       "      <td>Ciudad de México</td>\n",
       "      <td>11.0</td>\n",
       "      <td>19.402872</td>\n",
       "      <td>-99.182288</td>\n",
       "    </tr>\n",
       "    <tr>\n",
       "      <th>1</th>\n",
       "      <td>796477</td>\n",
       "      <td>Private room</td>\n",
       "      <td>Mexico City</td>\n",
       "      <td>41.0</td>\n",
       "      <td>19.416327</td>\n",
       "      <td>-99.175053</td>\n",
       "    </tr>\n",
       "    <tr>\n",
       "      <th>2</th>\n",
       "      <td>11089363</td>\n",
       "      <td>Private room</td>\n",
       "      <td>Ciudad de México</td>\n",
       "      <td>36.0</td>\n",
       "      <td>19.410631</td>\n",
       "      <td>-99.172990</td>\n",
       "    </tr>\n",
       "    <tr>\n",
       "      <th>3</th>\n",
       "      <td>12088827</td>\n",
       "      <td>Private room</td>\n",
       "      <td>Ciudad de México</td>\n",
       "      <td>56.0</td>\n",
       "      <td>19.442962</td>\n",
       "      <td>-99.204891</td>\n",
       "    </tr>\n",
       "    <tr>\n",
       "      <th>4</th>\n",
       "      <td>11692281</td>\n",
       "      <td>Private room</td>\n",
       "      <td>Ciudad de México</td>\n",
       "      <td>14.0</td>\n",
       "      <td>19.402246</td>\n",
       "      <td>-99.174304</td>\n",
       "    </tr>\n",
       "  </tbody>\n",
       "</table>\n",
       "</div>"
      ],
      "text/plain": [
       "    room_id     room_type              city  price   latitude  longitude\n",
       "0  13311781  Private room  Ciudad de México   11.0  19.402872 -99.182288\n",
       "1    796477  Private room       Mexico City   41.0  19.416327 -99.175053\n",
       "2  11089363  Private room  Ciudad de México   36.0  19.410631 -99.172990\n",
       "3  12088827  Private room  Ciudad de México   56.0  19.442962 -99.204891\n",
       "4  11692281  Private room  Ciudad de México   14.0  19.402246 -99.174304"
      ]
     },
     "execution_count": 13,
     "metadata": {},
     "output_type": "execute_result"
    }
   ],
   "source": [
    "mexico_city_airbnb_geocode[\"longitude\"] = mexico_city_airbnb_geocode[\"longitude\"].astype('float64').fillna(0.0)\n",
    "mexico_city_airbnb_geocode.head()"
   ]
  },
  {
   "cell_type": "code",
   "execution_count": 14,
   "metadata": {
    "collapsed": true
   },
   "outputs": [],
   "source": [
    "mexico_city_airbnb_geocode.to_csv(\"mexico_city_airbnb_geocode.csv\", index=False)"
   ]
  }
 ],
 "metadata": {
  "anaconda-cloud": {},
  "kernelspec": {
   "display_name": "Python [default]",
   "language": "python",
   "name": "python2"
  },
  "language_info": {
   "codemirror_mode": {
    "name": "ipython",
    "version": 2
   },
   "file_extension": ".py",
   "mimetype": "text/x-python",
   "name": "python",
   "nbconvert_exporter": "python",
   "pygments_lexer": "ipython2",
   "version": "2.7.12"
  }
 },
 "nbformat": 4,
 "nbformat_minor": 0
}
