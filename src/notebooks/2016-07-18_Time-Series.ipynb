{
 "cells": [
  {
   "cell_type": "code",
   "execution_count": 1,
   "metadata": {
    "collapsed": false
   },
   "outputs": [
    {
     "ename": "KeyboardInterrupt",
     "evalue": "",
     "output_type": "error",
     "traceback": [
      "\u001b[0;31m---------------------------------------------------------------------------\u001b[0m",
      "\u001b[0;31mKeyboardInterrupt\u001b[0m                         Traceback (most recent call last)",
      "\u001b[0;32m<ipython-input-1-44bd1d5d6af4>\u001b[0m in \u001b[0;36m<module>\u001b[0;34m()\u001b[0m\n\u001b[1;32m      4\u001b[0m \u001b[0msys\u001b[0m\u001b[0;34m.\u001b[0m\u001b[0mpath\u001b[0m\u001b[0;34m.\u001b[0m\u001b[0mappend\u001b[0m\u001b[0;34m(\u001b[0m\u001b[0;34m'../python/'\u001b[0m\u001b[0;34m)\u001b[0m\u001b[0;34m\u001b[0m\u001b[0m\n\u001b[1;32m      5\u001b[0m \u001b[0;34m\u001b[0m\u001b[0m\n\u001b[0;32m----> 6\u001b[0;31m \u001b[0;32mimport\u001b[0m \u001b[0mseaborn\u001b[0m \u001b[0;32mas\u001b[0m \u001b[0msns\u001b[0m\u001b[0;34m\u001b[0m\u001b[0m\n\u001b[0m\u001b[1;32m      7\u001b[0m \u001b[0;32mimport\u001b[0m \u001b[0mmatplotlib\u001b[0m\u001b[0;34m.\u001b[0m\u001b[0mpyplot\u001b[0m \u001b[0;32mas\u001b[0m \u001b[0mplt\u001b[0m\u001b[0;34m\u001b[0m\u001b[0m\n\u001b[1;32m      8\u001b[0m \u001b[0;32mimport\u001b[0m \u001b[0mpandas\u001b[0m \u001b[0;32mas\u001b[0m \u001b[0mpd\u001b[0m\u001b[0;34m\u001b[0m\u001b[0m\n",
      "\u001b[0;32m/Users/myeong/anaconda/lib/python3.5/site-packages/seaborn/__init__.py\u001b[0m in \u001b[0;36m<module>\u001b[0;34m()\u001b[0m\n\u001b[1;32m     11\u001b[0m \u001b[0;32mfrom\u001b[0m \u001b[0;34m.\u001b[0m\u001b[0mdistributions\u001b[0m \u001b[0;32mimport\u001b[0m \u001b[0;34m*\u001b[0m\u001b[0;34m\u001b[0m\u001b[0m\n\u001b[1;32m     12\u001b[0m \u001b[0;32mfrom\u001b[0m \u001b[0;34m.\u001b[0m\u001b[0mtimeseries\u001b[0m \u001b[0;32mimport\u001b[0m \u001b[0;34m*\u001b[0m\u001b[0;34m\u001b[0m\u001b[0m\n\u001b[0;32m---> 13\u001b[0;31m \u001b[0;32mfrom\u001b[0m \u001b[0;34m.\u001b[0m\u001b[0mmatrix\u001b[0m \u001b[0;32mimport\u001b[0m \u001b[0;34m*\u001b[0m\u001b[0;34m\u001b[0m\u001b[0m\n\u001b[0m\u001b[1;32m     14\u001b[0m \u001b[0;32mfrom\u001b[0m \u001b[0;34m.\u001b[0m\u001b[0mmiscplot\u001b[0m \u001b[0;32mimport\u001b[0m \u001b[0;34m*\u001b[0m\u001b[0;34m\u001b[0m\u001b[0m\n\u001b[1;32m     15\u001b[0m \u001b[0;32mfrom\u001b[0m \u001b[0;34m.\u001b[0m\u001b[0maxisgrid\u001b[0m \u001b[0;32mimport\u001b[0m \u001b[0;34m*\u001b[0m\u001b[0;34m\u001b[0m\u001b[0m\n",
      "\u001b[0;32m/Users/myeong/anaconda/lib/python3.5/site-packages/seaborn/matrix.py\u001b[0m in \u001b[0;36m<module>\u001b[0;34m()\u001b[0m\n\u001b[1;32m      9\u001b[0m \u001b[0;32mimport\u001b[0m \u001b[0mpandas\u001b[0m \u001b[0;32mas\u001b[0m \u001b[0mpd\u001b[0m\u001b[0;34m\u001b[0m\u001b[0m\n\u001b[1;32m     10\u001b[0m \u001b[0;32mfrom\u001b[0m \u001b[0mscipy\u001b[0m\u001b[0;34m.\u001b[0m\u001b[0mspatial\u001b[0m \u001b[0;32mimport\u001b[0m \u001b[0mdistance\u001b[0m\u001b[0;34m\u001b[0m\u001b[0m\n\u001b[0;32m---> 11\u001b[0;31m \u001b[0;32mfrom\u001b[0m \u001b[0mscipy\u001b[0m\u001b[0;34m.\u001b[0m\u001b[0mcluster\u001b[0m \u001b[0;32mimport\u001b[0m \u001b[0mhierarchy\u001b[0m\u001b[0;34m\u001b[0m\u001b[0m\n\u001b[0m\u001b[1;32m     12\u001b[0m \u001b[0;34m\u001b[0m\u001b[0m\n\u001b[1;32m     13\u001b[0m \u001b[0;32mfrom\u001b[0m \u001b[0;34m.\u001b[0m\u001b[0maxisgrid\u001b[0m \u001b[0;32mimport\u001b[0m \u001b[0mGrid\u001b[0m\u001b[0;34m\u001b[0m\u001b[0m\n",
      "\u001b[0;32m/Users/myeong/anaconda/lib/python3.5/site-packages/scipy/cluster/__init__.py\u001b[0m in \u001b[0;36m<module>\u001b[0;34m()\u001b[0m\n\u001b[1;32m     25\u001b[0m \u001b[0m__all__\u001b[0m \u001b[0;34m=\u001b[0m \u001b[0;34m[\u001b[0m\u001b[0;34m'vq'\u001b[0m\u001b[0;34m,\u001b[0m \u001b[0;34m'hierarchy'\u001b[0m\u001b[0;34m]\u001b[0m\u001b[0;34m\u001b[0m\u001b[0m\n\u001b[1;32m     26\u001b[0m \u001b[0;34m\u001b[0m\u001b[0m\n\u001b[0;32m---> 27\u001b[0;31m \u001b[0;32mfrom\u001b[0m \u001b[0;34m.\u001b[0m \u001b[0;32mimport\u001b[0m \u001b[0mvq\u001b[0m\u001b[0;34m,\u001b[0m \u001b[0mhierarchy\u001b[0m\u001b[0;34m\u001b[0m\u001b[0m\n\u001b[0m\u001b[1;32m     28\u001b[0m \u001b[0;34m\u001b[0m\u001b[0m\n\u001b[1;32m     29\u001b[0m \u001b[0;32mfrom\u001b[0m \u001b[0mnumpy\u001b[0m\u001b[0;34m.\u001b[0m\u001b[0mtesting\u001b[0m \u001b[0;32mimport\u001b[0m \u001b[0mTester\u001b[0m\u001b[0;34m\u001b[0m\u001b[0m\n",
      "\u001b[0;32m/Users/myeong/anaconda/lib/python3.5/site-packages/scipy/cluster/hierarchy.py\u001b[0m in \u001b[0;36m<module>\u001b[0;34m()\u001b[0m\n\u001b[1;32m    176\u001b[0m \u001b[0;34m\u001b[0m\u001b[0m\n\u001b[1;32m    177\u001b[0m \u001b[0;32mimport\u001b[0m \u001b[0mnumpy\u001b[0m \u001b[0;32mas\u001b[0m \u001b[0mnp\u001b[0m\u001b[0;34m\u001b[0m\u001b[0m\n\u001b[0;32m--> 178\u001b[0;31m \u001b[0;32mfrom\u001b[0m \u001b[0;34m.\u001b[0m \u001b[0;32mimport\u001b[0m \u001b[0m_hierarchy\u001b[0m\u001b[0;34m\u001b[0m\u001b[0m\n\u001b[0m\u001b[1;32m    179\u001b[0m \u001b[0;32mimport\u001b[0m \u001b[0mscipy\u001b[0m\u001b[0;34m.\u001b[0m\u001b[0mspatial\u001b[0m\u001b[0;34m.\u001b[0m\u001b[0mdistance\u001b[0m \u001b[0;32mas\u001b[0m \u001b[0mdistance\u001b[0m\u001b[0;34m\u001b[0m\u001b[0m\n\u001b[1;32m    180\u001b[0m \u001b[0;34m\u001b[0m\u001b[0m\n",
      "\u001b[0;32mscipy/cluster/_hierarchy.pyx\u001b[0m in \u001b[0;36minit scipy.cluster._hierarchy (scipy/cluster/_hierarchy.c:25967)\u001b[0;34m()\u001b[0m\n",
      "\u001b[0;32m/Users/myeong/anaconda/lib/python3.5/importlib/_bootstrap.py\u001b[0m in \u001b[0;36m_find_and_load\u001b[0;34m(name, import_)\u001b[0m\n",
      "\u001b[0;31mKeyboardInterrupt\u001b[0m: "
     ]
    }
   ],
   "source": [
    "%matplotlib inline\n",
    "\n",
    "import sys\n",
    "sys.path.append('../python/')\n",
    "\n",
    "import seaborn as sns\n",
    "import matplotlib.pyplot as plt\n",
    "import pandas as pd\n",
    "import imp\n",
    "import cdr\n",
    "import json\n",
    "import os.path\n",
    "from scipy.spatial.distance import cosine\n",
    "from pandas.io.json import json_normalize\n",
    "\n",
    "imp.reload(cdr)\n",
    "\n",
    "print (\"Libraries loaded\")\n",
    "\n",
    "dfs = pd.DataFrame(columns=[\"cellId\", \"time\", \"countryCode\", \"smsIn\", \"smsOut\",\"callIn\", \"callOut\", \"internet\"])\n",
    "\n",
    "# Read all the files in Milano\n",
    "for month in {\"11\",\"12\"}:\n",
    "    for day in range(1, 32):\n",
    "        to_read = '../../data/CDR/sms-call-internet-mi-2013-' + month + '-' +\\\n",
    "                    str(day).zfill(2) + '.txt'\n",
    "        \n",
    "        if os.path.isfile(to_read):\n",
    "            temp = pd.read_csv(to_read, delimiter='\\t', header=None)\n",
    "            temp.columns = [\"cellId\", \"time\", \"countryCode\", \"smsIn\", \"smsOut\",\"callIn\", \"callOut\", \"internet\"]\n",
    "            temp = temp[temp['countryCode'] != 0]\n",
    "            temp = temp.groupby(['cellId','time'], as_index=False).agg({                        \n",
    "                    'smsIn': 'sum',\n",
    "                    'smsOut': 'sum',\n",
    "                    'callIn': 'sum',\n",
    "                    'callOut': 'sum',\n",
    "                    'internet': 'sum'\n",
    "                })\n",
    "            dfs = dfs.append(temp)\n",
    "            print (\"loaded \", to_read)\n",
    "\n",
    "print (\"Milano files loaded\")\n",
    "\n",
    "# dfs['1101'] = pd.read_csv('../../data/CDR/sms-call-internet-mi-2013-11-01.txt', delimiter='\\t', header=None) \n",
    "# file = '../../data/GeoJSON/milano-grid.geojson'\n",
    "# with open(file) as f:\n",
    "#     grid = pd.read_json(f, typ='Series')\n",
    "\n",
    "# print (\"Grid file loaded\")\n",
    "\n"
   ]
  },
  {
   "cell_type": "code",
   "execution_count": null,
   "metadata": {
    "collapsed": false
   },
   "outputs": [],
   "source": [
    "\n",
    "dfs.index = dfs.cellId\n",
    "dfs.fillna(0, inplace=True)"
   ]
  },
  {
   "cell_type": "code",
   "execution_count": null,
   "metadata": {
    "collapsed": true
   },
   "outputs": [],
   "source": [
    "# loading the region-cell data\n",
    "table = pd.read_csv('../../data/CDR/hash/intersect.csv', header = None) \n",
    "table.columns = ['region', 'proportions']\n",
    "table.index = table.region\n",
    "table.sort_values(['region'], inplace=True)\n",
    "\n",
    "# loading the cell-proportion data\n",
    "prop_table = pd.read_csv('../../data/CDR/hash/cell_intersect.csv', header = None) \n",
    "prop_table.columns = ['cell', 'proportions']\n",
    "prop_table.index = prop_table.cell\n",
    "prop_table.sort_values(['cell'], inplace=True)\n",
    "\n",
    "def get_cells_per_region(table, region_id):\n",
    "    ids = table.iloc[region_id].proportions\n",
    "    ids = ast.literal_eval(table.get_value(region_id, \"proportions\"))\n",
    "    return ids.keys()\n",
    "\n",
    "def get_call_data(region, df):        \n",
    "    r_dict = get_cells_per_region(table, region)\n",
    "\n",
    "    subset = df[df.index.isin(r_dict)]\n",
    "            \n",
    "    return subset\n",
    "\n",
    "def calculate_actual_call(cell_id, region_id, call):\n",
    "    \"\"\"\n",
    "        Create another column on the subset DataFrame that is proportional to the regions.\n",
    "    \"\"\"\n",
    "    prop = ast.literal_eval(prop_table.get_value(int(cell_id), \"proportions\"))\n",
    "\n",
    "    try:\n",
    "        final = prop[str(region_id)] * float(call)\n",
    "    except:\n",
    "        final = 0\n",
    "    \n",
    "    return final"
   ]
  },
  {
   "cell_type": "code",
   "execution_count": null,
   "metadata": {
    "collapsed": false
   },
   "outputs": [],
   "source": [
    "# dfs['1101'].fillna(0, inplace=True)\n",
    "# dfs['1101'].columns = [\"cellId\", \"time\", \"countryCode\", \"smsIn\", \"smsOut\",\n",
    "#                    \"callIn\", \"callOut\", \"internet\"]\n",
    "\n",
    "# dfs['1101'] = dfs['1101'][dfs['1101']['countryCode'] != 0]\n",
    "# dfs['1101'].index = dfs['1101'].cellId"
   ]
  },
  {
   "cell_type": "code",
   "execution_count": null,
   "metadata": {
    "collapsed": false
   },
   "outputs": [],
   "source": [
    "dfs.head()"
   ]
  },
  {
   "cell_type": "code",
   "execution_count": null,
   "metadata": {
    "collapsed": false
   },
   "outputs": [],
   "source": [
    "len(tp)"
   ]
  },
  {
   "cell_type": "code",
   "execution_count": null,
   "metadata": {
    "collapsed": false
   },
   "outputs": [],
   "source": [
    "tp = dfs"
   ]
  },
  {
   "cell_type": "code",
   "execution_count": null,
   "metadata": {
    "collapsed": false
   },
   "outputs": [],
   "source": [
    "# change miliseconds to datetime\n",
    "tp.index = pd.to_datetime(tp['time'],unit='ms',utc=True)\n",
    "tp.index = tp.index.tz_localize('UTC').tz_convert('Europe/Rome')\n",
    "tp['date'] = tp.index\n",
    "tp['time_hour'] = tp.index.hour\n",
    "tp['month'] = tp.index.month\n",
    "tp['day'] = tp.index.day"
   ]
  },
  {
   "cell_type": "code",
   "execution_count": null,
   "metadata": {
    "collapsed": false
   },
   "outputs": [],
   "source": [
    "tp = tp.groupby(['cellId','month','day','time_hour'], as_index=False).agg({     \n",
    "            'time': 'min',\n",
    "            'smsIn': 'sum',\n",
    "            'smsOut': 'sum',\n",
    "            'callIn': 'sum',\n",
    "            'callOut': 'sum',\n",
    "            'internet': 'sum'\n",
    "        })\n",
    "tp.index = tp.cellId"
   ]
  },
  {
   "cell_type": "code",
   "execution_count": null,
   "metadata": {
    "collapsed": false
   },
   "outputs": [],
   "source": [
    "pd.options.mode.chained_assignment = None\n",
    "\n"
   ]
  },
  {
   "cell_type": "code",
   "execution_count": null,
   "metadata": {
    "collapsed": false
   },
   "outputs": [],
   "source": [
    "region_based = pd.DataFrame(columns=['region_id','time','adjusted_smsIn','adjusted_smsOut','adjusted_callIn','adjusted_callOut','adjusted_internet'])\n",
    "import ast\n",
    "import numpy as np\n",
    "for re in range(1, 86):\n",
    "    print(re)\n",
    "    subdf = get_call_data(re-1, tp)\n",
    "    subdf[\"region_id\"] = re\n",
    "    try:\n",
    "        subdf[\"adjusted_smsIn\"] = np.vectorize(calculate_actual_call)(subdf[\"cellId\"], subdf[\"region_id\"], subdf[\"smsIn\"])\n",
    "        subdf[\"adjusted_smsOut\"] = np.vectorize(calculate_actual_call)(subdf[\"cellId\"], subdf[\"region_id\"], subdf[\"smsOut\"])\n",
    "        subdf[\"adjusted_callIn\"] = np.vectorize(calculate_actual_call)(subdf[\"cellId\"], subdf[\"region_id\"], subdf[\"callIn\"])\n",
    "        subdf[\"adjusted_callOut\"] = np.vectorize(calculate_actual_call)(subdf[\"cellId\"], subdf[\"region_id\"], subdf[\"callOut\"])\n",
    "        subdf[\"adjusted_internet\"] = np.vectorize(calculate_actual_call)(subdf[\"cellId\"], subdf[\"region_id\"], subdf[\"internet\"])\n",
    "    except:\n",
    "        print (\"error in making a column...\")\n",
    "        continue\n",
    "        \n",
    "    # do aggregation for \n",
    "    subdf = subdf.groupby(\"time\").agg({\n",
    "                'region_id': 'first',\n",
    "                'adjusted_smsIn': 'sum',\n",
    "                'adjusted_smsOut': 'sum',\n",
    "                'adjusted_callIn': 'sum',\n",
    "                'adjusted_callOut': 'sum',\n",
    "                'adjusted_internet': 'sum'\n",
    "            })\n",
    "    \n",
    "    region_based = region_based.append(subdf)\n",
    "\n",
    "region_based.time = region_based.index\n"
   ]
  },
  {
   "cell_type": "code",
   "execution_count": null,
   "metadata": {
    "collapsed": false
   },
   "outputs": [],
   "source": [
    "internet = region_based.pivot(index='region_id', columns='time', values='adjusted_internet')"
   ]
  },
  {
   "cell_type": "code",
   "execution_count": null,
   "metadata": {
    "collapsed": false
   },
   "outputs": [],
   "source": [
    "internet.fillna(0, inplace=True)"
   ]
  },
  {
   "cell_type": "code",
   "execution_count": null,
   "metadata": {
    "collapsed": false
   },
   "outputs": [],
   "source": [
    "internet.head()"
   ]
  },
  {
   "cell_type": "code",
   "execution_count": null,
   "metadata": {
    "collapsed": true
   },
   "outputs": [],
   "source": []
  },
  {
   "cell_type": "code",
   "execution_count": null,
   "metadata": {
    "collapsed": false
   },
   "outputs": [],
   "source": [
    "x = internet.as_matrix()"
   ]
  },
  {
   "cell_type": "code",
   "execution_count": null,
   "metadata": {
    "collapsed": false
   },
   "outputs": [],
   "source": [
    "mean = np.mean(internet, 0)\n",
    "mean.count()"
   ]
  },
  {
   "cell_type": "code",
   "execution_count": null,
   "metadata": {
    "collapsed": false
   },
   "outputs": [],
   "source": [
    "x_prime = np.zeros(shape=(85,mean.count()))"
   ]
  },
  {
   "cell_type": "code",
   "execution_count": null,
   "metadata": {
    "collapsed": false
   },
   "outputs": [],
   "source": []
  },
  {
   "cell_type": "code",
   "execution_count": null,
   "metadata": {
    "collapsed": false
   },
   "outputs": [],
   "source": [
    "for i in range(0, 85):\n",
    "    x_prime[i] = x[i] - mean\n"
   ]
  },
  {
   "cell_type": "code",
   "execution_count": null,
   "metadata": {
    "collapsed": false
   },
   "outputs": [],
   "source": [
    "x_prime = np.transpose(x_prime)\n",
    "len(x_prime)\n",
    "xpp = pd.DataFrame(x_prime)"
   ]
  },
  {
   "cell_type": "code",
   "execution_count": null,
   "metadata": {
    "collapsed": false
   },
   "outputs": [],
   "source": [
    "xpp = pd.DataFrame(x_prime)\n",
    "corr = xpp.corr('pearson')\n",
    "corr.index = corr.index + 1\n",
    "corr.columns = range(1,86)"
   ]
  },
  {
   "cell_type": "code",
   "execution_count": null,
   "metadata": {
    "collapsed": false
   },
   "outputs": [],
   "source": [
    "corr.head()"
   ]
  },
  {
   "cell_type": "code",
   "execution_count": null,
   "metadata": {
    "collapsed": false
   },
   "outputs": [],
   "source": []
  },
  {
   "cell_type": "code",
   "execution_count": null,
   "metadata": {
    "collapsed": false
   },
   "outputs": [],
   "source": [
    "f = plt.figure(figsize=(12, 20))\n",
    "gs = plt.GridSpec(15, 1)\n",
    "map_ax = f.add_subplot(gs[0:-5])\n",
    "sns.heatmap(corr, ax=map_ax,\n",
    "            cbar_kws={\"orientation\": \"horizontal\"})\n",
    "map_ax.set(xlabel=\"Calls\");"
   ]
  },
  {
   "cell_type": "code",
   "execution_count": null,
   "metadata": {
    "collapsed": false
   },
   "outputs": [],
   "source": [
    "callIn = region_based.pivot(index='region_id', columns='time', values='adjusted_callIn')\n",
    "callIn.fillna(0, inplace=True)\n",
    "x = callIn.as_matrix()\n",
    "mean = np.mean(callIn, 0)\n",
    "x_prime = np.zeros(shape=(85, mean.count()))\n",
    "for i in range(0, 85):\n",
    "    x_prime[i] = x[i] - mean\n",
    "x_prime = np.transpose(x_prime)\n",
    "\n",
    "xpp = pd.DataFrame(x_prime)\n",
    "corr = xpp.corr('pearson')\n",
    "corr.index = corr.index + 1\n",
    "corr.columns = range(1,86)\n",
    "\n",
    "f = plt.figure(figsize=(12, 20))\n",
    "gs = plt.GridSpec(15, 1)\n",
    "map_ax = f.add_subplot(gs[0:-5])\n",
    "sns.heatmap(corr, ax=map_ax,\n",
    "            cbar_kws={\"orientation\": \"horizontal\"})\n",
    "map_ax.set(xlabel=\"Call-In\");"
   ]
  },
  {
   "cell_type": "code",
   "execution_count": null,
   "metadata": {
    "collapsed": true
   },
   "outputs": [],
   "source": []
  }
 ],
 "metadata": {
  "anaconda-cloud": {},
  "kernelspec": {
   "display_name": "Python 3",
   "language": "python",
   "name": "python3"
  },
  "language_info": {
   "codemirror_mode": {
    "name": "ipython",
    "version": 3
   },
   "file_extension": ".py",
   "mimetype": "text/x-python",
   "name": "python",
   "nbconvert_exporter": "python",
   "pygments_lexer": "ipython3",
   "version": "3.5.1"
  }
 },
 "nbformat": 4,
 "nbformat_minor": 0
}
