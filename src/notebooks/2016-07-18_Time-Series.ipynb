{
 "cells": [
  {
   "cell_type": "code",
   "execution_count": 2,
   "metadata": {
    "collapsed": false
   },
   "outputs": [
    {
     "name": "stdout",
     "output_type": "stream",
     "text": [
      "Libraries loaded\n"
     ]
    }
   ],
   "source": [
    "%matplotlib inline\n",
    "\n",
    "import sys\n",
    "sys.path.append('../python/')\n",
    "\n",
    "import seaborn as sns\n",
    "import matplotlib.pyplot as plt\n",
    "import pandas as pd\n",
    "import imp\n",
    "import cdr\n",
    "import json\n",
    "import os.path\n",
    "from scipy.spatial.distance import cosine\n",
    "from pandas.io.json import json_normalize\n",
    "\n",
    "imp.reload(cdr)\n",
    "\n",
    "print (\"Libraries loaded\")\n",
    "\n"
   ]
  },
  {
   "cell_type": "code",
   "execution_count": null,
   "metadata": {
    "collapsed": false
   },
   "outputs": [],
   "source": []
  },
  {
   "cell_type": "code",
   "execution_count": null,
   "metadata": {
    "collapsed": false
   },
   "outputs": [],
   "source": []
  },
  {
   "cell_type": "code",
   "execution_count": null,
   "metadata": {
    "collapsed": false
   },
   "outputs": [],
   "source": []
  },
  {
   "cell_type": "code",
   "execution_count": 7,
   "metadata": {
    "collapsed": false
   },
   "outputs": [
    {
     "name": "stdout",
     "output_type": "stream",
     "text": [
      "Grid file loaded\n"
     ]
    }
   ],
   "source": [
    "# aaa = pd.read_csv('../../data/CDR/sms-call-internet-mi-2013-11-27.txt', delimiter='\\t', header=None) \n",
    "# aaa.columns = [\"cellId\", \"time\", \"countryCode\", \"smsIn\", \"smsOut\",\"callIn\", \"callOut\", \"internet\"]\n",
    "# print (\"Grid file loaded\")\n",
    "\n",
    "# # change miliseconds to datetime\n",
    "# aaa.index = pd.to_datetime(aaa['time'],unit='ms',utc=True)\n",
    "# aaa.index = aaa.index.tz_localize('UTC').tz_convert('Europe/Rome')\n",
    "# aaa['date'] = aaa.index\n",
    "# aaa['time_hour'] = aaa.index.hour\n",
    "# aaa['month'] = aaa.index.month\n",
    "# aaa['day'] = aaa.index.day\n",
    "# # aaa = aaa.groupby(['cellId','month','day','time_hour'], as_index=False)\n",
    "# aaa = aaa.groupby(['cellId','month','day','time_hour'], as_index=False).agg({                 \n",
    "#             'smsIn': 'sum',\n",
    "#             'smsOut': 'sum',\n",
    "#             'callIn': 'sum',\n",
    "#             'callOut': 'sum',\n",
    "#             'internet': 'sum'\n",
    "#         })\n"
   ]
  },
  {
   "cell_type": "code",
   "execution_count": 8,
   "metadata": {
    "collapsed": false
   },
   "outputs": [],
   "source": [
    "# # aaa.cellId = aaa.cellId.apply(lambda x: str(x).zfill(5))\n",
    "# aaa.day = aaa.day.apply(lambda x: str(x).zfill(2))\n",
    "# aaa.time_hour = aaa.time_hour.apply(lambda x: str(x).zfill(2))\n",
    "\n",
    "# aaa.index = aaa.month.map(str) + aaa.day + aaa.time_hour\n",
    "# aaa['unique'] = aaa.index\n",
    "# # aaa.cellId = aaa.cellId.map(int)\n",
    "# xx = aaa.pivot(index='cellId', columns='unique', values='internet')"
   ]
  },
  {
   "cell_type": "code",
   "execution_count": null,
   "metadata": {
    "collapsed": false
   },
   "outputs": [],
   "source": []
  },
  {
   "cell_type": "code",
   "execution_count": null,
   "metadata": {
    "collapsed": false
   },
   "outputs": [],
   "source": []
  },
  {
   "cell_type": "code",
   "execution_count": null,
   "metadata": {
    "collapsed": true
   },
   "outputs": [],
   "source": [
    "dfs = pd.DataFrame(columns=[\"cellId\", \"time\", \"smsIn\", \"smsOut\",\"callIn\", \"callOut\", \"internet\"])\n",
    "\n",
    "# Read all the files in Milano\n",
    "for month in {\"11\",\"12\"}:\n",
    "    for day in range(1, 32):\n",
    "        to_read = '../../data/CDR/sms-call-internet-mi-2013-' + month + '-' +\\\n",
    "                    str(day).zfill(2) + '.txt'\n",
    "        \n",
    "        if os.path.isfile(to_read):\n",
    "            temp = pd.read_csv(to_read, delimiter='\\t', header=None)\n",
    "            temp.columns = [\"cellId\", \"time\", \"countryCode\", \"smsIn\", \"smsOut\",\"callIn\", \"callOut\", \"internet\"]\n",
    "#             temp = temp[temp['countryCode'] != 0]\n",
    "            # change miliseconds to datetime\n",
    "            temp.index = pd.to_datetime(temp['time'],unit='ms',utc=True)\n",
    "            temp.index = temp.index.tz_localize('UTC').tz_convert('Europe/Rome')\n",
    "            temp['date'] = temp.index\n",
    "            temp['time_hour'] = temp.index.hour\n",
    "            temp['month'] = temp.index.month\n",
    "            temp['day'] = temp.index.day\n",
    "\n",
    "            temp = tp.groupby(['cellId','month','day','time_hour'], as_index=False).agg({                            \n",
    "                        'smsIn': 'sum',\n",
    "                        'smsOut': 'sum',\n",
    "                        'callIn': 'sum',\n",
    "                        'callOut': 'sum',\n",
    "                        'internet': 'sum'\n",
    "                    })            \n",
    "\n",
    "            dfs = dfs.append(temp)\n",
    "            print (\"loaded \", to_read)\n",
    "\n",
    "print (\"Milano files loaded\")"
   ]
  },
  {
   "cell_type": "code",
   "execution_count": null,
   "metadata": {
    "collapsed": false
   },
   "outputs": [],
   "source": [
    "\n",
    "dfs.index = dfs.cellId\n",
    "dfs.fillna(0, inplace=True)"
   ]
  },
  {
   "cell_type": "code",
   "execution_count": null,
   "metadata": {
    "collapsed": true
   },
   "outputs": [],
   "source": [
    "# loading the region-cell data\n",
    "table = pd.read_csv('../../data/CDR/hash/intersect.csv', header = None) \n",
    "table.columns = ['region', 'proportions']\n",
    "table.index = table.region\n",
    "table.sort_values(['region'], inplace=True)\n",
    "\n",
    "# loading the cell-proportion data\n",
    "prop_table = pd.read_csv('../../data/CDR/hash/cell_intersect.csv', header = None) \n",
    "prop_table.columns = ['cell', 'proportions']\n",
    "prop_table.index = prop_table.cell\n",
    "prop_table.sort_values(['cell'], inplace=True)\n",
    "\n",
    "def get_cells_per_region(table, region_id):\n",
    "    ids = table.iloc[region_id].proportions\n",
    "    ids = ast.literal_eval(table.get_value(region_id, \"proportions\"))\n",
    "    return ids.keys()\n",
    "\n",
    "def get_call_data(region, df):        \n",
    "    r_dict = get_cells_per_region(table, region)\n",
    "\n",
    "    subset = df[df.index.isin(r_dict)]\n",
    "            \n",
    "    return subset\n",
    "\n",
    "def calculate_actual_call(cell_id, region_id, call):\n",
    "    \"\"\"\n",
    "        Create another column on the subset DataFrame that is proportional to the regions.\n",
    "    \"\"\"\n",
    "    prop = ast.literal_eval(prop_table.get_value(int(cell_id), \"proportions\"))\n",
    "\n",
    "    try:\n",
    "        final = prop[str(region_id)] * float(call)\n",
    "    except:\n",
    "        final = 0\n",
    "    \n",
    "    return final"
   ]
  },
  {
   "cell_type": "code",
   "execution_count": null,
   "metadata": {
    "collapsed": false
   },
   "outputs": [],
   "source": [
    "# dfs['1101'].fillna(0, inplace=True)\n",
    "# dfs['1101'].columns = [\"cellId\", \"time\", \"countryCode\", \"smsIn\", \"smsOut\",\n",
    "#                    \"callIn\", \"callOut\", \"internet\"]\n",
    "\n",
    "# dfs['1101'] = dfs['1101'][dfs['1101']['countryCode'] != 0]\n",
    "# dfs['1101'].index = dfs['1101'].cellId"
   ]
  },
  {
   "cell_type": "code",
   "execution_count": null,
   "metadata": {
    "collapsed": false
   },
   "outputs": [],
   "source": [
    "dfs.head()"
   ]
  },
  {
   "cell_type": "code",
   "execution_count": null,
   "metadata": {
    "collapsed": false
   },
   "outputs": [],
   "source": [
    "len(tp)"
   ]
  },
  {
   "cell_type": "code",
   "execution_count": null,
   "metadata": {
    "collapsed": false
   },
   "outputs": [],
   "source": [
    "tp = dfs"
   ]
  },
  {
   "cell_type": "code",
   "execution_count": null,
   "metadata": {
    "collapsed": false
   },
   "outputs": [],
   "source": [
    "# change miliseconds to datetime\n",
    "tp.index = pd.to_datetime(tp['time'],unit='ms',utc=True)\n",
    "tp.index = tp.index.tz_localize('UTC').tz_convert('Europe/Rome')\n",
    "tp['date'] = tp.index\n",
    "tp['time_hour'] = tp.index.hour\n",
    "tp['month'] = tp.index.month\n",
    "tp['day'] = tp.index.day\n",
    "\n",
    "tp = tp.groupby(['cellId','month','day','time_hour'], as_index=False).agg({     \n",
    "            'time': 'min',\n",
    "            'smsIn': 'sum',\n",
    "            'smsOut': 'sum',\n",
    "            'callIn': 'sum',\n",
    "            'callOut': 'sum',\n",
    "            'internet': 'sum'\n",
    "        })\n",
    "tp.index = tp.cellId"
   ]
  },
  {
   "cell_type": "code",
   "execution_count": null,
   "metadata": {
    "collapsed": false
   },
   "outputs": [],
   "source": [
    "pd.options.mode.chained_assignment = None\n",
    "\n"
   ]
  },
  {
   "cell_type": "code",
   "execution_count": null,
   "metadata": {
    "collapsed": false
   },
   "outputs": [],
   "source": [
    "region_based = pd.DataFrame(columns=['region_id','time','adjusted_smsIn','adjusted_smsOut','adjusted_callIn','adjusted_callOut','adjusted_internet'])\n",
    "import ast\n",
    "import numpy as np\n",
    "for re in range(1, 86):\n",
    "    print(re)\n",
    "    subdf = get_call_data(re-1, tp)\n",
    "    subdf[\"region_id\"] = re\n",
    "    try:\n",
    "        subdf[\"adjusted_smsIn\"] = np.vectorize(calculate_actual_call)(subdf[\"cellId\"], subdf[\"region_id\"], subdf[\"smsIn\"])\n",
    "        subdf[\"adjusted_smsOut\"] = np.vectorize(calculate_actual_call)(subdf[\"cellId\"], subdf[\"region_id\"], subdf[\"smsOut\"])\n",
    "        subdf[\"adjusted_callIn\"] = np.vectorize(calculate_actual_call)(subdf[\"cellId\"], subdf[\"region_id\"], subdf[\"callIn\"])\n",
    "        subdf[\"adjusted_callOut\"] = np.vectorize(calculate_actual_call)(subdf[\"cellId\"], subdf[\"region_id\"], subdf[\"callOut\"])\n",
    "        subdf[\"adjusted_internet\"] = np.vectorize(calculate_actual_call)(subdf[\"cellId\"], subdf[\"region_id\"], subdf[\"internet\"])\n",
    "    except:\n",
    "        print (\"error in making a column...\")\n",
    "        continue\n",
    "        \n",
    "    # do aggregation for \n",
    "    subdf = subdf.groupby(\"time\").agg({\n",
    "                'region_id': 'first',\n",
    "                'adjusted_smsIn': 'sum',\n",
    "                'adjusted_smsOut': 'sum',\n",
    "                'adjusted_callIn': 'sum',\n",
    "                'adjusted_callOut': 'sum',\n",
    "                'adjusted_internet': 'sum'\n",
    "            })\n",
    "    \n",
    "    region_based = region_based.append(subdf)\n",
    "\n",
    "region_based.time = region_based.index\n"
   ]
  },
  {
   "cell_type": "code",
   "execution_count": null,
   "metadata": {
    "collapsed": false
   },
   "outputs": [],
   "source": [
    "internet = region_based.pivot(index='region_id', columns='time', values='adjusted_internet')"
   ]
  },
  {
   "cell_type": "code",
   "execution_count": null,
   "metadata": {
    "collapsed": false
   },
   "outputs": [],
   "source": [
    "internet.fillna(0, inplace=True)"
   ]
  },
  {
   "cell_type": "code",
   "execution_count": null,
   "metadata": {
    "collapsed": false
   },
   "outputs": [],
   "source": [
    "internet.head()"
   ]
  },
  {
   "cell_type": "code",
   "execution_count": null,
   "metadata": {
    "collapsed": true
   },
   "outputs": [],
   "source": []
  },
  {
   "cell_type": "code",
   "execution_count": null,
   "metadata": {
    "collapsed": false
   },
   "outputs": [],
   "source": [
    "x = internet.as_matrix()"
   ]
  },
  {
   "cell_type": "code",
   "execution_count": null,
   "metadata": {
    "collapsed": false
   },
   "outputs": [],
   "source": [
    "mean = np.mean(internet, 0)\n",
    "mean.count()"
   ]
  },
  {
   "cell_type": "code",
   "execution_count": null,
   "metadata": {
    "collapsed": false
   },
   "outputs": [],
   "source": [
    "x_prime = np.zeros(shape=(85,mean.count()))"
   ]
  },
  {
   "cell_type": "code",
   "execution_count": null,
   "metadata": {
    "collapsed": false
   },
   "outputs": [],
   "source": []
  },
  {
   "cell_type": "code",
   "execution_count": null,
   "metadata": {
    "collapsed": false
   },
   "outputs": [],
   "source": [
    "for i in range(0, 85):\n",
    "    x_prime[i] = x[i] - mean\n"
   ]
  },
  {
   "cell_type": "code",
   "execution_count": null,
   "metadata": {
    "collapsed": false
   },
   "outputs": [],
   "source": [
    "x_prime = np.transpose(x_prime)\n",
    "len(x_prime)\n",
    "xpp = pd.DataFrame(x_prime)"
   ]
  },
  {
   "cell_type": "code",
   "execution_count": null,
   "metadata": {
    "collapsed": false
   },
   "outputs": [],
   "source": [
    "xpp = pd.DataFrame(x_prime)\n",
    "corr = xpp.corr('pearson')\n",
    "corr.index = corr.index + 1\n",
    "corr.columns = range(1,86)"
   ]
  },
  {
   "cell_type": "code",
   "execution_count": null,
   "metadata": {
    "collapsed": false
   },
   "outputs": [],
   "source": [
    "corr.head()"
   ]
  },
  {
   "cell_type": "code",
   "execution_count": null,
   "metadata": {
    "collapsed": false
   },
   "outputs": [],
   "source": []
  },
  {
   "cell_type": "code",
   "execution_count": null,
   "metadata": {
    "collapsed": false
   },
   "outputs": [],
   "source": [
    "f = plt.figure(figsize=(12, 20))\n",
    "gs = plt.GridSpec(15, 1)\n",
    "map_ax = f.add_subplot(gs[0:-5])\n",
    "sns.heatmap(corr, ax=map_ax,\n",
    "            cbar_kws={\"orientation\": \"horizontal\"})\n",
    "map_ax.set(xlabel=\"Calls\");"
   ]
  },
  {
   "cell_type": "code",
   "execution_count": null,
   "metadata": {
    "collapsed": false
   },
   "outputs": [],
   "source": [
    "callIn = region_based.pivot(index='region_id', columns='time', values='adjusted_callIn')\n",
    "callIn.fillna(0, inplace=True)\n",
    "x = callIn.as_matrix()\n",
    "mean = np.mean(callIn, 0)\n",
    "x_prime = np.zeros(shape=(85, mean.count()))\n",
    "for i in range(0, 85):\n",
    "    x_prime[i] = x[i] - mean\n",
    "x_prime = np.transpose(x_prime)\n",
    "\n",
    "xpp = pd.DataFrame(x_prime)\n",
    "corr = xpp.corr('pearson')\n",
    "corr.index = corr.index + 1\n",
    "corr.columns = range(1,86)\n",
    "\n",
    "f = plt.figure(figsize=(12, 20))\n",
    "gs = plt.GridSpec(15, 1)\n",
    "map_ax = f.add_subplot(gs[0:-5])\n",
    "sns.heatmap(corr, ax=map_ax,\n",
    "            cbar_kws={\"orientation\": \"horizontal\"})\n",
    "map_ax.set(xlabel=\"Call-In\");"
   ]
  },
  {
   "cell_type": "code",
   "execution_count": null,
   "metadata": {
    "collapsed": true
   },
   "outputs": [],
   "source": []
  }
 ],
 "metadata": {
  "anaconda-cloud": {},
  "kernelspec": {
   "display_name": "Python 3",
   "language": "python",
   "name": "python3"
  },
  "language_info": {
   "codemirror_mode": {
    "name": "ipython",
    "version": 3
   },
   "file_extension": ".py",
   "mimetype": "text/x-python",
   "name": "python",
   "nbconvert_exporter": "python",
   "pygments_lexer": "ipython3",
   "version": "3.5.1"
  }
 },
 "nbformat": 4,
 "nbformat_minor": 0
}
