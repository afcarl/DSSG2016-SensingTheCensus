{
 "cells": [
  {
   "cell_type": "code",
   "execution_count": 1,
   "metadata": {
    "collapsed": false
   },
   "outputs": [
    {
     "name": "stdout",
     "output_type": "stream",
     "text": [
      "Libraries loaded\n",
      "loaded  ../../data/CDR/sms-call-internet-mi-2013-12-01.txt\n",
      "loaded  ../../data/CDR/sms-call-internet-mi-2013-12-02.txt\n",
      "loaded  ../../data/CDR/sms-call-internet-mi-2013-12-03.txt\n",
      "loaded  ../../data/CDR/sms-call-internet-mi-2013-12-04.txt\n",
      "loaded  ../../data/CDR/sms-call-internet-mi-2013-12-05.txt\n",
      "loaded  ../../data/CDR/sms-call-internet-mi-2013-12-06.txt\n",
      "loaded  ../../data/CDR/sms-call-internet-mi-2013-12-07.txt\n",
      "loaded  ../../data/CDR/sms-call-internet-mi-2013-12-08.txt\n",
      "loaded  ../../data/CDR/sms-call-internet-mi-2013-12-09.txt\n",
      "loaded  ../../data/CDR/sms-call-internet-mi-2013-12-10.txt\n",
      "loaded  ../../data/CDR/sms-call-internet-mi-2013-12-11.txt\n",
      "loaded  ../../data/CDR/sms-call-internet-mi-2013-12-12.txt\n",
      "loaded  ../../data/CDR/sms-call-internet-mi-2013-12-13.txt\n",
      "loaded  ../../data/CDR/sms-call-internet-mi-2013-12-14.txt\n",
      "loaded  ../../data/CDR/sms-call-internet-mi-2013-12-15.txt\n",
      "loaded  ../../data/CDR/sms-call-internet-mi-2013-12-16.txt\n",
      "loaded  ../../data/CDR/sms-call-internet-mi-2013-12-17.txt\n",
      "loaded  ../../data/CDR/sms-call-internet-mi-2013-12-18.txt\n",
      "loaded  ../../data/CDR/sms-call-internet-mi-2013-12-19.txt\n",
      "loaded  ../../data/CDR/sms-call-internet-mi-2013-12-20.txt\n",
      "loaded  ../../data/CDR/sms-call-internet-mi-2013-12-21.txt\n",
      "loaded  ../../data/CDR/sms-call-internet-mi-2013-12-22.txt\n",
      "loaded  ../../data/CDR/sms-call-internet-mi-2013-12-23.txt\n",
      "loaded  ../../data/CDR/sms-call-internet-mi-2013-12-24.txt\n",
      "loaded  ../../data/CDR/sms-call-internet-mi-2013-12-25.txt\n",
      "loaded  ../../data/CDR/sms-call-internet-mi-2013-12-26.txt\n",
      "loaded  ../../data/CDR/sms-call-internet-mi-2013-12-27.txt\n",
      "loaded  ../../data/CDR/sms-call-internet-mi-2013-12-28.txt\n",
      "loaded  ../../data/CDR/sms-call-internet-mi-2013-12-29.txt\n",
      "loaded  ../../data/CDR/sms-call-internet-mi-2013-12-30.txt\n",
      "loaded  ../../data/CDR/sms-call-internet-mi-2013-12-31.txt\n",
      "loaded  ../../data/CDR/sms-call-internet-mi-2013-11-01.txt\n",
      "loaded  ../../data/CDR/sms-call-internet-mi-2013-11-02.txt\n",
      "loaded  ../../data/CDR/sms-call-internet-mi-2013-11-03.txt\n",
      "loaded  ../../data/CDR/sms-call-internet-mi-2013-11-04.txt\n",
      "loaded  ../../data/CDR/sms-call-internet-mi-2013-11-05.txt\n",
      "loaded  ../../data/CDR/sms-call-internet-mi-2013-11-06.txt\n",
      "loaded  ../../data/CDR/sms-call-internet-mi-2013-11-07.txt\n",
      "loaded  ../../data/CDR/sms-call-internet-mi-2013-11-08.txt\n",
      "loaded  ../../data/CDR/sms-call-internet-mi-2013-11-09.txt\n",
      "loaded  ../../data/CDR/sms-call-internet-mi-2013-11-10.txt\n",
      "loaded  ../../data/CDR/sms-call-internet-mi-2013-11-11.txt\n",
      "loaded  ../../data/CDR/sms-call-internet-mi-2013-11-12.txt\n",
      "loaded  ../../data/CDR/sms-call-internet-mi-2013-11-13.txt\n",
      "loaded  ../../data/CDR/sms-call-internet-mi-2013-11-14.txt\n",
      "loaded  ../../data/CDR/sms-call-internet-mi-2013-11-15.txt\n",
      "loaded  ../../data/CDR/sms-call-internet-mi-2013-11-16.txt\n",
      "loaded  ../../data/CDR/sms-call-internet-mi-2013-11-17.txt\n",
      "loaded  ../../data/CDR/sms-call-internet-mi-2013-11-18.txt\n",
      "loaded  ../../data/CDR/sms-call-internet-mi-2013-11-19.txt\n",
      "loaded  ../../data/CDR/sms-call-internet-mi-2013-11-20.txt\n",
      "loaded  ../../data/CDR/sms-call-internet-mi-2013-11-21.txt\n",
      "loaded  ../../data/CDR/sms-call-internet-mi-2013-11-22.txt\n",
      "loaded  ../../data/CDR/sms-call-internet-mi-2013-11-23.txt\n",
      "loaded  ../../data/CDR/sms-call-internet-mi-2013-11-24.txt\n",
      "loaded  ../../data/CDR/sms-call-internet-mi-2013-11-25.txt\n",
      "loaded  ../../data/CDR/sms-call-internet-mi-2013-11-26.txt\n",
      "loaded  ../../data/CDR/sms-call-internet-mi-2013-11-27.txt\n",
      "loaded  ../../data/CDR/sms-call-internet-mi-2013-11-28.txt\n",
      "loaded  ../../data/CDR/sms-call-internet-mi-2013-11-29.txt\n",
      "loaded  ../../data/CDR/sms-call-internet-mi-2013-11-30.txt\n",
      "Milano files loaded\n"
     ]
    }
   ],
   "source": [
    "%matplotlib inline\n",
    "\n",
    "import sys\n",
    "sys.path.append('../python/')\n",
    "\n",
    "import seaborn as sns\n",
    "import matplotlib.pyplot as plt\n",
    "import pandas as pd\n",
    "import imp\n",
    "import cdr\n",
    "import json\n",
    "import os.path\n",
    "from scipy.spatial.distance import cosine\n",
    "from pandas.io.json import json_normalize\n",
    "\n",
    "imp.reload(cdr)\n",
    "\n",
    "print (\"Libraries loaded\")\n",
    "\n",
    "dfs = pd.DataFrame(columns=[\"cellId\", \"time\", \"countryCode\", \"smsIn\", \"smsOut\",\"callIn\", \"callOut\", \"internet\"])\n",
    "\n",
    "# Read all the files in Milano\n",
    "for month in {\"11\",\"12\"}:\n",
    "    for day in range(1, 32):\n",
    "        to_read = '../../data/CDR/sms-call-internet-mi-2013-' + month + '-' +\\\n",
    "                    str(day).zfill(2) + '.txt'\n",
    "        \n",
    "        if os.path.isfile(to_read):\n",
    "            temp = pd.read_csv(to_read, delimiter='\\t', header=None)\n",
    "            temp.columns = [\"cellId\", \"time\", \"countryCode\", \"smsIn\", \"smsOut\",\"callIn\", \"callOut\", \"internet\"]\n",
    "            temp = temp[temp['countryCode'] != 0]\n",
    "            temp = temp.groupby(['cellId','time'], as_index=False).agg({                        \n",
    "                    'smsIn': 'sum',\n",
    "                    'smsOut': 'sum',\n",
    "                    'callIn': 'sum',\n",
    "                    'callOut': 'sum',\n",
    "                    'internet': 'sum'\n",
    "                })\n",
    "            dfs = dfs.append(temp)\n",
    "            print (\"loaded \", to_read)\n",
    "\n",
    "print (\"Milano files loaded\")\n",
    "\n",
    "# dfs['1101'] = pd.read_csv('../../data/CDR/sms-call-internet-mi-2013-11-01.txt', delimiter='\\t', header=None) \n",
    "# file = '../../data/GeoJSON/milano-grid.geojson'\n",
    "# with open(file) as f:\n",
    "#     grid = pd.read_json(f, typ='Series')\n",
    "\n",
    "# print (\"Grid file loaded\")\n",
    "\n"
   ]
  },
  {
   "cell_type": "code",
   "execution_count": 2,
   "metadata": {
    "collapsed": false
   },
   "outputs": [],
   "source": [
    "\n",
    "dfs.index = dfs.cellId\n",
    "dfs.fillna(0, inplace=True)"
   ]
  },
  {
   "cell_type": "code",
   "execution_count": 3,
   "metadata": {
    "collapsed": true
   },
   "outputs": [],
   "source": [
    "# loading the region-cell data\n",
    "table = pd.read_csv('../../data/CDR/hash/intersect.csv', header = None) \n",
    "table.columns = ['region', 'proportions']\n",
    "table.index = table.region\n",
    "table.sort_values(['region'], inplace=True)\n",
    "\n",
    "# loading the cell-proportion data\n",
    "prop_table = pd.read_csv('../../data/CDR/hash/cell_intersect.csv', header = None) \n",
    "prop_table.columns = ['cell', 'proportions']\n",
    "prop_table.index = prop_table.cell\n",
    "prop_table.sort_values(['cell'], inplace=True)\n",
    "\n",
    "def get_cells_per_region(table, region_id):\n",
    "    ids = table.iloc[region_id].proportions\n",
    "    ids = ast.literal_eval(table.get_value(region_id, \"proportions\"))\n",
    "    return ids.keys()\n",
    "\n",
    "def get_call_data(region, df):        \n",
    "    r_dict = get_cells_per_region(table, region)\n",
    "\n",
    "    subset = df[df.index.isin(r_dict)]\n",
    "            \n",
    "    return subset\n",
    "\n",
    "def calculate_actual_call(cell_id, region_id, call):\n",
    "    \"\"\"\n",
    "        Create another column on the subset DataFrame that is proportional to the regions.\n",
    "    \"\"\"\n",
    "    prop = ast.literal_eval(prop_table.get_value(int(cell_id), \"proportions\"))\n",
    "\n",
    "    try:\n",
    "        final = prop[str(region_id)] * float(call)\n",
    "    except:\n",
    "        final = 0\n",
    "    \n",
    "    return final"
   ]
  },
  {
   "cell_type": "code",
   "execution_count": 4,
   "metadata": {
    "collapsed": false
   },
   "outputs": [],
   "source": [
    "# dfs['1101'].fillna(0, inplace=True)\n",
    "# dfs['1101'].columns = [\"cellId\", \"time\", \"countryCode\", \"smsIn\", \"smsOut\",\n",
    "#                    \"callIn\", \"callOut\", \"internet\"]\n",
    "\n",
    "# dfs['1101'] = dfs['1101'][dfs['1101']['countryCode'] != 0]\n",
    "# dfs['1101'].index = dfs['1101'].cellId"
   ]
  },
  {
   "cell_type": "code",
   "execution_count": 5,
   "metadata": {
    "collapsed": false
   },
   "outputs": [
    {
     "data": {
      "text/html": [
       "<div>\n",
       "<table border=\"1\" class=\"dataframe\">\n",
       "  <thead>\n",
       "    <tr style=\"text-align: right;\">\n",
       "      <th></th>\n",
       "      <th>callIn</th>\n",
       "      <th>callOut</th>\n",
       "      <th>cellId</th>\n",
       "      <th>countryCode</th>\n",
       "      <th>internet</th>\n",
       "      <th>smsIn</th>\n",
       "      <th>smsOut</th>\n",
       "      <th>time</th>\n",
       "    </tr>\n",
       "    <tr>\n",
       "      <th>cellId</th>\n",
       "      <th></th>\n",
       "      <th></th>\n",
       "      <th></th>\n",
       "      <th></th>\n",
       "      <th></th>\n",
       "      <th></th>\n",
       "      <th></th>\n",
       "      <th></th>\n",
       "    </tr>\n",
       "  </thead>\n",
       "  <tbody>\n",
       "    <tr>\n",
       "      <th>1.0</th>\n",
       "      <td>0.109202</td>\n",
       "      <td>0.164427</td>\n",
       "      <td>1.0</td>\n",
       "      <td>0</td>\n",
       "      <td>13.674575</td>\n",
       "      <td>0.110989</td>\n",
       "      <td>0.166214</td>\n",
       "      <td>1.385852e+12</td>\n",
       "    </tr>\n",
       "    <tr>\n",
       "      <th>1.0</th>\n",
       "      <td>0.030875</td>\n",
       "      <td>0.027300</td>\n",
       "      <td>1.0</td>\n",
       "      <td>0</td>\n",
       "      <td>13.330858</td>\n",
       "      <td>0.165137</td>\n",
       "      <td>0.176399</td>\n",
       "      <td>1.385853e+12</td>\n",
       "    </tr>\n",
       "    <tr>\n",
       "      <th>1.0</th>\n",
       "      <td>0.054601</td>\n",
       "      <td>0.000000</td>\n",
       "      <td>1.0</td>\n",
       "      <td>0</td>\n",
       "      <td>11.329552</td>\n",
       "      <td>0.186451</td>\n",
       "      <td>0.136588</td>\n",
       "      <td>1.385854e+12</td>\n",
       "    </tr>\n",
       "    <tr>\n",
       "      <th>1.0</th>\n",
       "      <td>0.082526</td>\n",
       "      <td>0.135964</td>\n",
       "      <td>1.0</td>\n",
       "      <td>0</td>\n",
       "      <td>13.166163</td>\n",
       "      <td>0.219652</td>\n",
       "      <td>0.381129</td>\n",
       "      <td>1.385854e+12</td>\n",
       "    </tr>\n",
       "    <tr>\n",
       "      <th>1.0</th>\n",
       "      <td>0.054601</td>\n",
       "      <td>0.079575</td>\n",
       "      <td>1.0</td>\n",
       "      <td>0</td>\n",
       "      <td>13.347791</td>\n",
       "      <td>0.295114</td>\n",
       "      <td>0.110450</td>\n",
       "      <td>1.385855e+12</td>\n",
       "    </tr>\n",
       "  </tbody>\n",
       "</table>\n",
       "</div>"
      ],
      "text/plain": [
       "          callIn   callOut  cellId  countryCode   internet     smsIn  \\\n",
       "cellId                                                                 \n",
       "1.0     0.109202  0.164427     1.0            0  13.674575  0.110989   \n",
       "1.0     0.030875  0.027300     1.0            0  13.330858  0.165137   \n",
       "1.0     0.054601  0.000000     1.0            0  11.329552  0.186451   \n",
       "1.0     0.082526  0.135964     1.0            0  13.166163  0.219652   \n",
       "1.0     0.054601  0.079575     1.0            0  13.347791  0.295114   \n",
       "\n",
       "          smsOut          time  \n",
       "cellId                          \n",
       "1.0     0.166214  1.385852e+12  \n",
       "1.0     0.176399  1.385853e+12  \n",
       "1.0     0.136588  1.385854e+12  \n",
       "1.0     0.381129  1.385854e+12  \n",
       "1.0     0.110450  1.385855e+12  "
      ]
     },
     "execution_count": 5,
     "metadata": {},
     "output_type": "execute_result"
    }
   ],
   "source": [
    "dfs.head()"
   ]
  },
  {
   "cell_type": "code",
   "execution_count": null,
   "metadata": {
    "collapsed": false
   },
   "outputs": [],
   "source": []
  },
  {
   "cell_type": "code",
   "execution_count": 6,
   "metadata": {
    "collapsed": false
   },
   "outputs": [],
   "source": [
    "tp = dfs"
   ]
  },
  {
   "cell_type": "code",
   "execution_count": 7,
   "metadata": {
    "collapsed": false
   },
   "outputs": [],
   "source": [
    "# change miliseconds to datetime\n",
    "tp.index = pd.to_datetime(tp['time'],unit='ms',utc=True)\n",
    "tp.index = tp.index.tz_localize('UTC').tz_convert('Europe/Rome')\n",
    "tp['date'] = tp.index\n",
    "tp['time_hour'] = tp.index.hour\n",
    "tp['month'] = tp.index.month\n",
    "tp['day'] = tp.index.day"
   ]
  },
  {
   "cell_type": "code",
   "execution_count": 8,
   "metadata": {
    "collapsed": false
   },
   "outputs": [],
   "source": [
    "tp = tp.groupby(['cellId','month','day','time_hour'], as_index=False).agg({     \n",
    "            'time': 'min',\n",
    "            'smsIn': 'sum',\n",
    "            'smsOut': 'sum',\n",
    "            'callIn': 'sum',\n",
    "            'callOut': 'sum',\n",
    "            'internet': 'sum'\n",
    "        })\n",
    "tp.index = tp.cellId"
   ]
  },
  {
   "cell_type": "code",
   "execution_count": 9,
   "metadata": {
    "collapsed": false
   },
   "outputs": [],
   "source": [
    "pd.options.mode.chained_assignment = None\n",
    "\n"
   ]
  },
  {
   "cell_type": "code",
   "execution_count": 10,
   "metadata": {
    "collapsed": false
   },
   "outputs": [
    {
     "name": "stdout",
     "output_type": "stream",
     "text": [
      "1\n",
      "2\n",
      "3\n",
      "4\n",
      "5\n",
      "6\n",
      "7\n",
      "8\n",
      "9\n",
      "10\n",
      "11\n",
      "12\n",
      "13\n",
      "14\n",
      "15\n",
      "16\n",
      "17\n",
      "18\n",
      "19\n",
      "20\n",
      "21\n",
      "22\n",
      "23\n",
      "24\n",
      "25\n",
      "26\n",
      "27\n",
      "28\n",
      "29\n",
      "30\n",
      "31\n",
      "32\n",
      "33\n",
      "34\n",
      "35\n",
      "36\n",
      "37\n",
      "38\n",
      "39\n",
      "40\n",
      "41\n",
      "42\n",
      "43\n",
      "44\n",
      "45\n",
      "46\n",
      "47\n",
      "48\n",
      "49\n",
      "50\n",
      "51\n",
      "52\n",
      "53\n",
      "54\n",
      "55\n",
      "56\n",
      "57\n",
      "58\n",
      "59\n",
      "60\n",
      "61\n",
      "62\n",
      "63\n",
      "64\n",
      "65\n",
      "66\n",
      "67\n",
      "68\n",
      "69\n",
      "70\n",
      "71\n",
      "72\n",
      "73\n",
      "74\n",
      "75\n",
      "76\n",
      "77\n",
      "78\n",
      "79\n",
      "80\n",
      "81\n",
      "82\n",
      "83\n",
      "84\n",
      "85\n"
     ]
    },
    {
     "ename": "IndexError",
     "evalue": "single positional indexer is out-of-bounds",
     "output_type": "error",
     "traceback": [
      "\u001b[1;31m---------------------------------------------------------------------------\u001b[0m",
      "\u001b[1;31mIndexError\u001b[0m                                Traceback (most recent call last)",
      "\u001b[1;32m<ipython-input-10-2ab30fb98c20>\u001b[0m in \u001b[0;36m<module>\u001b[1;34m()\u001b[0m\n\u001b[0;32m      4\u001b[0m \u001b[1;32mfor\u001b[0m \u001b[0mre\u001b[0m \u001b[1;32min\u001b[0m \u001b[0mrange\u001b[0m\u001b[1;33m(\u001b[0m\u001b[1;36m1\u001b[0m\u001b[1;33m,\u001b[0m \u001b[1;36m86\u001b[0m\u001b[1;33m)\u001b[0m\u001b[1;33m:\u001b[0m\u001b[1;33m\u001b[0m\u001b[0m\n\u001b[0;32m      5\u001b[0m     \u001b[0mprint\u001b[0m\u001b[1;33m(\u001b[0m\u001b[0mre\u001b[0m\u001b[1;33m)\u001b[0m\u001b[1;33m\u001b[0m\u001b[0m\n\u001b[1;32m----> 6\u001b[1;33m     \u001b[0msubdf\u001b[0m \u001b[1;33m=\u001b[0m \u001b[0mget_call_data\u001b[0m\u001b[1;33m(\u001b[0m\u001b[0mre\u001b[0m\u001b[1;33m,\u001b[0m \u001b[0mtp\u001b[0m\u001b[1;33m)\u001b[0m\u001b[1;33m\u001b[0m\u001b[0m\n\u001b[0m\u001b[0;32m      7\u001b[0m     \u001b[0msubdf\u001b[0m\u001b[1;33m[\u001b[0m\u001b[1;34m\"region_id\"\u001b[0m\u001b[1;33m]\u001b[0m \u001b[1;33m=\u001b[0m \u001b[0mre\u001b[0m\u001b[1;33m\u001b[0m\u001b[0m\n\u001b[0;32m      8\u001b[0m     \u001b[1;32mtry\u001b[0m\u001b[1;33m:\u001b[0m\u001b[1;33m\u001b[0m\u001b[0m\n",
      "\u001b[1;32m<ipython-input-3-2c4d2a008285>\u001b[0m in \u001b[0;36mget_call_data\u001b[1;34m(region, df)\u001b[0m\n\u001b[0;32m     17\u001b[0m \u001b[1;33m\u001b[0m\u001b[0m\n\u001b[0;32m     18\u001b[0m \u001b[1;32mdef\u001b[0m \u001b[0mget_call_data\u001b[0m\u001b[1;33m(\u001b[0m\u001b[0mregion\u001b[0m\u001b[1;33m,\u001b[0m \u001b[0mdf\u001b[0m\u001b[1;33m)\u001b[0m\u001b[1;33m:\u001b[0m\u001b[1;33m\u001b[0m\u001b[0m\n\u001b[1;32m---> 19\u001b[1;33m     \u001b[0mr_dict\u001b[0m \u001b[1;33m=\u001b[0m \u001b[0mget_cells_per_region\u001b[0m\u001b[1;33m(\u001b[0m\u001b[0mtable\u001b[0m\u001b[1;33m,\u001b[0m \u001b[0mregion\u001b[0m\u001b[1;33m)\u001b[0m\u001b[1;33m\u001b[0m\u001b[0m\n\u001b[0m\u001b[0;32m     20\u001b[0m \u001b[1;33m\u001b[0m\u001b[0m\n\u001b[0;32m     21\u001b[0m     \u001b[0msubset\u001b[0m \u001b[1;33m=\u001b[0m \u001b[0mdf\u001b[0m\u001b[1;33m[\u001b[0m\u001b[0mdf\u001b[0m\u001b[1;33m.\u001b[0m\u001b[0mindex\u001b[0m\u001b[1;33m.\u001b[0m\u001b[0misin\u001b[0m\u001b[1;33m(\u001b[0m\u001b[0mr_dict\u001b[0m\u001b[1;33m)\u001b[0m\u001b[1;33m]\u001b[0m\u001b[1;33m\u001b[0m\u001b[0m\n",
      "\u001b[1;32m<ipython-input-3-2c4d2a008285>\u001b[0m in \u001b[0;36mget_cells_per_region\u001b[1;34m(table, region_id)\u001b[0m\n\u001b[0;32m     12\u001b[0m \u001b[1;33m\u001b[0m\u001b[0m\n\u001b[0;32m     13\u001b[0m \u001b[1;32mdef\u001b[0m \u001b[0mget_cells_per_region\u001b[0m\u001b[1;33m(\u001b[0m\u001b[0mtable\u001b[0m\u001b[1;33m,\u001b[0m \u001b[0mregion_id\u001b[0m\u001b[1;33m)\u001b[0m\u001b[1;33m:\u001b[0m\u001b[1;33m\u001b[0m\u001b[0m\n\u001b[1;32m---> 14\u001b[1;33m     \u001b[0mids\u001b[0m \u001b[1;33m=\u001b[0m \u001b[0mtable\u001b[0m\u001b[1;33m.\u001b[0m\u001b[0miloc\u001b[0m\u001b[1;33m[\u001b[0m\u001b[0mregion_id\u001b[0m\u001b[1;33m]\u001b[0m\u001b[1;33m.\u001b[0m\u001b[0mproportions\u001b[0m\u001b[1;33m\u001b[0m\u001b[0m\n\u001b[0m\u001b[0;32m     15\u001b[0m     \u001b[0mids\u001b[0m \u001b[1;33m=\u001b[0m \u001b[0mast\u001b[0m\u001b[1;33m.\u001b[0m\u001b[0mliteral_eval\u001b[0m\u001b[1;33m(\u001b[0m\u001b[0mtable\u001b[0m\u001b[1;33m.\u001b[0m\u001b[0mget_value\u001b[0m\u001b[1;33m(\u001b[0m\u001b[0mregion_id\u001b[0m\u001b[1;33m,\u001b[0m \u001b[1;34m\"proportions\"\u001b[0m\u001b[1;33m)\u001b[0m\u001b[1;33m)\u001b[0m\u001b[1;33m\u001b[0m\u001b[0m\n\u001b[0;32m     16\u001b[0m     \u001b[1;32mreturn\u001b[0m \u001b[0mids\u001b[0m\u001b[1;33m.\u001b[0m\u001b[0mkeys\u001b[0m\u001b[1;33m(\u001b[0m\u001b[1;33m)\u001b[0m\u001b[1;33m\u001b[0m\u001b[0m\n",
      "\u001b[1;32m/home/ubuntu/anaconda3/lib/python3.5/site-packages/pandas/core/indexing.py\u001b[0m in \u001b[0;36m__getitem__\u001b[1;34m(self, key)\u001b[0m\n\u001b[0;32m   1294\u001b[0m             \u001b[1;32mreturn\u001b[0m \u001b[0mself\u001b[0m\u001b[1;33m.\u001b[0m\u001b[0m_getitem_tuple\u001b[0m\u001b[1;33m(\u001b[0m\u001b[0mkey\u001b[0m\u001b[1;33m)\u001b[0m\u001b[1;33m\u001b[0m\u001b[0m\n\u001b[0;32m   1295\u001b[0m         \u001b[1;32melse\u001b[0m\u001b[1;33m:\u001b[0m\u001b[1;33m\u001b[0m\u001b[0m\n\u001b[1;32m-> 1296\u001b[1;33m             \u001b[1;32mreturn\u001b[0m \u001b[0mself\u001b[0m\u001b[1;33m.\u001b[0m\u001b[0m_getitem_axis\u001b[0m\u001b[1;33m(\u001b[0m\u001b[0mkey\u001b[0m\u001b[1;33m,\u001b[0m \u001b[0maxis\u001b[0m\u001b[1;33m=\u001b[0m\u001b[1;36m0\u001b[0m\u001b[1;33m)\u001b[0m\u001b[1;33m\u001b[0m\u001b[0m\n\u001b[0m\u001b[0;32m   1297\u001b[0m \u001b[1;33m\u001b[0m\u001b[0m\n\u001b[0;32m   1298\u001b[0m     \u001b[1;32mdef\u001b[0m \u001b[0m_getitem_axis\u001b[0m\u001b[1;33m(\u001b[0m\u001b[0mself\u001b[0m\u001b[1;33m,\u001b[0m \u001b[0mkey\u001b[0m\u001b[1;33m,\u001b[0m \u001b[0maxis\u001b[0m\u001b[1;33m=\u001b[0m\u001b[1;36m0\u001b[0m\u001b[1;33m)\u001b[0m\u001b[1;33m:\u001b[0m\u001b[1;33m\u001b[0m\u001b[0m\n",
      "\u001b[1;32m/home/ubuntu/anaconda3/lib/python3.5/site-packages/pandas/core/indexing.py\u001b[0m in \u001b[0;36m_getitem_axis\u001b[1;34m(self, key, axis)\u001b[0m\n\u001b[0;32m   1610\u001b[0m \u001b[1;33m\u001b[0m\u001b[0m\n\u001b[0;32m   1611\u001b[0m                 \u001b[1;31m# validate the location\u001b[0m\u001b[1;33m\u001b[0m\u001b[1;33m\u001b[0m\u001b[0m\n\u001b[1;32m-> 1612\u001b[1;33m                 \u001b[0mself\u001b[0m\u001b[1;33m.\u001b[0m\u001b[0m_is_valid_integer\u001b[0m\u001b[1;33m(\u001b[0m\u001b[0mkey\u001b[0m\u001b[1;33m,\u001b[0m \u001b[0maxis\u001b[0m\u001b[1;33m)\u001b[0m\u001b[1;33m\u001b[0m\u001b[0m\n\u001b[0m\u001b[0;32m   1613\u001b[0m \u001b[1;33m\u001b[0m\u001b[0m\n\u001b[0;32m   1614\u001b[0m             \u001b[1;32mreturn\u001b[0m \u001b[0mself\u001b[0m\u001b[1;33m.\u001b[0m\u001b[0m_get_loc\u001b[0m\u001b[1;33m(\u001b[0m\u001b[0mkey\u001b[0m\u001b[1;33m,\u001b[0m \u001b[0maxis\u001b[0m\u001b[1;33m=\u001b[0m\u001b[0maxis\u001b[0m\u001b[1;33m)\u001b[0m\u001b[1;33m\u001b[0m\u001b[0m\n",
      "\u001b[1;32m/home/ubuntu/anaconda3/lib/python3.5/site-packages/pandas/core/indexing.py\u001b[0m in \u001b[0;36m_is_valid_integer\u001b[1;34m(self, key, axis)\u001b[0m\n\u001b[0;32m   1524\u001b[0m         \u001b[0ml\u001b[0m \u001b[1;33m=\u001b[0m \u001b[0mlen\u001b[0m\u001b[1;33m(\u001b[0m\u001b[0max\u001b[0m\u001b[1;33m)\u001b[0m\u001b[1;33m\u001b[0m\u001b[0m\n\u001b[0;32m   1525\u001b[0m         \u001b[1;32mif\u001b[0m \u001b[0mkey\u001b[0m \u001b[1;33m>=\u001b[0m \u001b[0ml\u001b[0m \u001b[1;32mor\u001b[0m \u001b[0mkey\u001b[0m \u001b[1;33m<\u001b[0m \u001b[1;33m-\u001b[0m\u001b[0ml\u001b[0m\u001b[1;33m:\u001b[0m\u001b[1;33m\u001b[0m\u001b[0m\n\u001b[1;32m-> 1526\u001b[1;33m             \u001b[1;32mraise\u001b[0m \u001b[0mIndexError\u001b[0m\u001b[1;33m(\u001b[0m\u001b[1;34m\"single positional indexer is out-of-bounds\"\u001b[0m\u001b[1;33m)\u001b[0m\u001b[1;33m\u001b[0m\u001b[0m\n\u001b[0m\u001b[0;32m   1527\u001b[0m         \u001b[1;32mreturn\u001b[0m \u001b[1;32mTrue\u001b[0m\u001b[1;33m\u001b[0m\u001b[0m\n\u001b[0;32m   1528\u001b[0m \u001b[1;33m\u001b[0m\u001b[0m\n",
      "\u001b[1;31mIndexError\u001b[0m: single positional indexer is out-of-bounds"
     ]
    }
   ],
   "source": [
    "region_based = pd.DataFrame(columns=['region_id','time','adjusted_smsIn','adjusted_smsOut','adjusted_callIn','adjusted_callOut','adjusted_internet'])\n",
    "import ast\n",
    "import numpy as np\n",
    "for re in range(1, 86):\n",
    "    print(re)\n",
    "    subdf = get_call_data(re, tp)\n",
    "    subdf[\"region_id\"] = re\n",
    "    try:\n",
    "        subdf[\"adjusted_smsIn\"] = np.vectorize(calculate_actual_call)(subdf[\"cellId\"], subdf[\"region_id\"], subdf[\"smsIn\"])\n",
    "        subdf[\"adjusted_smsOut\"] = np.vectorize(calculate_actual_call)(subdf[\"cellId\"], subdf[\"region_id\"], subdf[\"smsOut\"])\n",
    "        subdf[\"adjusted_callIn\"] = np.vectorize(calculate_actual_call)(subdf[\"cellId\"], subdf[\"region_id\"], subdf[\"callIn\"])\n",
    "        subdf[\"adjusted_callOut\"] = np.vectorize(calculate_actual_call)(subdf[\"cellId\"], subdf[\"region_id\"], subdf[\"callOut\"])\n",
    "        subdf[\"adjusted_internet\"] = np.vectorize(calculate_actual_call)(subdf[\"cellId\"], subdf[\"region_id\"], subdf[\"internet\"])\n",
    "    except:\n",
    "        print (\"error in making a column...\")\n",
    "        continue\n",
    "        \n",
    "    # do aggregation for \n",
    "    subdf = subdf.groupby(\"time\").agg({\n",
    "                'region_id': 'first',\n",
    "                'adjusted_smsIn': 'sum',\n",
    "                'adjusted_smsOut': 'sum',\n",
    "                'adjusted_callIn': 'sum',\n",
    "                'adjusted_callOut': 'sum',\n",
    "                'adjusted_internet': 'sum'\n",
    "            })\n",
    "    \n",
    "    region_based = region_based.append(subdf)\n",
    "\n",
    "region_based.time = region_based.index\n"
   ]
  },
  {
   "cell_type": "code",
   "execution_count": null,
   "metadata": {
    "collapsed": false
   },
   "outputs": [],
   "source": [
    "internet = region_based.pivot(index='region_id', columns='time', values='adjusted_internet')"
   ]
  },
  {
   "cell_type": "code",
   "execution_count": null,
   "metadata": {
    "collapsed": false
   },
   "outputs": [],
   "source": [
    "internet.fillna(0, inplace=True)"
   ]
  },
  {
   "cell_type": "code",
   "execution_count": null,
   "metadata": {
    "collapsed": false
   },
   "outputs": [],
   "source": [
    "internet.head()"
   ]
  },
  {
   "cell_type": "code",
   "execution_count": null,
   "metadata": {
    "collapsed": true
   },
   "outputs": [],
   "source": []
  },
  {
   "cell_type": "code",
   "execution_count": null,
   "metadata": {
    "collapsed": false
   },
   "outputs": [],
   "source": [
    "x = internet.as_matrix()"
   ]
  },
  {
   "cell_type": "code",
   "execution_count": null,
   "metadata": {
    "collapsed": false
   },
   "outputs": [],
   "source": [
    "mean = np.mean(internet, 0)\n",
    "mean.count()"
   ]
  },
  {
   "cell_type": "code",
   "execution_count": null,
   "metadata": {
    "collapsed": false
   },
   "outputs": [],
   "source": [
    "x_prime = np.zeros(shape=(85,mean.count()))"
   ]
  },
  {
   "cell_type": "code",
   "execution_count": null,
   "metadata": {
    "collapsed": false
   },
   "outputs": [],
   "source": []
  },
  {
   "cell_type": "code",
   "execution_count": null,
   "metadata": {
    "collapsed": false
   },
   "outputs": [],
   "source": [
    "for i in range(0, 85):\n",
    "    x_prime[i] = x[i] - mean\n"
   ]
  },
  {
   "cell_type": "code",
   "execution_count": null,
   "metadata": {
    "collapsed": false
   },
   "outputs": [],
   "source": [
    "x_prime = np.transpose(x_prime)\n",
    "len(x_prime)"
   ]
  },
  {
   "cell_type": "code",
   "execution_count": null,
   "metadata": {
    "collapsed": false
   },
   "outputs": [],
   "source": [
    "xpp = pd.DataFrame(x_prime)\n",
    "corr = xpp.corr('pearson')\n",
    "corr.index = corr.index + 1\n",
    "corr.columns = range(1,86)"
   ]
  },
  {
   "cell_type": "code",
   "execution_count": null,
   "metadata": {
    "collapsed": false
   },
   "outputs": [],
   "source": [
    "corr.head()"
   ]
  },
  {
   "cell_type": "code",
   "execution_count": null,
   "metadata": {
    "collapsed": false
   },
   "outputs": [],
   "source": []
  },
  {
   "cell_type": "code",
   "execution_count": null,
   "metadata": {
    "collapsed": false
   },
   "outputs": [],
   "source": [
    "f = plt.figure(figsize=(12, 20))\n",
    "gs = plt.GridSpec(15, 1)\n",
    "map_ax = f.add_subplot(gs[0:-5])\n",
    "sns.heatmap(corr, ax=map_ax,\n",
    "            cbar_kws={\"orientation\": \"horizontal\"})\n",
    "map_ax.set(xlabel=\"Calls\");"
   ]
  },
  {
   "cell_type": "code",
   "execution_count": null,
   "metadata": {
    "collapsed": false
   },
   "outputs": [],
   "source": [
    "callIn = region_based.pivot(index='region_id', columns='time', values='adjusted_callIn')\n",
    "callIn.fillna(0, inplace=True)\n",
    "x = callIn.as_matrix()\n",
    "mean = np.mean(callIn, 0)\n",
    "x_prime = np.zeros(shape=(85, mean.count()))\n",
    "for i in range(0, 85):\n",
    "    x_prime[i] = x[i] - mean\n",
    "x_prime = np.transpose(x_prime)\n",
    "\n",
    "xpp = pd.DataFrame(x_prime)\n",
    "corr = xpp.corr('pearson')\n",
    "corr.index = corr.index + 1\n",
    "corr.columns = range(1,86)\n",
    "\n",
    "f = plt.figure(figsize=(12, 20))\n",
    "gs = plt.GridSpec(15, 1)\n",
    "map_ax = f.add_subplot(gs[0:-5])\n",
    "sns.heatmap(corr, ax=map_ax,\n",
    "            cbar_kws={\"orientation\": \"horizontal\"})\n",
    "map_ax.set(xlabel=\"Call-In\");"
   ]
  },
  {
   "cell_type": "code",
   "execution_count": null,
   "metadata": {
    "collapsed": true
   },
   "outputs": [],
   "source": []
  }
 ],
 "metadata": {
  "anaconda-cloud": {},
  "kernelspec": {
   "display_name": "Python [Root]",
   "language": "python",
   "name": "Python [Root]"
  },
  "language_info": {
   "codemirror_mode": {
    "name": "ipython",
    "version": 3
   },
   "file_extension": ".py",
   "mimetype": "text/x-python",
   "name": "python",
   "nbconvert_exporter": "python",
   "pygments_lexer": "ipython3",
   "version": "3.5.1"
  }
 },
 "nbformat": 4,
 "nbformat_minor": 0
}
