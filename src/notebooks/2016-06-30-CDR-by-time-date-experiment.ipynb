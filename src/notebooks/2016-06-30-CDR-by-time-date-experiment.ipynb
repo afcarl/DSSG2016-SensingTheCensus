{
 "cells": [
  {
   "cell_type": "code",
   "execution_count": 76,
   "metadata": {
    "collapsed": true
   },
   "outputs": [],
   "source": [
    "import pandas as pd\n",
    "import json\n",
    "import numpy\n",
    "from pandas.io.json import json_normalize\n",
    "from scipy.spatial.distance import cosine\n",
    "import sys\n",
    "sys.path.append('../python/')\n",
    "import cdr"
   ]
  },
  {
   "cell_type": "code",
   "execution_count": 2,
   "metadata": {
    "collapsed": true
   },
   "outputs": [],
   "source": [
    "df = pd.read_csv('../../data/CDR/sms-call-internet-mi-2013-11-01.txt', delimiter='\\t',\n",
    "                 header=None) "
   ]
  },
  {
   "cell_type": "code",
   "execution_count": 3,
   "metadata": {
    "collapsed": true
   },
   "outputs": [],
   "source": [
    "file = '../../data/GeoJSON/milano-grid.geojson'\n",
    "with open(file) as f:\n",
    "    grid = pd.read_json(f, typ='Series')"
   ]
  },
  {
   "cell_type": "code",
   "execution_count": 5,
   "metadata": {
    "collapsed": false
   },
   "outputs": [],
   "source": [
    "df.columns = [\"cellId\", \"time\", \"countryCode\", \"smsIn\", \"smsOut\", \"callIn\", \"callOut\", \"internet\"]\n",
    "norm_grid = json_normalize(grid['features'])"
   ]
  },
  {
   "cell_type": "code",
   "execution_count": 6,
   "metadata": {
    "collapsed": false
   },
   "outputs": [
    {
     "data": {
      "text/html": [
       "<div>\n",
       "<table border=\"1\" class=\"dataframe\">\n",
       "  <thead>\n",
       "    <tr style=\"text-align: right;\">\n",
       "      <th></th>\n",
       "      <th>geometry.coordinates</th>\n",
       "      <th>geometry.type</th>\n",
       "      <th>id</th>\n",
       "      <th>properties.cellId</th>\n",
       "      <th>type</th>\n",
       "    </tr>\n",
       "  </thead>\n",
       "  <tbody>\n",
       "    <tr>\n",
       "      <th>0</th>\n",
       "      <td>[[[9.0114910478323, 45.35880131440966], [9.014...</td>\n",
       "      <td>Polygon</td>\n",
       "      <td>0</td>\n",
       "      <td>1</td>\n",
       "      <td>Feature</td>\n",
       "    </tr>\n",
       "    <tr>\n",
       "      <th>1</th>\n",
       "      <td>[[[9.014491488013135, 45.35880097314403], [9.0...</td>\n",
       "      <td>Polygon</td>\n",
       "      <td>1</td>\n",
       "      <td>2</td>\n",
       "      <td>Feature</td>\n",
       "    </tr>\n",
       "    <tr>\n",
       "      <th>2</th>\n",
       "      <td>[[[9.017491928134044, 45.358800553060284], [9....</td>\n",
       "      <td>Polygon</td>\n",
       "      <td>2</td>\n",
       "      <td>3</td>\n",
       "      <td>Feature</td>\n",
       "    </tr>\n",
       "    <tr>\n",
       "      <th>3</th>\n",
       "      <td>[[[9.02049236818262, 45.35880005415845], [9.02...</td>\n",
       "      <td>Polygon</td>\n",
       "      <td>3</td>\n",
       "      <td>4</td>\n",
       "      <td>Feature</td>\n",
       "    </tr>\n",
       "    <tr>\n",
       "      <th>4</th>\n",
       "      <td>[[[9.023492808146456, 45.35879947643852], [9.0...</td>\n",
       "      <td>Polygon</td>\n",
       "      <td>4</td>\n",
       "      <td>5</td>\n",
       "      <td>Feature</td>\n",
       "    </tr>\n",
       "  </tbody>\n",
       "</table>\n",
       "</div>"
      ],
      "text/plain": [
       "                                geometry.coordinates geometry.type  id  \\\n",
       "0  [[[9.0114910478323, 45.35880131440966], [9.014...       Polygon   0   \n",
       "1  [[[9.014491488013135, 45.35880097314403], [9.0...       Polygon   1   \n",
       "2  [[[9.017491928134044, 45.358800553060284], [9....       Polygon   2   \n",
       "3  [[[9.02049236818262, 45.35880005415845], [9.02...       Polygon   3   \n",
       "4  [[[9.023492808146456, 45.35879947643852], [9.0...       Polygon   4   \n",
       "\n",
       "   properties.cellId     type  \n",
       "0                  1  Feature  \n",
       "1                  2  Feature  \n",
       "2                  3  Feature  \n",
       "3                  4  Feature  \n",
       "4                  5  Feature  "
      ]
     },
     "execution_count": 6,
     "metadata": {},
     "output_type": "execute_result"
    }
   ],
   "source": [
    "norm_grid.head()"
   ]
  },
  {
   "cell_type": "code",
   "execution_count": 27,
   "metadata": {
    "collapsed": false
   },
   "outputs": [],
   "source": [
    "df.index = pd.to_datetime(df['time'],unit='ms',utc=True)"
   ]
  },
  {
   "cell_type": "code",
   "execution_count": 29,
   "metadata": {
    "collapsed": true
   },
   "outputs": [],
   "source": [
    "df.index = df.index.tz_localize('UTC').tz_convert('Europe/Rome')"
   ]
  },
  {
   "cell_type": "code",
   "execution_count": 59,
   "metadata": {
    "collapsed": false
   },
   "outputs": [
    {
     "data": {
      "text/html": [
       "<div>\n",
       "<table border=\"1\" class=\"dataframe\">\n",
       "  <thead>\n",
       "    <tr style=\"text-align: right;\">\n",
       "      <th></th>\n",
       "      <th>cellId</th>\n",
       "      <th>time</th>\n",
       "      <th>countryCode</th>\n",
       "      <th>smsIn</th>\n",
       "      <th>smsOut</th>\n",
       "      <th>callIn</th>\n",
       "      <th>callOut</th>\n",
       "      <th>internet</th>\n",
       "      <th>date</th>\n",
       "      <th>time_hour</th>\n",
       "      <th>weekday</th>\n",
       "      <th>morning</th>\n",
       "      <th>morning_weekday</th>\n",
       "      <th>day_weekday</th>\n",
       "      <th>evening_weekday</th>\n",
       "      <th>morning_weekend</th>\n",
       "      <th>day_weekend</th>\n",
       "      <th>evening_weekend</th>\n",
       "    </tr>\n",
       "    <tr>\n",
       "      <th>time</th>\n",
       "      <th></th>\n",
       "      <th></th>\n",
       "      <th></th>\n",
       "      <th></th>\n",
       "      <th></th>\n",
       "      <th></th>\n",
       "      <th></th>\n",
       "      <th></th>\n",
       "      <th></th>\n",
       "      <th></th>\n",
       "      <th></th>\n",
       "      <th></th>\n",
       "      <th></th>\n",
       "      <th></th>\n",
       "      <th></th>\n",
       "      <th></th>\n",
       "      <th></th>\n",
       "      <th></th>\n",
       "    </tr>\n",
       "  </thead>\n",
       "  <tbody>\n",
       "    <tr>\n",
       "      <th>2013-11-01 00:00:00+01:00</th>\n",
       "      <td>1</td>\n",
       "      <td>1383260400000</td>\n",
       "      <td>0</td>\n",
       "      <td>0.081363</td>\n",
       "      <td>NaN</td>\n",
       "      <td>NaN</td>\n",
       "      <td>NaN</td>\n",
       "      <td>NaN</td>\n",
       "      <td>2013-11-01 00:00:00+01:00</td>\n",
       "      <td>0</td>\n",
       "      <td>4</td>\n",
       "      <td>True</td>\n",
       "      <td>True</td>\n",
       "      <td>False</td>\n",
       "      <td>False</td>\n",
       "      <td>False</td>\n",
       "      <td>False</td>\n",
       "      <td>False</td>\n",
       "    </tr>\n",
       "    <tr>\n",
       "      <th>2013-11-01 00:00:00+01:00</th>\n",
       "      <td>1</td>\n",
       "      <td>1383260400000</td>\n",
       "      <td>39</td>\n",
       "      <td>0.141864</td>\n",
       "      <td>0.156787</td>\n",
       "      <td>0.160938</td>\n",
       "      <td>0.052275</td>\n",
       "      <td>11.028366</td>\n",
       "      <td>2013-11-01 00:00:00+01:00</td>\n",
       "      <td>0</td>\n",
       "      <td>4</td>\n",
       "      <td>True</td>\n",
       "      <td>True</td>\n",
       "      <td>False</td>\n",
       "      <td>False</td>\n",
       "      <td>False</td>\n",
       "      <td>False</td>\n",
       "      <td>False</td>\n",
       "    </tr>\n",
       "    <tr>\n",
       "      <th>2013-11-01 00:10:00+01:00</th>\n",
       "      <td>1</td>\n",
       "      <td>1383261000000</td>\n",
       "      <td>0</td>\n",
       "      <td>0.136588</td>\n",
       "      <td>NaN</td>\n",
       "      <td>NaN</td>\n",
       "      <td>0.027300</td>\n",
       "      <td>NaN</td>\n",
       "      <td>2013-11-01 00:10:00+01:00</td>\n",
       "      <td>0</td>\n",
       "      <td>4</td>\n",
       "      <td>True</td>\n",
       "      <td>True</td>\n",
       "      <td>False</td>\n",
       "      <td>False</td>\n",
       "      <td>False</td>\n",
       "      <td>False</td>\n",
       "      <td>False</td>\n",
       "    </tr>\n",
       "    <tr>\n",
       "      <th>2013-11-01 00:10:00+01:00</th>\n",
       "      <td>1</td>\n",
       "      <td>1383261000000</td>\n",
       "      <td>33</td>\n",
       "      <td>NaN</td>\n",
       "      <td>NaN</td>\n",
       "      <td>NaN</td>\n",
       "      <td>NaN</td>\n",
       "      <td>0.026137</td>\n",
       "      <td>2013-11-01 00:10:00+01:00</td>\n",
       "      <td>0</td>\n",
       "      <td>4</td>\n",
       "      <td>True</td>\n",
       "      <td>True</td>\n",
       "      <td>False</td>\n",
       "      <td>False</td>\n",
       "      <td>False</td>\n",
       "      <td>False</td>\n",
       "      <td>False</td>\n",
       "    </tr>\n",
       "    <tr>\n",
       "      <th>2013-11-01 00:10:00+01:00</th>\n",
       "      <td>1</td>\n",
       "      <td>1383261000000</td>\n",
       "      <td>39</td>\n",
       "      <td>0.278452</td>\n",
       "      <td>0.119926</td>\n",
       "      <td>0.188777</td>\n",
       "      <td>0.133637</td>\n",
       "      <td>11.100963</td>\n",
       "      <td>2013-11-01 00:10:00+01:00</td>\n",
       "      <td>0</td>\n",
       "      <td>4</td>\n",
       "      <td>True</td>\n",
       "      <td>True</td>\n",
       "      <td>False</td>\n",
       "      <td>False</td>\n",
       "      <td>False</td>\n",
       "      <td>False</td>\n",
       "      <td>False</td>\n",
       "    </tr>\n",
       "  </tbody>\n",
       "</table>\n",
       "</div>"
      ],
      "text/plain": [
       "                           cellId           time  countryCode     smsIn  \\\n",
       "time                                                                      \n",
       "2013-11-01 00:00:00+01:00       1  1383260400000            0  0.081363   \n",
       "2013-11-01 00:00:00+01:00       1  1383260400000           39  0.141864   \n",
       "2013-11-01 00:10:00+01:00       1  1383261000000            0  0.136588   \n",
       "2013-11-01 00:10:00+01:00       1  1383261000000           33       NaN   \n",
       "2013-11-01 00:10:00+01:00       1  1383261000000           39  0.278452   \n",
       "\n",
       "                             smsOut    callIn   callOut   internet  \\\n",
       "time                                                                 \n",
       "2013-11-01 00:00:00+01:00       NaN       NaN       NaN        NaN   \n",
       "2013-11-01 00:00:00+01:00  0.156787  0.160938  0.052275  11.028366   \n",
       "2013-11-01 00:10:00+01:00       NaN       NaN  0.027300        NaN   \n",
       "2013-11-01 00:10:00+01:00       NaN       NaN       NaN   0.026137   \n",
       "2013-11-01 00:10:00+01:00  0.119926  0.188777  0.133637  11.100963   \n",
       "\n",
       "                                               date  time_hour  weekday  \\\n",
       "time                                                                      \n",
       "2013-11-01 00:00:00+01:00 2013-11-01 00:00:00+01:00          0        4   \n",
       "2013-11-01 00:00:00+01:00 2013-11-01 00:00:00+01:00          0        4   \n",
       "2013-11-01 00:10:00+01:00 2013-11-01 00:10:00+01:00          0        4   \n",
       "2013-11-01 00:10:00+01:00 2013-11-01 00:10:00+01:00          0        4   \n",
       "2013-11-01 00:10:00+01:00 2013-11-01 00:10:00+01:00          0        4   \n",
       "\n",
       "                          morning morning_weekday day_weekday evening_weekday  \\\n",
       "time                                                                            \n",
       "2013-11-01 00:00:00+01:00    True            True       False           False   \n",
       "2013-11-01 00:00:00+01:00    True            True       False           False   \n",
       "2013-11-01 00:10:00+01:00    True            True       False           False   \n",
       "2013-11-01 00:10:00+01:00    True            True       False           False   \n",
       "2013-11-01 00:10:00+01:00    True            True       False           False   \n",
       "\n",
       "                          morning_weekend day_weekend evening_weekend  \n",
       "time                                                                   \n",
       "2013-11-01 00:00:00+01:00           False       False           False  \n",
       "2013-11-01 00:00:00+01:00           False       False           False  \n",
       "2013-11-01 00:10:00+01:00           False       False           False  \n",
       "2013-11-01 00:10:00+01:00           False       False           False  \n",
       "2013-11-01 00:10:00+01:00           False       False           False  "
      ]
     },
     "execution_count": 59,
     "metadata": {},
     "output_type": "execute_result"
    }
   ],
   "source": [
    "df.head()"
   ]
  },
  {
   "cell_type": "code",
   "execution_count": 31,
   "metadata": {
    "collapsed": true
   },
   "outputs": [],
   "source": [
    "df['date'] = df.index"
   ]
  },
  {
   "cell_type": "code",
   "execution_count": 51,
   "metadata": {
    "collapsed": false
   },
   "outputs": [],
   "source": [
    "df['time_hour'] = df.index.hour"
   ]
  },
  {
   "cell_type": "code",
   "execution_count": 48,
   "metadata": {
    "collapsed": true
   },
   "outputs": [],
   "source": [
    "df['weekday'] = df.index.weekday"
   ]
  },
  {
   "cell_type": "code",
   "execution_count": 57,
   "metadata": {
    "collapsed": true
   },
   "outputs": [],
   "source": [
    "# returning Boolean\n",
    "df['morning_weekday'] = (df['time_hour'] >= 0) & (df['time_hour'] < 8) & (df['weekday'] != 6) & (df['weekday'] != 5)\n",
    "df['day_weekday'] = (df['time_hour'] >= 8) & (df['time_hour'] < 16) & (df['weekday'] != 6) & (df['weekday'] != 5)\n",
    "df['evening_weekday'] = (df['time_hour'] >= 16) & (df['time_hour'] < 24) & (df['weekday'] != 6) & (df['weekday'] != 5)\n",
    "df['morning_weekend'] = (df['time_hour'] >= 0) & (df['time_hour'] < 8) & ((df['weekday'] == 6) | (df['weekday'] == 5))\n",
    "df['day_weekend'] = (df['time_hour'] >= 8) & (df['time_hour'] < 16) & ((df['weekday'] == 6) | (df['weekday'] == 5))\n",
    "df['evening_weekend'] = (df['time_hour'] >= 16) & (df['time_hour'] < 24) & ((df['weekday'] == 6) | (df['weekday'] == 5))\n"
   ]
  },
  {
   "cell_type": "code",
   "execution_count": 71,
   "metadata": {
    "collapsed": false
   },
   "outputs": [
    {
     "data": {
      "text/html": [
       "<div>\n",
       "<table border=\"1\" class=\"dataframe\">\n",
       "  <thead>\n",
       "    <tr style=\"text-align: right;\">\n",
       "      <th></th>\n",
       "      <th>time</th>\n",
       "      <th>callIn</th>\n",
       "      <th>internet</th>\n",
       "      <th>callOut</th>\n",
       "      <th>cellId</th>\n",
       "      <th>smsIn</th>\n",
       "      <th>smsOut</th>\n",
       "    </tr>\n",
       "    <tr>\n",
       "      <th>cellId</th>\n",
       "      <th></th>\n",
       "      <th></th>\n",
       "      <th></th>\n",
       "      <th></th>\n",
       "      <th></th>\n",
       "      <th></th>\n",
       "      <th></th>\n",
       "    </tr>\n",
       "  </thead>\n",
       "  <tbody>\n",
       "    <tr>\n",
       "      <th>1</th>\n",
       "      <td>1383260400000</td>\n",
       "      <td>1.305744</td>\n",
       "      <td>320.643279</td>\n",
       "      <td>1.510645</td>\n",
       "      <td>1</td>\n",
       "      <td>5.450417</td>\n",
       "      <td>4.137999</td>\n",
       "    </tr>\n",
       "    <tr>\n",
       "      <th>2</th>\n",
       "      <td>1383260400000</td>\n",
       "      <td>1.323735</td>\n",
       "      <td>321.442663</td>\n",
       "      <td>1.539763</td>\n",
       "      <td>2</td>\n",
       "      <td>5.477261</td>\n",
       "      <td>4.145378</td>\n",
       "    </tr>\n",
       "    <tr>\n",
       "      <th>3</th>\n",
       "      <td>1383260400000</td>\n",
       "      <td>1.342885</td>\n",
       "      <td>322.293575</td>\n",
       "      <td>1.570757</td>\n",
       "      <td>3</td>\n",
       "      <td>5.505834</td>\n",
       "      <td>4.153233</td>\n",
       "    </tr>\n",
       "    <tr>\n",
       "      <th>4</th>\n",
       "      <td>1383260400000</td>\n",
       "      <td>1.253634</td>\n",
       "      <td>318.327848</td>\n",
       "      <td>1.426305</td>\n",
       "      <td>4</td>\n",
       "      <td>5.372665</td>\n",
       "      <td>4.116626</td>\n",
       "    </tr>\n",
       "    <tr>\n",
       "      <th>5</th>\n",
       "      <td>1383260400000</td>\n",
       "      <td>1.174183</td>\n",
       "      <td>290.004421</td>\n",
       "      <td>1.326145</td>\n",
       "      <td>5</td>\n",
       "      <td>4.869727</td>\n",
       "      <td>3.739232</td>\n",
       "    </tr>\n",
       "  </tbody>\n",
       "</table>\n",
       "</div>"
      ],
      "text/plain": [
       "                 time    callIn    internet   callOut  cellId     smsIn  \\\n",
       "cellId                                                                    \n",
       "1       1383260400000  1.305744  320.643279  1.510645       1  5.450417   \n",
       "2       1383260400000  1.323735  321.442663  1.539763       2  5.477261   \n",
       "3       1383260400000  1.342885  322.293575  1.570757       3  5.505834   \n",
       "4       1383260400000  1.253634  318.327848  1.426305       4  5.372665   \n",
       "5       1383260400000  1.174183  290.004421  1.326145       5  4.869727   \n",
       "\n",
       "          smsOut  \n",
       "cellId            \n",
       "1       4.137999  \n",
       "2       4.145378  \n",
       "3       4.153233  \n",
       "4       4.116626  \n",
       "5       3.739232  "
      ]
     },
     "execution_count": 71,
     "metadata": {},
     "output_type": "execute_result"
    }
   ],
   "source": [
    "morning_weekday.head()"
   ]
  },
  {
   "cell_type": "code",
   "execution_count": 68,
   "metadata": {
    "collapsed": false
   },
   "outputs": [],
   "source": [
    "morning_weekday = df[(df['countryCode'] != 0) & (df['morning_weekday'] == True)].groupby('cellId').agg({\n",
    "                    'cellId': 'first',\n",
    "                    'time': 'first',\n",
    "                    'smsIn': 'sum',\n",
    "                    'smsOut': 'sum',\n",
    "                    'callIn': 'sum',\n",
    "                    'callOut': 'sum',\n",
    "                    'internet': 'sum'\n",
    "                })"
   ]
  },
  {
   "cell_type": "code",
   "execution_count": 69,
   "metadata": {
    "collapsed": false
   },
   "outputs": [],
   "source": [
    "day_weekday = df[(df['countryCode'] != 0) & (df['day_weekday'] == True)].groupby('cellId').agg({\n",
    "                    'cellId': 'first',\n",
    "                    'time': 'first',\n",
    "                    'smsIn': 'sum',\n",
    "                    'smsOut': 'sum',\n",
    "                    'callIn': 'sum',\n",
    "                    'callOut': 'sum',\n",
    "                    'internet': 'sum'\n",
    "                })\n",
    "evening_weekday = df[(df['countryCode'] != 0) & (df['evening_weekday'] == True)].groupby('cellId').agg({\n",
    "                    'cellId': 'first',\n",
    "                    'time': 'first',\n",
    "                    'smsIn': 'sum',\n",
    "                    'smsOut': 'sum',\n",
    "                    'callIn': 'sum',\n",
    "                    'callOut': 'sum',\n",
    "                    'internet': 'sum'\n",
    "                })\n",
    "morning_weekend = df[(df['countryCode'] != 0) & (df['morning_weekend'] == True)].groupby('cellId').agg({\n",
    "                    'cellId': 'first',\n",
    "                    'time': 'first',\n",
    "                    'smsIn': 'sum',\n",
    "                    'smsOut': 'sum',\n",
    "                    'callIn': 'sum',\n",
    "                    'callOut': 'sum',\n",
    "                    'internet': 'sum'\n",
    "                })\n",
    "day_weekend = df[(df['countryCode'] != 0) & (df['day_weekend'] == True)].groupby('cellId').agg({\n",
    "                    'cellId': 'first',\n",
    "                    'time': 'first',\n",
    "                    'smsIn': 'sum',\n",
    "                    'smsOut': 'sum',\n",
    "                    'callIn': 'sum',\n",
    "                    'callOut': 'sum',\n",
    "                    'internet': 'sum'\n",
    "                })\n",
    "evening_weekend = df[(df['countryCode'] != 0) & (df['evening_weekend'] == True)].groupby('cellId').agg({\n",
    "                    'cellId': 'first',\n",
    "                    'time': 'first',\n",
    "                    'smsIn': 'sum',\n",
    "                    'smsOut': 'sum',\n",
    "                    'callIn': 'sum',\n",
    "                    'callOut': 'sum',\n",
    "                    'internet': 'sum'\n",
    "                })"
   ]
  },
  {
   "cell_type": "code",
   "execution_count": 74,
   "metadata": {
    "collapsed": true
   },
   "outputs": [],
   "source": [
    "m_weekday = pd.merge(left=norm_grid, right=morning_weekday, how='left', left_on='properties.cellId', right_on='cellId')\n",
    "d_weekday = pd.merge(left=norm_grid, right=day_weekday, how='left', left_on='properties.cellId', right_on='cellId')\n",
    "e_weekday = pd.merge(left=norm_grid, right=evening_weekday, how='left', left_on='properties.cellId', right_on='cellId')\n",
    "m_weekend = pd.merge(left=norm_grid, right=morning_weekend, how='left', left_on='properties.cellId', right_on='cellId')\n",
    "d_weekend = pd.merge(left=norm_grid, right=day_weekend, how='left', left_on='properties.cellId', right_on='cellId')\n",
    "e_weekend = pd.merge(left=norm_grid, right=evening_weekend, how='left', left_on='properties.cellId', right_on='cellId')"
   ]
  },
  {
   "cell_type": "code",
   "execution_count": 75,
   "metadata": {
    "collapsed": false
   },
   "outputs": [
    {
     "data": {
      "text/html": [
       "<div>\n",
       "<table border=\"1\" class=\"dataframe\">\n",
       "  <thead>\n",
       "    <tr style=\"text-align: right;\">\n",
       "      <th></th>\n",
       "      <th>geometry.coordinates</th>\n",
       "      <th>geometry.type</th>\n",
       "      <th>id</th>\n",
       "      <th>properties.cellId</th>\n",
       "      <th>type</th>\n",
       "      <th>time</th>\n",
       "      <th>callIn</th>\n",
       "      <th>internet</th>\n",
       "      <th>callOut</th>\n",
       "      <th>cellId</th>\n",
       "      <th>smsIn</th>\n",
       "      <th>smsOut</th>\n",
       "    </tr>\n",
       "  </thead>\n",
       "  <tbody>\n",
       "    <tr>\n",
       "      <th>0</th>\n",
       "      <td>[[[9.0114910478323, 45.35880131440966], [9.014...</td>\n",
       "      <td>Polygon</td>\n",
       "      <td>0</td>\n",
       "      <td>1</td>\n",
       "      <td>Feature</td>\n",
       "      <td>1383260400000</td>\n",
       "      <td>1.305744</td>\n",
       "      <td>320.643279</td>\n",
       "      <td>1.510645</td>\n",
       "      <td>1</td>\n",
       "      <td>5.450417</td>\n",
       "      <td>4.137999</td>\n",
       "    </tr>\n",
       "    <tr>\n",
       "      <th>1</th>\n",
       "      <td>[[[9.014491488013135, 45.35880097314403], [9.0...</td>\n",
       "      <td>Polygon</td>\n",
       "      <td>1</td>\n",
       "      <td>2</td>\n",
       "      <td>Feature</td>\n",
       "      <td>1383260400000</td>\n",
       "      <td>1.323735</td>\n",
       "      <td>321.442663</td>\n",
       "      <td>1.539763</td>\n",
       "      <td>2</td>\n",
       "      <td>5.477261</td>\n",
       "      <td>4.145378</td>\n",
       "    </tr>\n",
       "    <tr>\n",
       "      <th>2</th>\n",
       "      <td>[[[9.017491928134044, 45.358800553060284], [9....</td>\n",
       "      <td>Polygon</td>\n",
       "      <td>2</td>\n",
       "      <td>3</td>\n",
       "      <td>Feature</td>\n",
       "      <td>1383260400000</td>\n",
       "      <td>1.342885</td>\n",
       "      <td>322.293575</td>\n",
       "      <td>1.570757</td>\n",
       "      <td>3</td>\n",
       "      <td>5.505834</td>\n",
       "      <td>4.153233</td>\n",
       "    </tr>\n",
       "    <tr>\n",
       "      <th>3</th>\n",
       "      <td>[[[9.02049236818262, 45.35880005415845], [9.02...</td>\n",
       "      <td>Polygon</td>\n",
       "      <td>3</td>\n",
       "      <td>4</td>\n",
       "      <td>Feature</td>\n",
       "      <td>1383260400000</td>\n",
       "      <td>1.253634</td>\n",
       "      <td>318.327848</td>\n",
       "      <td>1.426305</td>\n",
       "      <td>4</td>\n",
       "      <td>5.372665</td>\n",
       "      <td>4.116626</td>\n",
       "    </tr>\n",
       "    <tr>\n",
       "      <th>4</th>\n",
       "      <td>[[[9.023492808146456, 45.35879947643852], [9.0...</td>\n",
       "      <td>Polygon</td>\n",
       "      <td>4</td>\n",
       "      <td>5</td>\n",
       "      <td>Feature</td>\n",
       "      <td>1383260400000</td>\n",
       "      <td>1.174183</td>\n",
       "      <td>290.004421</td>\n",
       "      <td>1.326145</td>\n",
       "      <td>5</td>\n",
       "      <td>4.869727</td>\n",
       "      <td>3.739232</td>\n",
       "    </tr>\n",
       "  </tbody>\n",
       "</table>\n",
       "</div>"
      ],
      "text/plain": [
       "                                geometry.coordinates geometry.type  id  \\\n",
       "0  [[[9.0114910478323, 45.35880131440966], [9.014...       Polygon   0   \n",
       "1  [[[9.014491488013135, 45.35880097314403], [9.0...       Polygon   1   \n",
       "2  [[[9.017491928134044, 45.358800553060284], [9....       Polygon   2   \n",
       "3  [[[9.02049236818262, 45.35880005415845], [9.02...       Polygon   3   \n",
       "4  [[[9.023492808146456, 45.35879947643852], [9.0...       Polygon   4   \n",
       "\n",
       "   properties.cellId     type           time    callIn    internet   callOut  \\\n",
       "0                  1  Feature  1383260400000  1.305744  320.643279  1.510645   \n",
       "1                  2  Feature  1383260400000  1.323735  321.442663  1.539763   \n",
       "2                  3  Feature  1383260400000  1.342885  322.293575  1.570757   \n",
       "3                  4  Feature  1383260400000  1.253634  318.327848  1.426305   \n",
       "4                  5  Feature  1383260400000  1.174183  290.004421  1.326145   \n",
       "\n",
       "   cellId     smsIn    smsOut  \n",
       "0       1  5.450417  4.137999  \n",
       "1       2  5.477261  4.145378  \n",
       "2       3  5.505834  4.153233  \n",
       "3       4  5.372665  4.116626  \n",
       "4       5  4.869727  3.739232  "
      ]
     },
     "execution_count": 75,
     "metadata": {},
     "output_type": "execute_result"
    }
   ],
   "source": [
    "m_weekday.head()"
   ]
  },
  {
   "cell_type": "code",
   "execution_count": 77,
   "metadata": {
    "collapsed": true
   },
   "outputs": [],
   "source": [
    "cols = ['cellId','smsIn','smsOut','callIn','callOut','internet']\n",
    "m_wd = cdr.df_to_geojson(m_weekday, cols)\n",
    "d_wd = cdr.df_to_geojson(d_weekday, cols)\n",
    "e_wd = cdr.df_to_geojson(e_weekday, cols)\n",
    "m_we = cdr.df_to_geojson(m_weekend, cols)\n",
    "d_we = cdr.df_to_geojson(d_weekend, cols)\n",
    "e_we = cdr.df_to_geojson(e_weekend, cols)"
   ]
  },
  {
   "cell_type": "code",
   "execution_count": 80,
   "metadata": {
    "collapsed": false
   },
   "outputs": [
    {
     "name": "stdout",
     "output_type": "stream",
     "text": [
      "file generated.\n"
     ]
    }
   ],
   "source": [
    "# writing the file\n",
    "output_filename = '../../data/CDR/generated/CDR_morning_weekday.geojson'\n",
    "with open(output_filename, 'w') as output_file:\n",
    "   json.dump(m_wd, output_file, indent=2)\n",
    "\n",
    "output_filename = '../../data/CDR/generated/CDR_day_weekday.geojson'\n",
    "with open(output_filename, 'w') as output_file:\n",
    "   json.dump(d_wd, output_file, indent=2)\n",
    "\n",
    "output_filename = '../../data/CDR/generated/CDR_evening_weekday.geojson'\n",
    "with open(output_filename, 'w') as output_file:\n",
    "   json.dump(e_wd, output_file, indent=2)\n",
    "\n",
    "output_filename = '../../data/CDR/generated/CDR_morning_weekend.geojson'\n",
    "with open(output_filename, 'w') as output_file:\n",
    "   json.dump(m_we, output_file, indent=2)\n",
    "\n",
    "output_filename = '../../data/CDR/generated/CDR_day_weekend.geojson'\n",
    "with open(output_filename, 'w') as output_file:\n",
    "   json.dump(d_we, output_file, indent=2)\n",
    "\n",
    "output_filename = '../../data/CDR/generated/CDR_evening_weekend.geojson'\n",
    "with open(output_filename, 'w') as output_file:\n",
    "   json.dump(e_we, output_file, indent=2)\n",
    "\n",
    "print (\"file generated.\")"
   ]
  },
  {
   "cell_type": "code",
   "execution_count": null,
   "metadata": {
    "collapsed": true
   },
   "outputs": [],
   "source": []
  }
 ],
 "metadata": {
  "kernelspec": {
   "display_name": "Python 3",
   "language": "python",
   "name": "python3"
  },
  "language_info": {
   "codemirror_mode": {
    "name": "ipython",
    "version": 3
   },
   "file_extension": ".py",
   "mimetype": "text/x-python",
   "name": "python",
   "nbconvert_exporter": "python",
   "pygments_lexer": "ipython3",
   "version": "3.5.1"
  }
 },
 "nbformat": 4,
 "nbformat_minor": 0
}
