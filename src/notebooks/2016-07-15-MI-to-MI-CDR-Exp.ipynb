{
 "cells": [
  {
   "cell_type": "code",
   "execution_count": 2,
   "metadata": {
    "collapsed": false
   },
   "outputs": [],
   "source": [
    "import pandas as pd\n",
    "import json\n",
    "import numpy as np\n",
    "from pandas.io.json import json_normalize\n",
    "from scipy.spatial.distance import cosine\n",
    "import csv\n",
    "import ast\n",
    "import os"
   ]
  },
  {
   "cell_type": "code",
   "execution_count": 3,
   "metadata": {
    "collapsed": false
   },
   "outputs": [],
   "source": [
    "# loading the raw data\n",
    "df = pd.read_csv('../../data/CDR/hash/sample.csv') \n",
    "df.columns = ['index','time','source','dest','call']\n",
    "df.index = df.source"
   ]
  },
  {
   "cell_type": "code",
   "execution_count": 4,
   "metadata": {
    "collapsed": false
   },
   "outputs": [
    {
     "data": {
      "text/html": [
       "<div>\n",
       "<table border=\"1\" class=\"dataframe\">\n",
       "  <thead>\n",
       "    <tr style=\"text-align: right;\">\n",
       "      <th></th>\n",
       "      <th>index</th>\n",
       "      <th>time</th>\n",
       "      <th>source</th>\n",
       "      <th>dest</th>\n",
       "      <th>call</th>\n",
       "    </tr>\n",
       "    <tr>\n",
       "      <th>source</th>\n",
       "      <th></th>\n",
       "      <th></th>\n",
       "      <th></th>\n",
       "      <th></th>\n",
       "      <th></th>\n",
       "    </tr>\n",
       "  </thead>\n",
       "  <tbody>\n",
       "    <tr>\n",
       "      <th>7853</th>\n",
       "      <td>11340721</td>\n",
       "      <td>1383327600000</td>\n",
       "      <td>7853</td>\n",
       "      <td>1005</td>\n",
       "      <td>0.000323</td>\n",
       "    </tr>\n",
       "    <tr>\n",
       "      <th>7853</th>\n",
       "      <td>11340722</td>\n",
       "      <td>1383327600000</td>\n",
       "      <td>7853</td>\n",
       "      <td>1012</td>\n",
       "      <td>0.000116</td>\n",
       "    </tr>\n",
       "    <tr>\n",
       "      <th>7853</th>\n",
       "      <td>11340723</td>\n",
       "      <td>1383327600000</td>\n",
       "      <td>7853</td>\n",
       "      <td>1103</td>\n",
       "      <td>0.000576</td>\n",
       "    </tr>\n",
       "    <tr>\n",
       "      <th>7853</th>\n",
       "      <td>11340724</td>\n",
       "      <td>1383327600000</td>\n",
       "      <td>7853</td>\n",
       "      <td>1117</td>\n",
       "      <td>0.000427</td>\n",
       "    </tr>\n",
       "    <tr>\n",
       "      <th>7853</th>\n",
       "      <td>11340725</td>\n",
       "      <td>1383292200000</td>\n",
       "      <td>7853</td>\n",
       "      <td>1131</td>\n",
       "      <td>0.000671</td>\n",
       "    </tr>\n",
       "  </tbody>\n",
       "</table>\n",
       "</div>"
      ],
      "text/plain": [
       "           index           time  source  dest      call\n",
       "source                                                 \n",
       "7853    11340721  1383327600000    7853  1005  0.000323\n",
       "7853    11340722  1383327600000    7853  1012  0.000116\n",
       "7853    11340723  1383327600000    7853  1103  0.000576\n",
       "7853    11340724  1383327600000    7853  1117  0.000427\n",
       "7853    11340725  1383292200000    7853  1131  0.000671"
      ]
     },
     "execution_count": 4,
     "metadata": {},
     "output_type": "execute_result"
    }
   ],
   "source": [
    "df.head()"
   ]
  },
  {
   "cell_type": "code",
   "execution_count": 11,
   "metadata": {
    "collapsed": false
   },
   "outputs": [],
   "source": []
  },
  {
   "cell_type": "code",
   "execution_count": 5,
   "metadata": {
    "collapsed": false
   },
   "outputs": [],
   "source": [
    "\n",
    "# loading the region-cell data\n",
    "table = pd.read_csv('../../data/CDR/hash/intersect.csv', header = None) \n",
    "table.columns = ['region', 'proportions']\n",
    "table.index = table.region\n",
    "table.sort_values(['region'], inplace=True)\n",
    "\n",
    "# loading the cell-proportion data\n",
    "prop_table = pd.read_csv('../../data/CDR/hash/cell_intersect.csv', header = None) \n",
    "prop_table.columns = ['cell', 'proportions']\n",
    "prop_table.index = prop_table.cell\n",
    "prop_table.sort_values(['cell'], inplace=True)\n"
   ]
  },
  {
   "cell_type": "code",
   "execution_count": 44,
   "metadata": {
    "collapsed": false
   },
   "outputs": [
    {
     "data": {
      "text/html": [
       "<div>\n",
       "<table border=\"1\" class=\"dataframe\">\n",
       "  <thead>\n",
       "    <tr style=\"text-align: right;\">\n",
       "      <th></th>\n",
       "      <th>cell</th>\n",
       "      <th>proportions</th>\n",
       "    </tr>\n",
       "    <tr>\n",
       "      <th>cell</th>\n",
       "      <th></th>\n",
       "      <th></th>\n",
       "    </tr>\n",
       "  </thead>\n",
       "  <tbody>\n",
       "    <tr>\n",
       "      <th>1</th>\n",
       "      <td>1</td>\n",
       "      <td>{}</td>\n",
       "    </tr>\n",
       "    <tr>\n",
       "      <th>2</th>\n",
       "      <td>2</td>\n",
       "      <td>{}</td>\n",
       "    </tr>\n",
       "    <tr>\n",
       "      <th>3</th>\n",
       "      <td>3</td>\n",
       "      <td>{}</td>\n",
       "    </tr>\n",
       "    <tr>\n",
       "      <th>4</th>\n",
       "      <td>4</td>\n",
       "      <td>{}</td>\n",
       "    </tr>\n",
       "    <tr>\n",
       "      <th>5</th>\n",
       "      <td>5</td>\n",
       "      <td>{}</td>\n",
       "    </tr>\n",
       "  </tbody>\n",
       "</table>\n",
       "</div>"
      ],
      "text/plain": [
       "      cell proportions\n",
       "cell                  \n",
       "1        1          {}\n",
       "2        2          {}\n",
       "3        3          {}\n",
       "4        4          {}\n",
       "5        5          {}"
      ]
     },
     "execution_count": 44,
     "metadata": {},
     "output_type": "execute_result"
    }
   ],
   "source": [
    "prop_table.head()"
   ]
  },
  {
   "cell_type": "code",
   "execution_count": 96,
   "metadata": {
    "collapsed": false
   },
   "outputs": [],
   "source": [
    "\n",
    "\n",
    "def get_cells_per_region(table, region_id):\n",
    "    ids = table.iloc[region_id].proportions\n",
    "    ids = ast.literal_eval(table.get_value(region_id, \"proportions\"))\n",
    "    return ids.keys()\n",
    "\n",
    "def get_call_data(source, dest, df):        \n",
    "    source_dict = get_cells_per_region(table, source)\n",
    "    dest_dict = get_cells_per_region(table, dest)\n",
    "\n",
    "    subset = df[df.index.isin(source_dict)]\n",
    "    subset.index = subset.dest\n",
    "    subset = subset[subset.index.isin(dest_dict)]\n",
    "            \n",
    "    return subset\n",
    "\n",
    "def calculate_actual_call(s_cell, d_cell, call, s_region, d_region):\n",
    "    \"\"\"\n",
    "        Create another column on the subset DataFrame that is proportional to the regions.\n",
    "    \"\"\"\n",
    "    source_prop = ast.literal_eval(prop_table.get_value(s_cell, \"proportions\"))\n",
    "    dest_prop = ast.literal_eval(prop_table.get_value(d_cell, \"proportions\"))\n",
    "\n",
    "    try:\n",
    "        final = source_prop[str(s_region)] * dest_prop[str(d_region)] * call\n",
    "    except:\n",
    "        final = 0\n",
    "    \n",
    "    return final"
   ]
  },
  {
   "cell_type": "code",
   "execution_count": 109,
   "metadata": {
    "collapsed": false
   },
   "outputs": [
    {
     "name": "stdout",
     "output_type": "stream",
     "text": [
      "/Users/myeong/git/DSSG/DSSG2016-SensingTheCensus/src/notebooks/cdr/1.txt\n",
      "/Users/myeong/git/DSSG/DSSG2016-SensingTheCensus/src/notebooks/cdr/2.txt\n"
     ]
    }
   ],
   "source": [
    "region_network = pd.DataFrame(columns=['time','source_region','dest_region','adjusted_call'])\n",
    "\n",
    "\n",
    "\n",
    "for s in range(1,81):\n",
    "    for d in range(1,81):\n",
    "        # get a subset of records for the source and dest\n",
    "        subdf = get_call_data(s, d)        \n",
    "        subdf[\"source_region\"] = s\n",
    "        subdf[\"dest_region\"] = d\n",
    "        print (s, d)\n",
    "        # create a column with adjusted call values\n",
    "        try:\n",
    "            subdf[\"adjusted_call\"] = np.vectorize(calculate_actual_call)(subdf[\"source\"], subdf[\"dest\"], subdf[\"call\"], subdf[\"source_region\"], subdf[\"dest_region\"])\n",
    "        except:\n",
    "            print (\"error in making a column...\")\n",
    "            continue\n",
    "\n",
    "        # do aggregation for \n",
    "        subdf = subdf.groupby(\"time\").agg({\n",
    "                    \"source_region\": \"first\",\n",
    "                    \"dest_region\": \"first\",               \n",
    "                    \"adjusted_call\": \"sum\"\n",
    "                })\n",
    "        region_network = region_network.append(subdf)\n",
    "\n",
    "\n",
    "region_network.time = region_network.index        \n",
    "output_filename = '../../data/CDR/generated/region_network.csv'\n",
    "region_network.to_csv(output_filename, encoding='utf-8', index=False)"
   ]
  },
  {
   "cell_type": "code",
   "execution_count": 100,
   "metadata": {
    "collapsed": false
   },
   "outputs": [],
   "source": []
  },
  {
   "cell_type": "code",
   "execution_count": null,
   "metadata": {
    "collapsed": true
   },
   "outputs": [],
   "source": []
  }
 ],
 "metadata": {
  "kernelspec": {
   "display_name": "Python 3",
   "language": "python",
   "name": "python3"
  },
  "language_info": {
   "codemirror_mode": {
    "name": "ipython",
    "version": 3
   },
   "file_extension": ".py",
   "mimetype": "text/x-python",
   "name": "python",
   "nbconvert_exporter": "python",
   "pygments_lexer": "ipython3",
   "version": "3.5.1"
  }
 },
 "nbformat": 4,
 "nbformat_minor": 0
}
