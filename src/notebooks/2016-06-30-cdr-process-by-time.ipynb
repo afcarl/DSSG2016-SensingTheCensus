{
 "cells": [
  {
   "cell_type": "code",
   "execution_count": 1,
   "metadata": {
    "collapsed": true
   },
   "outputs": [],
   "source": [
    "import sys\n",
    "sys.path.append('../python/')"
   ]
  },
  {
   "cell_type": "code",
   "execution_count": 2,
   "metadata": {
    "collapsed": false
   },
   "outputs": [],
   "source": [
    "import pandas as pd\n",
    "import cdr\n",
    "import json\n",
    "import imp"
   ]
  },
  {
   "cell_type": "code",
   "execution_count": 3,
   "metadata": {
    "collapsed": false
   },
   "outputs": [
    {
     "data": {
      "text/plain": [
       "<module 'cdr' from '../python/cdr.py'>"
      ]
     },
     "execution_count": 3,
     "metadata": {},
     "output_type": "execute_result"
    }
   ],
   "source": [
    "imp.reload(cdr)"
   ]
  },
  {
   "cell_type": "code",
   "execution_count": 4,
   "metadata": {
    "collapsed": true
   },
   "outputs": [],
   "source": [
    "df = pd.read_csv('../../data/CDR/sms-call-internet-mi-2013-11-01.txt', delimiter='\\t', header=None) \n",
    "df2 = pd.read_csv('../../data/CDR/sms-call-internet-mi-2013-11-02.txt', delimiter='\\t', header=None) \n",
    "file = '../../data/GeoJSON/milano-grid.geojson'\n",
    "with open(file) as f:\n",
    "    grid = pd.read_json(f, typ='Series')"
   ]
  },
  {
   "cell_type": "code",
   "execution_count": 5,
   "metadata": {
    "collapsed": false
   },
   "outputs": [],
   "source": [
    "m_weekday, d_weekday, e_weekday, m_weekend, d_weekend, e_weekend = cdr.join_cdr_grid_by_time(df, grid)\n",
    "m_weekday2, d_weekday2, e_weekday2, m_weekend2, d_weekend2, e_weekend2 = cdr.join_cdr_grid_by_time(df2, grid)\n",
    "m_weekday.fillna(0, inplace=True)\n",
    "m_weekday2.fillna(0, inplace=True)\n",
    "cols = ['cellId','smsIn','smsOut','callIn','callOut','internet']"
   ]
  },
  {
   "cell_type": "code",
   "execution_count": 27,
   "metadata": {
    "collapsed": false
   },
   "outputs": [],
   "source": [
    "asb = pd.concat([m_weekday, m_weekday2])"
   ]
  },
  {
   "cell_type": "code",
   "execution_count": 28,
   "metadata": {
    "collapsed": false
   },
   "outputs": [],
   "source": [
    "asb= asb.groupby('properties.cellId').agg({\n",
    "                        'properties.cellId': 'first', \n",
    "                        'geometry.coordinates': 'first',\n",
    "                        'geometry.type': 'first',\n",
    "                        'id': 'first',\n",
    "                        'cellId': 'first',\n",
    "                        'type': 'first',\n",
    "                        'smsIn': 'sum',\n",
    "                        'smsOut': 'sum',\n",
    "                        'callIn': 'sum',\n",
    "                        'callOut': 'sum',\n",
    "                        'internet': 'sum'})"
   ]
  },
  {
   "cell_type": "code",
   "execution_count": 18,
   "metadata": {
    "collapsed": false
   },
   "outputs": [],
   "source": []
  },
  {
   "cell_type": "code",
   "execution_count": 29,
   "metadata": {
    "collapsed": false
   },
   "outputs": [
    {
     "data": {
      "text/html": [
       "<div>\n",
       "<table border=\"1\" class=\"dataframe\">\n",
       "  <thead>\n",
       "    <tr style=\"text-align: right;\">\n",
       "      <th></th>\n",
       "      <th>internet</th>\n",
       "      <th>cellId</th>\n",
       "      <th>id</th>\n",
       "      <th>geometry.type</th>\n",
       "      <th>smsOut</th>\n",
       "      <th>callOut</th>\n",
       "      <th>geometry.coordinates</th>\n",
       "      <th>callIn</th>\n",
       "      <th>type</th>\n",
       "      <th>properties.cellId</th>\n",
       "      <th>smsIn</th>\n",
       "    </tr>\n",
       "    <tr>\n",
       "      <th>properties.cellId</th>\n",
       "      <th></th>\n",
       "      <th></th>\n",
       "      <th></th>\n",
       "      <th></th>\n",
       "      <th></th>\n",
       "      <th></th>\n",
       "      <th></th>\n",
       "      <th></th>\n",
       "      <th></th>\n",
       "      <th></th>\n",
       "      <th></th>\n",
       "    </tr>\n",
       "  </thead>\n",
       "  <tbody>\n",
       "    <tr>\n",
       "      <th>1</th>\n",
       "      <td>320.643279</td>\n",
       "      <td>1.0</td>\n",
       "      <td>0</td>\n",
       "      <td>Polygon</td>\n",
       "      <td>4.137999</td>\n",
       "      <td>1.510645</td>\n",
       "      <td>[[[9.0114910478323, 45.35880131440966], [9.014...</td>\n",
       "      <td>1.305744</td>\n",
       "      <td>Feature</td>\n",
       "      <td>1</td>\n",
       "      <td>5.450417</td>\n",
       "    </tr>\n",
       "    <tr>\n",
       "      <th>2</th>\n",
       "      <td>321.442663</td>\n",
       "      <td>2.0</td>\n",
       "      <td>1</td>\n",
       "      <td>Polygon</td>\n",
       "      <td>4.145378</td>\n",
       "      <td>1.539763</td>\n",
       "      <td>[[[9.014491488013135, 45.35880097314403], [9.0...</td>\n",
       "      <td>1.323735</td>\n",
       "      <td>Feature</td>\n",
       "      <td>2</td>\n",
       "      <td>5.477261</td>\n",
       "    </tr>\n",
       "    <tr>\n",
       "      <th>3</th>\n",
       "      <td>322.293575</td>\n",
       "      <td>3.0</td>\n",
       "      <td>2</td>\n",
       "      <td>Polygon</td>\n",
       "      <td>4.153233</td>\n",
       "      <td>1.570757</td>\n",
       "      <td>[[[9.017491928134044, 45.358800553060284], [9....</td>\n",
       "      <td>1.342885</td>\n",
       "      <td>Feature</td>\n",
       "      <td>3</td>\n",
       "      <td>5.505834</td>\n",
       "    </tr>\n",
       "    <tr>\n",
       "      <th>4</th>\n",
       "      <td>318.327848</td>\n",
       "      <td>4.0</td>\n",
       "      <td>3</td>\n",
       "      <td>Polygon</td>\n",
       "      <td>4.116626</td>\n",
       "      <td>1.426305</td>\n",
       "      <td>[[[9.02049236818262, 45.35880005415845], [9.02...</td>\n",
       "      <td>1.253634</td>\n",
       "      <td>Feature</td>\n",
       "      <td>4</td>\n",
       "      <td>5.372665</td>\n",
       "    </tr>\n",
       "    <tr>\n",
       "      <th>5</th>\n",
       "      <td>290.004421</td>\n",
       "      <td>5.0</td>\n",
       "      <td>4</td>\n",
       "      <td>Polygon</td>\n",
       "      <td>3.739232</td>\n",
       "      <td>1.326145</td>\n",
       "      <td>[[[9.023492808146456, 45.35879947643852], [9.0...</td>\n",
       "      <td>1.174183</td>\n",
       "      <td>Feature</td>\n",
       "      <td>5</td>\n",
       "      <td>4.869727</td>\n",
       "    </tr>\n",
       "  </tbody>\n",
       "</table>\n",
       "</div>"
      ],
      "text/plain": [
       "                     internet  cellId  id geometry.type    smsOut   callOut  \\\n",
       "properties.cellId                                                             \n",
       "1                  320.643279     1.0   0       Polygon  4.137999  1.510645   \n",
       "2                  321.442663     2.0   1       Polygon  4.145378  1.539763   \n",
       "3                  322.293575     3.0   2       Polygon  4.153233  1.570757   \n",
       "4                  318.327848     4.0   3       Polygon  4.116626  1.426305   \n",
       "5                  290.004421     5.0   4       Polygon  3.739232  1.326145   \n",
       "\n",
       "                                                geometry.coordinates  \\\n",
       "properties.cellId                                                      \n",
       "1                  [[[9.0114910478323, 45.35880131440966], [9.014...   \n",
       "2                  [[[9.014491488013135, 45.35880097314403], [9.0...   \n",
       "3                  [[[9.017491928134044, 45.358800553060284], [9....   \n",
       "4                  [[[9.02049236818262, 45.35880005415845], [9.02...   \n",
       "5                  [[[9.023492808146456, 45.35879947643852], [9.0...   \n",
       "\n",
       "                     callIn     type  properties.cellId     smsIn  \n",
       "properties.cellId                                                  \n",
       "1                  1.305744  Feature                  1  5.450417  \n",
       "2                  1.323735  Feature                  2  5.477261  \n",
       "3                  1.342885  Feature                  3  5.505834  \n",
       "4                  1.253634  Feature                  4  5.372665  \n",
       "5                  1.174183  Feature                  5  4.869727  "
      ]
     },
     "execution_count": 29,
     "metadata": {},
     "output_type": "execute_result"
    }
   ],
   "source": [
    "asb.head()"
   ]
  },
  {
   "cell_type": "code",
   "execution_count": 21,
   "metadata": {
    "collapsed": false
   },
   "outputs": [
    {
     "data": {
      "text/html": [
       "<div>\n",
       "<table border=\"1\" class=\"dataframe\">\n",
       "  <thead>\n",
       "    <tr style=\"text-align: right;\">\n",
       "      <th></th>\n",
       "      <th>geometry.coordinates</th>\n",
       "      <th>geometry.type</th>\n",
       "      <th>id</th>\n",
       "      <th>properties.cellId</th>\n",
       "      <th>type</th>\n",
       "      <th>internet</th>\n",
       "      <th>cellId</th>\n",
       "      <th>smsOut</th>\n",
       "      <th>callOut</th>\n",
       "      <th>time</th>\n",
       "      <th>callIn</th>\n",
       "      <th>smsIn</th>\n",
       "    </tr>\n",
       "  </thead>\n",
       "  <tbody>\n",
       "    <tr>\n",
       "      <th>0</th>\n",
       "      <td>[[[9.0114910478323, 45.35880131440966], [9.014...</td>\n",
       "      <td>Polygon</td>\n",
       "      <td>0</td>\n",
       "      <td>1</td>\n",
       "      <td>Feature</td>\n",
       "      <td>320.643279</td>\n",
       "      <td>1</td>\n",
       "      <td>4.137999</td>\n",
       "      <td>1.510645</td>\n",
       "      <td>1383260400000</td>\n",
       "      <td>1.305744</td>\n",
       "      <td>5.450417</td>\n",
       "    </tr>\n",
       "    <tr>\n",
       "      <th>1</th>\n",
       "      <td>[[[9.014491488013135, 45.35880097314403], [9.0...</td>\n",
       "      <td>Polygon</td>\n",
       "      <td>1</td>\n",
       "      <td>2</td>\n",
       "      <td>Feature</td>\n",
       "      <td>321.442663</td>\n",
       "      <td>2</td>\n",
       "      <td>4.145378</td>\n",
       "      <td>1.539763</td>\n",
       "      <td>1383260400000</td>\n",
       "      <td>1.323735</td>\n",
       "      <td>5.477261</td>\n",
       "    </tr>\n",
       "    <tr>\n",
       "      <th>2</th>\n",
       "      <td>[[[9.017491928134044, 45.358800553060284], [9....</td>\n",
       "      <td>Polygon</td>\n",
       "      <td>2</td>\n",
       "      <td>3</td>\n",
       "      <td>Feature</td>\n",
       "      <td>322.293575</td>\n",
       "      <td>3</td>\n",
       "      <td>4.153233</td>\n",
       "      <td>1.570757</td>\n",
       "      <td>1383260400000</td>\n",
       "      <td>1.342885</td>\n",
       "      <td>5.505834</td>\n",
       "    </tr>\n",
       "    <tr>\n",
       "      <th>3</th>\n",
       "      <td>[[[9.02049236818262, 45.35880005415845], [9.02...</td>\n",
       "      <td>Polygon</td>\n",
       "      <td>3</td>\n",
       "      <td>4</td>\n",
       "      <td>Feature</td>\n",
       "      <td>318.327848</td>\n",
       "      <td>4</td>\n",
       "      <td>4.116626</td>\n",
       "      <td>1.426305</td>\n",
       "      <td>1383260400000</td>\n",
       "      <td>1.253634</td>\n",
       "      <td>5.372665</td>\n",
       "    </tr>\n",
       "    <tr>\n",
       "      <th>4</th>\n",
       "      <td>[[[9.023492808146456, 45.35879947643852], [9.0...</td>\n",
       "      <td>Polygon</td>\n",
       "      <td>4</td>\n",
       "      <td>5</td>\n",
       "      <td>Feature</td>\n",
       "      <td>290.004421</td>\n",
       "      <td>5</td>\n",
       "      <td>3.739232</td>\n",
       "      <td>1.326145</td>\n",
       "      <td>1383260400000</td>\n",
       "      <td>1.174183</td>\n",
       "      <td>4.869727</td>\n",
       "    </tr>\n",
       "  </tbody>\n",
       "</table>\n",
       "</div>"
      ],
      "text/plain": [
       "                                geometry.coordinates geometry.type  id  \\\n",
       "0  [[[9.0114910478323, 45.35880131440966], [9.014...       Polygon   0   \n",
       "1  [[[9.014491488013135, 45.35880097314403], [9.0...       Polygon   1   \n",
       "2  [[[9.017491928134044, 45.358800553060284], [9....       Polygon   2   \n",
       "3  [[[9.02049236818262, 45.35880005415845], [9.02...       Polygon   3   \n",
       "4  [[[9.023492808146456, 45.35879947643852], [9.0...       Polygon   4   \n",
       "\n",
       "   properties.cellId     type    internet  cellId    smsOut   callOut  \\\n",
       "0                  1  Feature  320.643279       1  4.137999  1.510645   \n",
       "1                  2  Feature  321.442663       2  4.145378  1.539763   \n",
       "2                  3  Feature  322.293575       3  4.153233  1.570757   \n",
       "3                  4  Feature  318.327848       4  4.116626  1.426305   \n",
       "4                  5  Feature  290.004421       5  3.739232  1.326145   \n",
       "\n",
       "            time    callIn     smsIn  \n",
       "0  1383260400000  1.305744  5.450417  \n",
       "1  1383260400000  1.323735  5.477261  \n",
       "2  1383260400000  1.342885  5.505834  \n",
       "3  1383260400000  1.253634  5.372665  \n",
       "4  1383260400000  1.174183  4.869727  "
      ]
     },
     "execution_count": 21,
     "metadata": {},
     "output_type": "execute_result"
    }
   ],
   "source": [
    "m_weekday.head()"
   ]
  },
  {
   "cell_type": "code",
   "execution_count": 30,
   "metadata": {
    "collapsed": false
   },
   "outputs": [],
   "source": [
    "# reorganizing them  to GeoJSON    \n",
    "cols = ['cellId','smsIn','smsOut','callIn','callOut','internet']\n",
    "\n",
    "m_wd = cdr.df_to_geojson(asb, cols)\n",
    "# d_wd = cdr.df_to_geojson(d_weekday, cols)\n",
    "# e_wd = cdr.df_to_geojson(e_weekday, cols)\n",
    "# m_we = cdr.df_to_geojson(m_weekend, cols)\n",
    "# d_we = cdr.df_to_geojson(d_weekend, cols)\n",
    "# e_we = cdr.df_to_geojson(e_weekend, cols)"
   ]
  },
  {
   "cell_type": "code",
   "execution_count": 32,
   "metadata": {
    "collapsed": false
   },
   "outputs": [
    {
     "name": "stdout",
     "output_type": "stream",
     "text": [
      "file generated.\n"
     ]
    }
   ],
   "source": [
    "# writing the file\n",
    "output_filename = '../../data/CDR/generated/CDR_morning_weekday.geojson'\n",
    "with open(output_filename, 'w') as output_file:\n",
    "   json.dump(m_wd, output_file, indent=2)\n",
    "\n",
    "output_filename = '../../data/CDR/generated/CDR_day_weekday.geojson'\n",
    "with open(output_filename, 'w') as output_file:\n",
    "   json.dump(d_wd, output_file, indent=2)\n",
    "\n",
    "output_filename = '../../data/CDR/generated/CDR_evening_weekday.geojson'\n",
    "with open(output_filename, 'w') as output_file:\n",
    "   json.dump(e_wd, output_file, indent=2)\n",
    "\n",
    "output_filename = '../../data/CDR/generated/CDR_morning_weekend.geojson'\n",
    "with open(output_filename, 'w') as output_file:\n",
    "   json.dump(m_we, output_file, indent=2)\n",
    "\n",
    "output_filename = '../../data/CDR/generated/CDR_day_weekend.geojson'\n",
    "with open(output_filename, 'w') as output_file:\n",
    "   json.dump(d_we, output_file, indent=2)\n",
    "\n",
    "output_filename = '../../data/CDR/generated/CDR_evening_weekend.geojson'\n",
    "with open(output_filename, 'w') as output_file:\n",
    "   json.dump(e_we, output_file, indent=2)\n",
    "\n",
    "print (\"file generated.\")"
   ]
  },
  {
   "cell_type": "code",
   "execution_count": null,
   "metadata": {
    "collapsed": true
   },
   "outputs": [],
   "source": []
  }
 ],
 "metadata": {
  "kernelspec": {
   "display_name": "Python 3",
   "language": "python",
   "name": "python3"
  },
  "language_info": {
   "codemirror_mode": {
    "name": "ipython",
    "version": 3
   },
   "file_extension": ".py",
   "mimetype": "text/x-python",
   "name": "python",
   "nbconvert_exporter": "python",
   "pygments_lexer": "ipython3",
   "version": "3.5.1"
  }
 },
 "nbformat": 4,
 "nbformat_minor": 0
}
