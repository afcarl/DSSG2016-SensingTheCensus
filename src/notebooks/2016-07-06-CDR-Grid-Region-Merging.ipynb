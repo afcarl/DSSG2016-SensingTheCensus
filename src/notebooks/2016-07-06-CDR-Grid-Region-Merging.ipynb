{
 "cells": [
  {
   "cell_type": "code",
   "execution_count": 2,
   "metadata": {
    "collapsed": false
   },
   "outputs": [],
   "source": [
    "import pandas as pd\n",
    "import json\n",
    "import numpy\n",
    "from pandas.io.json import json_normalize\n",
    "from scipy.spatial.distance import cosine\n",
    "import csv\n",
    "from osgeo import ogr, gdal\n",
    "from shapely.geometry import shape\n",
    "#import fiona\n"
   ]
  },
  {
   "cell_type": "code",
   "execution_count": 3,
   "metadata": {
    "collapsed": false
   },
   "outputs": [],
   "source": [
    "with open('../../data/GeoJSON/milano-grid.geojson') as f:\n",
    "    grid = json.load(f)"
   ]
  },
  {
   "cell_type": "code",
   "execution_count": null,
   "metadata": {
    "collapsed": false
   },
   "outputs": [],
   "source": []
  },
  {
   "cell_type": "code",
   "execution_count": 116,
   "metadata": {
    "collapsed": false
   },
   "outputs": [],
   "source": [
    "drv1 = ogr.GetDriverByName('GeoJSON')\n",
    "drv2 = ogr.GetDriverByName('GeoJSON')"
   ]
  },
  {
   "cell_type": "code",
   "execution_count": 117,
   "metadata": {
    "collapsed": true
   },
   "outputs": [],
   "source": [
    "# input_layer = ds_in.GetLayer()\n",
    "# dest_srs = ogr.osr.SpatialReference()\n",
    "# dest_srs.ImportFromEPSG(4326)\n",
    "# dest_layer = output_data_source.CreateLayer(table_name,\n",
    "#                             dest_srs,\n",
    "#                             input_layer.GetLayerDefn().GetGeomType(),\n",
    "#                             ['OVERWRITE=YES', 'GEOMETRY_NAME=geom', 'DIM=2', 'FID=id')"
   ]
  },
  {
   "cell_type": "code",
   "execution_count": 118,
   "metadata": {
    "collapsed": false
   },
   "outputs": [],
   "source": [
    "ds_in = drv1.Open(\"../../data/GeoJSON/milano-grid.geojson\")\n",
    "region = drv2.Open(\"../../data/GeoJSON/milano_census_ace.geojson\")"
   ]
  },
  {
   "cell_type": "code",
   "execution_count": 119,
   "metadata": {
    "collapsed": false
   },
   "outputs": [],
   "source": [
    "# union1=ogr.Geometry(3)\n",
    "# union2=ogr.Geometry(3)\n",
    "# for feat in lyr_in:\n",
    "#     geom =feat.GetGeometryRef()\n",
    "#     union1 = union1.Union(geom)\n",
    "    \n",
    "# for feat in lyr_region:\n",
    "#     geom =feat.GetGeometryRef()\n",
    "#     union2 = union2.Union(geom)\n",
    "\n"
   ]
  },
  {
   "cell_type": "code",
   "execution_count": 120,
   "metadata": {
    "collapsed": true
   },
   "outputs": [],
   "source": [
    "lyr_region = region.GetLayer()\n",
    "lyr_in = ds_in.GetLayer()\n",
    "\n",
    "intersections = {} #{cell_id : {region_id: percentge}}"
   ]
  },
  {
   "cell_type": "code",
   "execution_count": 105,
   "metadata": {
    "collapsed": false
   },
   "outputs": [],
   "source": [
    "for feature in lyr_region:\n",
    "    \n",
    "    geo_ref = feature.GetGeometryRef()\n",
    "    region_id = feature.GetField('ACE')\n",
    "\n",
    "    if region_id not in intersections:\n",
    "        intersections[region_id] = {}\n",
    "\n",
    "    for poly in lyr_in:       \n",
    "        poly_ref = poly.GetGeometryRef()\n",
    "        cell_id = poly.GetField('cellId')\n",
    "\n",
    "        if geo_ref.Intersects(poly_ref):\n",
    "            #getting the intersection area\n",
    "            inter_area = geo_ref.Intersection(poly_ref).GetArea()\n",
    "            cell_area = poly_ref.GetArea()\n",
    "            \n",
    "            #store the proportion\n",
    "            intersections[region_id][cell_id] = float(inter_area/cell_area)\n",
    "            \n",
    "    lyr_in.ResetReading() #Read the road layer from the beginning again"
   ]
  },
  {
   "cell_type": "code",
   "execution_count": 106,
   "metadata": {
    "collapsed": false
   },
   "outputs": [],
   "source": [
    "writer = csv.writer(open('intersect.csv', 'w'))\n",
    "for key, value in intersections.items():\n",
    "    writer.writerow([key, value])"
   ]
  },
  {
   "cell_type": "code",
   "execution_count": 121,
   "metadata": {
    "collapsed": false
   },
   "outputs": [],
   "source": [
    "# cell-based proportions\n",
    "intersections = {}\n",
    "lyr_region.ResetReading()\n",
    "lyr_in.ResetReading()\n",
    "\n",
    "for feature in lyr_in:    \n",
    "    geo_ref = feature.GetGeometryRef()\n",
    "    cell_id = feature.GetField('cellId')\n",
    "    cell_area = geo_ref.GetArea()\n",
    "    \n",
    "    if cell_id not in intersections:\n",
    "        intersections[cell_id] = {}    \n",
    "\n",
    "    for poly in lyr_region:       \n",
    "        poly_ref = poly.GetGeometryRef()        \n",
    "        region_id = poly.GetField('ACE')\n",
    "        \n",
    "        if geo_ref.Intersects(poly_ref):\n",
    "            \n",
    "            #getting the intersection area\n",
    "            inter_area = geo_ref.Intersection(poly_ref).GetArea()            \n",
    "            \n",
    "            #store the proportion\n",
    "            intersections[cell_id][region_id] = float(inter_area/cell_area)\n",
    "            \n",
    "    lyr_region.ResetReading() #Read the road layer from the beginning again"
   ]
  },
  {
   "cell_type": "code",
   "execution_count": 122,
   "metadata": {
    "collapsed": false
   },
   "outputs": [],
   "source": [
    "writer = csv.writer(open('cell_intersect.csv', 'w'))\n",
    "for key, value in intersections.items():\n",
    "    writer.writerow([key, value])"
   ]
  },
  {
   "cell_type": "code",
   "execution_count": null,
   "metadata": {
    "collapsed": true
   },
   "outputs": [],
   "source": []
  }
 ],
 "metadata": {
  "anaconda-cloud": {},
  "kernelspec": {
   "display_name": "Python [Root]",
   "language": "python",
   "name": "Python [Root]"
  },
  "language_info": {
   "codemirror_mode": {
    "name": "ipython",
    "version": 3
   },
   "file_extension": ".py",
   "mimetype": "text/x-python",
   "name": "python",
   "nbconvert_exporter": "python",
   "pygments_lexer": "ipython3",
   "version": "3.5.1"
  }
 },
 "nbformat": 4,
 "nbformat_minor": 0
}
