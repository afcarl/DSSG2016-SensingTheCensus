{
 "cells": [
  {
   "cell_type": "code",
   "execution_count": 2,
   "metadata": {
    "collapsed": false
   },
   "outputs": [],
   "source": [
    "import pandas as pd\n",
    "import json\n",
    "import numpy\n",
    "from pandas.io.json import json_normalize\n",
    "from scipy.spatial.distance import cosine\n",
    "import csv\n",
    "# from pyspark import SparkContext\n",
    "# from pyspark import SparkConf\n",
    "# from pyspark.sql import SQLContext\n",
    "from pyspark.sql.functions import udf #user defined function\n",
    "from pyspark.sql.functions import lit, col\n",
    "from pyspark.sql.types import *\n",
    "from pyspark.sql import HiveContext\n",
    "import ast"
   ]
  },
  {
   "cell_type": "code",
   "execution_count": 2,
   "metadata": {
    "collapsed": false
   },
   "outputs": [],
   "source": [
    "# Not needed for Spark on EC2, only for local setup\n",
    "# sc = SparkContext(\"local\", \"Region Network\")"
   ]
  },
  {
   "cell_type": "code",
   "execution_count": 23,
   "metadata": {
    "collapsed": false
   },
   "outputs": [],
   "source": [
    "# loading the raw data\n",
    "# df = pd.read_csv('../../data/CDR/hash/sample.csv') \n",
    "# df.columns = ['index','time','source','dest','call']\n",
    "sqlCtx = SQLContext(sc)\n",
    "rdd = sc.textFile(\"s3n://census-cdr/mi-to-mi/*\").map(lambda row:row.split('\\t'))\n",
    "cs_df = sqlCtx.createDataFrame(rdd, ['time','source','dest','call'])\n"
   ]
  },
  {
   "cell_type": "code",
   "execution_count": 24,
   "metadata": {
    "collapsed": false
   },
   "outputs": [
    {
     "name": "stdout",
     "output_type": "stream",
     "text": [
      "time          source dest call                \n",
      "1383297600000 1      1    1.445982643495844E-4\n",
      "1383300000000 1      1    2.893335821627406...\n",
      "1383306000000 1      1    2.170344499879484...\n",
      "1383306600000 1      1    6.92190810703531E-5 \n",
      "1383308400000 1      1    7.22991321747922E-5 \n",
      "1383309000000 1      1    2.107372943154984E-4\n",
      "1383315000000 1      1    7.395236931786679E-5\n",
      "1383317400000 1      1    6.92190810703531E-5 \n",
      "1383331200000 1      1    6.92190810703531E-5 \n",
      "1383339600000 1      1    7.22991321747922E-5 \n",
      "1383342000000 1      1    7.551623674280319E-5\n",
      "1383342600000 1      1    6.92190810703531E-5 \n",
      "1383265800000 1      10   2.814243229598746E-5\n",
      "1383288000000 1      10   3.907339743793248E-5\n",
      "1383296400000 1      10   1.028247752913052E-4\n",
      "1383297000000 1      10   1.309672075872926...\n",
      "1383298800000 1      10   1.551390040413683E-4\n",
      "1383299400000 1      10   1.092125409370522...\n",
      "1383305400000 1      10   1.569513613199081...\n",
      "1383307800000 1      10   1.040236849748308...\n"
     ]
    }
   ],
   "source": [
    "cs_df.show()"
   ]
  },
  {
   "cell_type": "code",
   "execution_count": 4,
   "metadata": {
    "collapsed": false
   },
   "outputs": [],
   "source": [
    "# loading the raw data\n",
    "# df = pd.read_csv('../../data/CDR/hash/sample.csv') \n",
    "# df.columns = ['index','time','source','dest','call']\n",
    "# sqlCtx = SQLContext(sc)\n",
    "# cs_df = sqlCtx.createDataFrame(df)"
   ]
  },
  {
   "cell_type": "code",
   "execution_count": 5,
   "metadata": {
    "collapsed": false
   },
   "outputs": [
    {
     "data": {
      "text/html": [
       "<div>\n",
       "<table border=\"1\" class=\"dataframe\">\n",
       "  <thead>\n",
       "    <tr style=\"text-align: right;\">\n",
       "      <th></th>\n",
       "      <th>index</th>\n",
       "      <th>time</th>\n",
       "      <th>source</th>\n",
       "      <th>dest</th>\n",
       "      <th>call</th>\n",
       "    </tr>\n",
       "  </thead>\n",
       "  <tbody>\n",
       "    <tr>\n",
       "      <th>0</th>\n",
       "      <td>11340721</td>\n",
       "      <td>1383327600000</td>\n",
       "      <td>7853</td>\n",
       "      <td>1005</td>\n",
       "      <td>0.000323</td>\n",
       "    </tr>\n",
       "    <tr>\n",
       "      <th>1</th>\n",
       "      <td>11340722</td>\n",
       "      <td>1383327600000</td>\n",
       "      <td>7853</td>\n",
       "      <td>1012</td>\n",
       "      <td>0.000116</td>\n",
       "    </tr>\n",
       "    <tr>\n",
       "      <th>2</th>\n",
       "      <td>11340723</td>\n",
       "      <td>1383327600000</td>\n",
       "      <td>7853</td>\n",
       "      <td>1103</td>\n",
       "      <td>0.000576</td>\n",
       "    </tr>\n",
       "    <tr>\n",
       "      <th>3</th>\n",
       "      <td>11340724</td>\n",
       "      <td>1383327600000</td>\n",
       "      <td>7853</td>\n",
       "      <td>1117</td>\n",
       "      <td>0.000427</td>\n",
       "    </tr>\n",
       "    <tr>\n",
       "      <th>4</th>\n",
       "      <td>11340725</td>\n",
       "      <td>1383292200000</td>\n",
       "      <td>7853</td>\n",
       "      <td>1131</td>\n",
       "      <td>0.000671</td>\n",
       "    </tr>\n",
       "  </tbody>\n",
       "</table>\n",
       "</div>"
      ],
      "text/plain": [
       "      index           time  source  dest      call\n",
       "0  11340721  1383327600000    7853  1005  0.000323\n",
       "1  11340722  1383327600000    7853  1012  0.000116\n",
       "2  11340723  1383327600000    7853  1103  0.000576\n",
       "3  11340724  1383327600000    7853  1117  0.000427\n",
       "4  11340725  1383292200000    7853  1131  0.000671"
      ]
     },
     "execution_count": 5,
     "metadata": {},
     "output_type": "execute_result"
    }
   ],
   "source": [
    "df.head()"
   ]
  },
  {
   "cell_type": "code",
   "execution_count": 6,
   "metadata": {
    "collapsed": false
   },
   "outputs": [],
   "source": [
    "\n",
    "# loading the region-cell data\n",
    "table = pd.read_csv('../../data/CDR/hash/intersect.csv', header = None) \n",
    "table.columns = ['region', 'proportions']\n",
    "table.index = table.region\n",
    "table.sort_values(['region'], inplace=True)\n",
    "\n",
    "# loading the cell-proportion data\n",
    "prop_table = pd.read_csv('../../data/CDR/hash/cell_intersect.csv', header = None) \n",
    "prop_table.columns = ['cell', 'proportions']\n",
    "prop_table.index = prop_table.cell\n",
    "prop_table.sort_values(['cell'], inplace=True)\n"
   ]
  },
  {
   "cell_type": "code",
   "execution_count": 18,
   "metadata": {
    "collapsed": false
   },
   "outputs": [
    {
     "data": {
      "text/html": [
       "<div>\n",
       "<table border=\"1\" class=\"dataframe\">\n",
       "  <thead>\n",
       "    <tr style=\"text-align: right;\">\n",
       "      <th></th>\n",
       "      <th>region</th>\n",
       "      <th>proportions</th>\n",
       "    </tr>\n",
       "    <tr>\n",
       "      <th>region</th>\n",
       "      <th></th>\n",
       "      <th></th>\n",
       "    </tr>\n",
       "  </thead>\n",
       "  <tbody>\n",
       "    <tr>\n",
       "      <th>1</th>\n",
       "      <td>1</td>\n",
       "      <td>{5255: 0.012533869596943227, 5256: 0.810203385...</td>\n",
       "    </tr>\n",
       "    <tr>\n",
       "      <th>2</th>\n",
       "      <td>2</td>\n",
       "      <td>{5760: 1.0, 5761: 0.8881973502712377, 5762: 0....</td>\n",
       "    </tr>\n",
       "    <tr>\n",
       "      <th>3</th>\n",
       "      <td>3</td>\n",
       "      <td>{5761: 0.10963649144088197, 5762: 0.0166565829...</td>\n",
       "    </tr>\n",
       "    <tr>\n",
       "      <th>4</th>\n",
       "      <td>4</td>\n",
       "      <td>{6656: 0.08041696535588132, 6657: 0.1769243460...</td>\n",
       "    </tr>\n",
       "    <tr>\n",
       "      <th>5</th>\n",
       "      <td>5</td>\n",
       "      <td>{5761: 0.0021661582885276975, 5762: 0.51612498...</td>\n",
       "    </tr>\n",
       "  </tbody>\n",
       "</table>\n",
       "</div>"
      ],
      "text/plain": [
       "        region                                        proportions\n",
       "region                                                           \n",
       "1            1  {5255: 0.012533869596943227, 5256: 0.810203385...\n",
       "2            2  {5760: 1.0, 5761: 0.8881973502712377, 5762: 0....\n",
       "3            3  {5761: 0.10963649144088197, 5762: 0.0166565829...\n",
       "4            4  {6656: 0.08041696535588132, 6657: 0.1769243460...\n",
       "5            5  {5761: 0.0021661582885276975, 5762: 0.51612498..."
      ]
     },
     "execution_count": 18,
     "metadata": {},
     "output_type": "execute_result"
    }
   ],
   "source": [
    "table.head()"
   ]
  },
  {
   "cell_type": "code",
   "execution_count": null,
   "metadata": {
    "collapsed": false
   },
   "outputs": [],
   "source": [
    "\n",
    "\n",
    "def get_cells_per_region(table, region_id):\n",
    "    ids = table.iloc[region_id].proportions\n",
    "    ids = ast.literal_eval(table.get_value(region_id, \"proportions\"))\n",
    "    return ids.keys()\n",
    "\n",
    "def get_call_data(source, dest):        \n",
    "    source_dict = get_cells_per_region(table, source)\n",
    "    dest_dict = get_cells_per_region(table, dest)\n",
    "    query = \"SELECT * from cs_df WHERE \"\n",
    "    \n",
    "    cs_df.registerTempTable(\"cs_df\")\n",
    "    i = 1    \n",
    "    \n",
    "    for skey in source_dict:                  \n",
    "        query += \"source = \" + str(skey) \n",
    "        if len(source_dict) > i:\n",
    "            query += \" OR \"\n",
    "        i += 1\n",
    "    \n",
    "    subset = sqlCtx.sql(query)\n",
    "    subset.registerTempTable(\"subset\")\n",
    "    \n",
    "    i=1\n",
    "    query = \"SELECT * from subset WHERE \"\n",
    "            \n",
    "    for dkey in dest_dict:  \n",
    "        query += \"dest = \" + str(dkey)\n",
    "        if len(dest_dict) > i:\n",
    "            query += \" OR \"\n",
    "        i += 1\n",
    "        \n",
    "    subset2 = sqlCtx.sql(query)\n",
    "            \n",
    "    return subset2\n",
    "\n",
    "def calculate_actual_call(s_cell, d_cell, call, s_region, d_region):\n",
    "    \"\"\"\n",
    "        Create another column on the subset DataFrame that is proportional to the regions.\n",
    "    \"\"\"\n",
    "    source_prop = ast.literal_eval(prop_table.get_value(s_cell, \"proportions\"))\n",
    "    dest_prop = ast.literal_eval(prop_table.get_value(d_cell, \"proportions\"))\n",
    "\n",
    "    try:\n",
    "        final = source_prop[str(s_region)] * dest_prop[str(d_region)] * call\n",
    "    except:\n",
    "        final = 0\n",
    "    \n",
    "    return final"
   ]
  },
  {
   "cell_type": "code",
   "execution_count": null,
   "metadata": {
    "collapsed": false
   },
   "outputs": [],
   "source": [
    "\n",
    "schema = StructType([\n",
    "            StructField(\"time\", IntegerType(), nullable=False),\n",
    "            StructField(\"adjusted_call\", FloatType(), nullable=False),\n",
    "            StructField(\"source_region\", IntegerType(), nullable=False),\n",
    "            StructField(\"dest_region\", IntegerType(), nullable=False)            \n",
    "    ])\n",
    "\n",
    "region_network = sqlCtx.createDataFrame([], schema)\n",
    "udf_calls = udf(calculate_actual_call, FloatType())\n",
    "\n",
    "for s in range(1,81):\n",
    "    for d in range(1,55):\n",
    "        # get a subset of records for the source and dest\n",
    "        subdf = get_call_data(s, d)        \n",
    "        subdf = subdf.withColumn(\"source_region\", lit(s))\n",
    "        subdf = subdf.withColumn(\"dest_region\", lit(d))\n",
    "        print (s, d)\n",
    "        # create a column with adjusted call values\n",
    "        try:\n",
    "            subdf = subdf.select(\"time\",\"source\", \"dest\", \"call\", \"source_region\", \"dest_region\", udf_calls(\"source\", \"dest\", \"call\", \"source_region\", \"dest_region\").alias(\"adjusted_call\"))\n",
    "            # subdf = subdf.withColumn(\"adjusted_call\", udf_calls(\"source\", \"dest\", \"call\", \"source_region\", \"dest_region\"))\n",
    "        except:\n",
    "            continue\n",
    "        \n",
    "        # do aggregation for \n",
    "        subdf = subdf.groupBy(\"time\").agg({                \n",
    "                \"source_region\": \"max\",\n",
    "                \"dest_region\": \"max\",\n",
    "                \"adjusted_call\": \"sum\"\n",
    "            })\n",
    "        region_network = region_network.unionAll(subdf)\n",
    "    \n",
    "        \n",
    "# region_network.show()\n",
    "# region_network.toPandas().to_csv('../../data/CDR/generated/region-network.csv')"
   ]
  },
  {
   "cell_type": "code",
   "execution_count": null,
   "metadata": {
    "collapsed": false
   },
   "outputs": [],
   "source": []
  },
  {
   "cell_type": "code",
   "execution_count": null,
   "metadata": {
    "collapsed": true
   },
   "outputs": [],
   "source": [
    "# region_network.show()\n",
    "# region_network.toPandas().to_csv('../../data/CDR/generated/region-network.csv')\n",
    "\n",
    "def toCSVLine(data):\n",
    "    return ','.join(str(d) for d in data)\n",
    "\n",
    "lines = region_network.map(toCSVLine)\n",
    "lines.saveAsTextFile('s3n://census-cdr/output/region-based.csv')\n",
    "\n",
    "print (\"A output file has been written.\")"
   ]
  }
 ],
 "metadata": {
  "kernelspec": {
   "display_name": "Python 3",
   "language": "python",
   "name": "python3"
  },
  "language_info": {
   "codemirror_mode": {
    "name": "ipython",
    "version": 3
   },
   "file_extension": ".py",
   "mimetype": "text/x-python",
   "name": "python",
   "nbconvert_exporter": "python",
   "pygments_lexer": "ipython3",
   "version": "3.5.1"
  }
 },
 "nbformat": 4,
 "nbformat_minor": 0
}
