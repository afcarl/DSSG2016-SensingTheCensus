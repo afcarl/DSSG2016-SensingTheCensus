{
 "cells": [
  {
   "cell_type": "code",
   "execution_count": 1,
   "metadata": {
    "collapsed": false
   },
   "outputs": [
    {
     "name": "stdout",
     "output_type": "stream",
     "text": [
      "Libraries loaded\n"
     ]
    }
   ],
   "source": [
    "%matplotlib inline\n",
    "\n",
    "import sys\n",
    "sys.path.append('../python/')\n",
    "\n",
    "import seaborn as sns\n",
    "import matplotlib.pyplot as plt\n",
    "import pandas as pd\n",
    "import imp\n",
    "import cdr\n",
    "import json\n",
    "import os.path\n",
    "from scipy.spatial.distance import cosine\n",
    "from pandas.io.json import json_normalize\n",
    "from scipy.spatial import distance\n",
    "imp.reload(cdr)\n",
    "import numpy as np\n",
    "import fastcluster as fc\n",
    "\n",
    "from scipy.cluster import hierarchy\n",
    "\n",
    "print (\"Libraries loaded\")\n",
    "\n"
   ]
  },
  {
   "cell_type": "code",
   "execution_count": 2,
   "metadata": {
    "collapsed": false
   },
   "outputs": [],
   "source": [
    "internet = pd.read_csv('../../data/CDR/hash/cdr_time_raw.csv')\n",
    "internet = internet[['adjusted_callIn', 'adjusted_callOut', 'adjusted_internet', 'adjusted_smsIn', 'adjusted_smsOut', 'region_id', 'time']]"
   ]
  },
  {
   "cell_type": "code",
   "execution_count": 3,
   "metadata": {
    "collapsed": false
   },
   "outputs": [],
   "source": [
    "internet = internet.pivot(index='region_id', columns='time', values='adjusted_internet')"
   ]
  },
  {
   "cell_type": "code",
   "execution_count": 4,
   "metadata": {
    "collapsed": false
   },
   "outputs": [],
   "source": [
    "internet.fillna(0, inplace=True)"
   ]
  },
  {
   "cell_type": "code",
   "execution_count": 5,
   "metadata": {
    "collapsed": false
   },
   "outputs": [
    {
     "data": {
      "text/html": [
       "<div>\n",
       "<table border=\"1\" class=\"dataframe\">\n",
       "  <thead>\n",
       "    <tr style=\"text-align: right;\">\n",
       "      <th>time</th>\n",
       "      <th>1.3832604e+12</th>\n",
       "      <th>1.383264e+12</th>\n",
       "      <th>1.3832676e+12</th>\n",
       "      <th>1.3832712e+12</th>\n",
       "      <th>1.3832748e+12</th>\n",
       "      <th>1.3832784e+12</th>\n",
       "      <th>1.383282e+12</th>\n",
       "      <th>1.3832856e+12</th>\n",
       "      <th>1.3832892e+12</th>\n",
       "      <th>1.3832928e+12</th>\n",
       "      <th>...</th>\n",
       "      <th>1.388502e+12</th>\n",
       "      <th>1.3885056e+12</th>\n",
       "      <th>1.3885092e+12</th>\n",
       "      <th>1.3885128e+12</th>\n",
       "      <th>1.3885164e+12</th>\n",
       "      <th>1.38852e+12</th>\n",
       "      <th>1.3885236e+12</th>\n",
       "      <th>1.3885242e+12</th>\n",
       "      <th>1.3885272e+12</th>\n",
       "      <th>1.3885278e+12</th>\n",
       "    </tr>\n",
       "    <tr>\n",
       "      <th>region_id</th>\n",
       "      <th></th>\n",
       "      <th></th>\n",
       "      <th></th>\n",
       "      <th></th>\n",
       "      <th></th>\n",
       "      <th></th>\n",
       "      <th></th>\n",
       "      <th></th>\n",
       "      <th></th>\n",
       "      <th></th>\n",
       "      <th></th>\n",
       "      <th></th>\n",
       "      <th></th>\n",
       "      <th></th>\n",
       "      <th></th>\n",
       "      <th></th>\n",
       "      <th></th>\n",
       "      <th></th>\n",
       "      <th></th>\n",
       "      <th></th>\n",
       "      <th></th>\n",
       "    </tr>\n",
       "  </thead>\n",
       "  <tbody>\n",
       "    <tr>\n",
       "      <th>1.0</th>\n",
       "      <td>122913.898747</td>\n",
       "      <td>105779.852430</td>\n",
       "      <td>87457.812869</td>\n",
       "      <td>71757.012913</td>\n",
       "      <td>61981.363964</td>\n",
       "      <td>54418.737100</td>\n",
       "      <td>52748.191473</td>\n",
       "      <td>56826.956148</td>\n",
       "      <td>64387.750055</td>\n",
       "      <td>80790.860883</td>\n",
       "      <td>...</td>\n",
       "      <td>105230.063898</td>\n",
       "      <td>94684.450210</td>\n",
       "      <td>78995.029808</td>\n",
       "      <td>67673.582237</td>\n",
       "      <td>71112.222656</td>\n",
       "      <td>79955.671528</td>\n",
       "      <td>90990.525644</td>\n",
       "      <td>0.0</td>\n",
       "      <td>102567.671325</td>\n",
       "      <td>0.0</td>\n",
       "    </tr>\n",
       "    <tr>\n",
       "      <th>2.0</th>\n",
       "      <td>99711.994472</td>\n",
       "      <td>93397.426718</td>\n",
       "      <td>82990.339386</td>\n",
       "      <td>69282.652696</td>\n",
       "      <td>55869.288204</td>\n",
       "      <td>44489.814336</td>\n",
       "      <td>41756.117562</td>\n",
       "      <td>44618.832460</td>\n",
       "      <td>54873.751083</td>\n",
       "      <td>67117.969553</td>\n",
       "      <td>...</td>\n",
       "      <td>41654.046204</td>\n",
       "      <td>37224.568621</td>\n",
       "      <td>31895.002036</td>\n",
       "      <td>30306.138357</td>\n",
       "      <td>32249.326645</td>\n",
       "      <td>37384.214836</td>\n",
       "      <td>38888.612397</td>\n",
       "      <td>0.0</td>\n",
       "      <td>42256.169063</td>\n",
       "      <td>0.0</td>\n",
       "    </tr>\n",
       "    <tr>\n",
       "      <th>3.0</th>\n",
       "      <td>51573.194553</td>\n",
       "      <td>51198.675032</td>\n",
       "      <td>44537.046818</td>\n",
       "      <td>37161.661749</td>\n",
       "      <td>30849.377875</td>\n",
       "      <td>26079.045392</td>\n",
       "      <td>24329.245247</td>\n",
       "      <td>27039.391909</td>\n",
       "      <td>30472.497752</td>\n",
       "      <td>34551.684876</td>\n",
       "      <td>...</td>\n",
       "      <td>33968.651263</td>\n",
       "      <td>32892.421211</td>\n",
       "      <td>31377.882798</td>\n",
       "      <td>30495.395472</td>\n",
       "      <td>31102.981044</td>\n",
       "      <td>32018.873138</td>\n",
       "      <td>32446.706990</td>\n",
       "      <td>0.0</td>\n",
       "      <td>33138.731568</td>\n",
       "      <td>0.0</td>\n",
       "    </tr>\n",
       "    <tr>\n",
       "      <th>4.0</th>\n",
       "      <td>55493.152388</td>\n",
       "      <td>54003.588097</td>\n",
       "      <td>46003.547260</td>\n",
       "      <td>38231.573552</td>\n",
       "      <td>29865.727287</td>\n",
       "      <td>24151.368871</td>\n",
       "      <td>22231.353321</td>\n",
       "      <td>24667.026813</td>\n",
       "      <td>30333.700809</td>\n",
       "      <td>33317.299899</td>\n",
       "      <td>...</td>\n",
       "      <td>19681.462336</td>\n",
       "      <td>19749.617580</td>\n",
       "      <td>19220.349538</td>\n",
       "      <td>19068.255157</td>\n",
       "      <td>18724.395137</td>\n",
       "      <td>19928.609662</td>\n",
       "      <td>19356.218695</td>\n",
       "      <td>0.0</td>\n",
       "      <td>18629.357653</td>\n",
       "      <td>0.0</td>\n",
       "    </tr>\n",
       "    <tr>\n",
       "      <th>5.0</th>\n",
       "      <td>44933.377755</td>\n",
       "      <td>38466.803797</td>\n",
       "      <td>33144.786401</td>\n",
       "      <td>28749.978254</td>\n",
       "      <td>28670.263101</td>\n",
       "      <td>27206.212977</td>\n",
       "      <td>31097.375575</td>\n",
       "      <td>38192.143813</td>\n",
       "      <td>45037.277886</td>\n",
       "      <td>53982.661957</td>\n",
       "      <td>...</td>\n",
       "      <td>47994.652868</td>\n",
       "      <td>47723.421411</td>\n",
       "      <td>45451.869838</td>\n",
       "      <td>41390.325939</td>\n",
       "      <td>40780.162168</td>\n",
       "      <td>38640.817906</td>\n",
       "      <td>38082.760154</td>\n",
       "      <td>0.0</td>\n",
       "      <td>36285.806393</td>\n",
       "      <td>0.0</td>\n",
       "    </tr>\n",
       "  </tbody>\n",
       "</table>\n",
       "<p>5 rows × 2316 columns</p>\n",
       "</div>"
      ],
      "text/plain": [
       "time        1.383260e+12   1.383264e+12  1.383268e+12  1.383271e+12  \\\n",
       "region_id                                                             \n",
       "1.0        122913.898747  105779.852430  87457.812869  71757.012913   \n",
       "2.0         99711.994472   93397.426718  82990.339386  69282.652696   \n",
       "3.0         51573.194553   51198.675032  44537.046818  37161.661749   \n",
       "4.0         55493.152388   54003.588097  46003.547260  38231.573552   \n",
       "5.0         44933.377755   38466.803797  33144.786401  28749.978254   \n",
       "\n",
       "time       1.383275e+12  1.383278e+12  1.383282e+12  1.383286e+12  \\\n",
       "region_id                                                           \n",
       "1.0        61981.363964  54418.737100  52748.191473  56826.956148   \n",
       "2.0        55869.288204  44489.814336  41756.117562  44618.832460   \n",
       "3.0        30849.377875  26079.045392  24329.245247  27039.391909   \n",
       "4.0        29865.727287  24151.368871  22231.353321  24667.026813   \n",
       "5.0        28670.263101  27206.212977  31097.375575  38192.143813   \n",
       "\n",
       "time       1.383289e+12  1.383293e+12      ...        1.388502e+12  \\\n",
       "region_id                                  ...                       \n",
       "1.0        64387.750055  80790.860883      ...       105230.063898   \n",
       "2.0        54873.751083  67117.969553      ...        41654.046204   \n",
       "3.0        30472.497752  34551.684876      ...        33968.651263   \n",
       "4.0        30333.700809  33317.299899      ...        19681.462336   \n",
       "5.0        45037.277886  53982.661957      ...        47994.652868   \n",
       "\n",
       "time       1.388506e+12  1.388509e+12  1.388513e+12  1.388516e+12  \\\n",
       "region_id                                                           \n",
       "1.0        94684.450210  78995.029808  67673.582237  71112.222656   \n",
       "2.0        37224.568621  31895.002036  30306.138357  32249.326645   \n",
       "3.0        32892.421211  31377.882798  30495.395472  31102.981044   \n",
       "4.0        19749.617580  19220.349538  19068.255157  18724.395137   \n",
       "5.0        47723.421411  45451.869838  41390.325939  40780.162168   \n",
       "\n",
       "time       1.388520e+12  1.388524e+12  1.388524e+12   1.388527e+12  \\\n",
       "region_id                                                            \n",
       "1.0        79955.671528  90990.525644           0.0  102567.671325   \n",
       "2.0        37384.214836  38888.612397           0.0   42256.169063   \n",
       "3.0        32018.873138  32446.706990           0.0   33138.731568   \n",
       "4.0        19928.609662  19356.218695           0.0   18629.357653   \n",
       "5.0        38640.817906  38082.760154           0.0   36285.806393   \n",
       "\n",
       "time       1.388528e+12  \n",
       "region_id                \n",
       "1.0                 0.0  \n",
       "2.0                 0.0  \n",
       "3.0                 0.0  \n",
       "4.0                 0.0  \n",
       "5.0                 0.0  \n",
       "\n",
       "[5 rows x 2316 columns]"
      ]
     },
     "execution_count": 5,
     "metadata": {},
     "output_type": "execute_result"
    }
   ],
   "source": [
    "internet.head()"
   ]
  },
  {
   "cell_type": "code",
   "execution_count": null,
   "metadata": {
    "collapsed": true
   },
   "outputs": [],
   "source": []
  },
  {
   "cell_type": "code",
   "execution_count": 6,
   "metadata": {
    "collapsed": false
   },
   "outputs": [],
   "source": [
    "x = internet.as_matrix()"
   ]
  },
  {
   "cell_type": "code",
   "execution_count": 7,
   "metadata": {
    "collapsed": false
   },
   "outputs": [
    {
     "data": {
      "text/plain": [
       "2316"
      ]
     },
     "execution_count": 7,
     "metadata": {},
     "output_type": "execute_result"
    }
   ],
   "source": [
    "mean = np.mean(internet, 0)\n",
    "mean.count()"
   ]
  },
  {
   "cell_type": "code",
   "execution_count": 8,
   "metadata": {
    "collapsed": false
   },
   "outputs": [],
   "source": [
    "x_prime = np.zeros(shape=(85,mean.count()))"
   ]
  },
  {
   "cell_type": "code",
   "execution_count": null,
   "metadata": {
    "collapsed": false
   },
   "outputs": [],
   "source": []
  },
  {
   "cell_type": "code",
   "execution_count": 9,
   "metadata": {
    "collapsed": false
   },
   "outputs": [],
   "source": [
    "for i in range(0, 85):\n",
    "    x_prime[i] = x[i] - mean\n"
   ]
  },
  {
   "cell_type": "code",
   "execution_count": 10,
   "metadata": {
    "collapsed": false
   },
   "outputs": [],
   "source": [
    "x_prime = np.transpose(x_prime)\n",
    "len(x_prime)\n",
    "xpp = pd.DataFrame(x_prime)"
   ]
  },
  {
   "cell_type": "code",
   "execution_count": null,
   "metadata": {
    "collapsed": false
   },
   "outputs": [],
   "source": [
    "xpp.index = xpp.index + 1"
   ]
  },
  {
   "cell_type": "code",
   "execution_count": null,
   "metadata": {
    "collapsed": false
   },
   "outputs": [],
   "source": [
    "corr = xpp.T.corr()\n",
    "correlations_array = np.asarray(corr)\n",
    "\n",
    "###### from scipy.cluster import hierarchy\n",
    "\n",
    "\n",
    "row_linkage = hierarchy.linkage(\n",
    "    distance.pdist(correlations_array), method='average')\n",
    "\n",
    "col_linkage = hierarchy.linkage(\n",
    "    distance.pdist(correlations_array.T), method='average')\n",
    "\n",
    "sns.clustermap(corr, row_linkage=row_linkage, col_linkage=col_linkage, method=\"average\",\n",
    "               figsize=(13, 13))"
   ]
  },
  {
   "cell_type": "code",
   "execution_count": null,
   "metadata": {
    "collapsed": false
   },
   "outputs": [],
   "source": []
  },
  {
   "cell_type": "code",
   "execution_count": null,
   "metadata": {
    "collapsed": false
   },
   "outputs": [],
   "source": [
    "f = plt.figure(figsize=(12, 20))\n",
    "gs = plt.GridSpec(15, 1)\n",
    "map_ax = f.add_subplot(gs[0:-5])\n",
    "sns.heatmap(corr, ax=map_ax,\n",
    "            cbar_kws={\"orientation\": \"horizontal\"})\n",
    "map_ax.set(xlabel=\"Calls\");"
   ]
  },
  {
   "cell_type": "code",
   "execution_count": null,
   "metadata": {
    "collapsed": false
   },
   "outputs": [],
   "source": [
    "callIn = region_based.pivot(index='region_id', columns='time', values='adjusted_callIn')\n",
    "callIn.fillna(0, inplace=True)\n",
    "x = callIn.as_matrix()\n",
    "mean = np.mean(callIn, 0)\n",
    "x_prime = np.zeros(shape=(85, mean.count()))\n",
    "for i in range(0, 85):\n",
    "    x_prime[i] = x[i] - mean\n",
    "x_prime = np.transpose(x_prime)\n",
    "\n",
    "xpp = pd.DataFrame(x_prime)\n",
    "corr = xpp.corr('pearson')\n",
    "corr.index = corr.index + 1\n",
    "corr.columns = range(1,86)\n",
    "\n",
    "f = plt.figure(figsize=(12, 20))\n",
    "gs = plt.GridSpec(15, 1)\n",
    "map_ax = f.add_subplot(gs[0:-5])\n",
    "sns.heatmap(corr, ax=map_ax,\n",
    "            cbar_kws={\"orientation\": \"horizontal\"})\n",
    "map_ax.set(xlabel=\"Call-In\");"
   ]
  },
  {
   "cell_type": "code",
   "execution_count": null,
   "metadata": {
    "collapsed": true
   },
   "outputs": [],
   "source": []
  }
 ],
 "metadata": {
  "anaconda-cloud": {},
  "kernelspec": {
   "display_name": "Python 3",
   "language": "python",
   "name": "python3"
  },
  "language_info": {
   "codemirror_mode": {
    "name": "ipython",
    "version": 3
   },
   "file_extension": ".py",
   "mimetype": "text/x-python",
   "name": "python",
   "nbconvert_exporter": "python",
   "pygments_lexer": "ipython3",
   "version": "3.5.1"
  }
 },
 "nbformat": 4,
 "nbformat_minor": 0
}
