{
 "cells": [
  {
   "cell_type": "code",
   "execution_count": 1,
   "metadata": {
    "collapsed": true
   },
   "outputs": [],
   "source": [
    "import pandas as pd"
   ]
  },
  {
   "cell_type": "code",
   "execution_count": 2,
   "metadata": {
    "collapsed": false
   },
   "outputs": [],
   "source": [
    "df = pd.read_csv('../../data/CDR/sms-call-internet-mi-2013-11-01.txt', delimiter='\\t',\n",
    "                 header=None) \n",
    "# "
   ]
  },
  {
   "cell_type": "code",
   "execution_count": 9,
   "metadata": {
    "collapsed": false
   },
   "outputs": [],
   "source": [
    "df.columns = [\"cellID\", \"time\", \"countryCode\", \"smsIn\", \"smsOut\", \"callIn\", \"callOut\", \"internet\"]"
   ]
  },
  {
   "cell_type": "code",
   "execution_count": 10,
   "metadata": {
    "collapsed": false
   },
   "outputs": [
    {
     "data": {
      "text/html": [
       "<div>\n",
       "<table border=\"1\" class=\"dataframe\">\n",
       "  <thead>\n",
       "    <tr style=\"text-align: right;\">\n",
       "      <th></th>\n",
       "      <th>cellID</th>\n",
       "      <th>time</th>\n",
       "      <th>countryCode</th>\n",
       "      <th>smsIn</th>\n",
       "      <th>smsOut</th>\n",
       "      <th>callIn</th>\n",
       "      <th>callOut</th>\n",
       "      <th>internet</th>\n",
       "    </tr>\n",
       "  </thead>\n",
       "  <tbody>\n",
       "    <tr>\n",
       "      <th>0</th>\n",
       "      <td>1</td>\n",
       "      <td>1383260400000</td>\n",
       "      <td>0</td>\n",
       "      <td>0.081363</td>\n",
       "      <td>NaN</td>\n",
       "      <td>NaN</td>\n",
       "      <td>NaN</td>\n",
       "      <td>NaN</td>\n",
       "    </tr>\n",
       "    <tr>\n",
       "      <th>1</th>\n",
       "      <td>1</td>\n",
       "      <td>1383260400000</td>\n",
       "      <td>39</td>\n",
       "      <td>0.141864</td>\n",
       "      <td>0.156787</td>\n",
       "      <td>0.160938</td>\n",
       "      <td>0.052275</td>\n",
       "      <td>11.028366</td>\n",
       "    </tr>\n",
       "    <tr>\n",
       "      <th>2</th>\n",
       "      <td>1</td>\n",
       "      <td>1383261000000</td>\n",
       "      <td>0</td>\n",
       "      <td>0.136588</td>\n",
       "      <td>NaN</td>\n",
       "      <td>NaN</td>\n",
       "      <td>0.027300</td>\n",
       "      <td>NaN</td>\n",
       "    </tr>\n",
       "    <tr>\n",
       "      <th>3</th>\n",
       "      <td>1</td>\n",
       "      <td>1383261000000</td>\n",
       "      <td>33</td>\n",
       "      <td>NaN</td>\n",
       "      <td>NaN</td>\n",
       "      <td>NaN</td>\n",
       "      <td>NaN</td>\n",
       "      <td>0.026137</td>\n",
       "    </tr>\n",
       "    <tr>\n",
       "      <th>4</th>\n",
       "      <td>1</td>\n",
       "      <td>1383261000000</td>\n",
       "      <td>39</td>\n",
       "      <td>0.278452</td>\n",
       "      <td>0.119926</td>\n",
       "      <td>0.188777</td>\n",
       "      <td>0.133637</td>\n",
       "      <td>11.100963</td>\n",
       "    </tr>\n",
       "  </tbody>\n",
       "</table>\n",
       "</div>"
      ],
      "text/plain": [
       "   cellID           time  countryCode     smsIn    smsOut    callIn   callOut  \\\n",
       "0       1  1383260400000            0  0.081363       NaN       NaN       NaN   \n",
       "1       1  1383260400000           39  0.141864  0.156787  0.160938  0.052275   \n",
       "2       1  1383261000000            0  0.136588       NaN       NaN  0.027300   \n",
       "3       1  1383261000000           33       NaN       NaN       NaN       NaN   \n",
       "4       1  1383261000000           39  0.278452  0.119926  0.188777  0.133637   \n",
       "\n",
       "    internet  \n",
       "0        NaN  \n",
       "1  11.028366  \n",
       "2        NaN  \n",
       "3   0.026137  \n",
       "4  11.100963  "
      ]
     },
     "execution_count": 10,
     "metadata": {},
     "output_type": "execute_result"
    }
   ],
   "source": [
    "df.head()"
   ]
  },
  {
   "cell_type": "code",
   "execution_count": 11,
   "metadata": {
    "collapsed": false
   },
   "outputs": [
    {
     "data": {
      "text/plain": [
       "78.709754721307775"
      ]
     },
     "execution_count": 11,
     "metadata": {},
     "output_type": "execute_result"
    }
   ],
   "source": [
    "df[df[\"cellID\"] == 1][\"smsIn\"].sum()"
   ]
  },
  {
   "cell_type": "code",
   "execution_count": null,
   "metadata": {
    "collapsed": true
   },
   "outputs": [],
   "source": []
  }
 ],
 "metadata": {
  "kernelspec": {
   "display_name": "Python 3",
   "language": "python",
   "name": "python3"
  },
  "language_info": {
   "codemirror_mode": {
    "name": "ipython",
    "version": 3
   },
   "file_extension": ".py",
   "mimetype": "text/x-python",
   "name": "python",
   "nbconvert_exporter": "python",
   "pygments_lexer": "ipython3",
   "version": "3.5.1"
  }
 },
 "nbformat": 4,
 "nbformat_minor": 0
}
