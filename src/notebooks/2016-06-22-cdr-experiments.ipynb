{
 "cells": [
  {
   "cell_type": "code",
   "execution_count": 14,
   "metadata": {
    "collapsed": false
   },
   "outputs": [],
   "source": [
    "import pandas as pd\n",
    "import json\n",
    "import numpy\n",
    "from pandas.io.json import json_normalize"
   ]
  },
  {
   "cell_type": "code",
   "execution_count": 19,
   "metadata": {
    "collapsed": false
   },
   "outputs": [],
   "source": [
    "df = pd.read_csv('../../data/CDR/sms-call-internet-mi-2013-11-01.txt', delimiter='\\t',\n",
    "                 header=None) "
   ]
  },
  {
   "cell_type": "code",
   "execution_count": 2,
   "metadata": {
    "collapsed": false
   },
   "outputs": [],
   "source": [
    "file = '../CDR_process/milano-grid.geojson'\n",
    "with open(file) as f:\n",
    "    grid = pd.read_json(f, typ='DataFrame')"
   ]
  },
  {
   "cell_type": "code",
   "execution_count": 20,
   "metadata": {
    "collapsed": false
   },
   "outputs": [],
   "source": [
    "df.columns = [\"cellID\", \"time\", \"countryCode\", \"smsIn\", \"smsOut\", \"callIn\", \"callOut\", \"internet\"]"
   ]
  },
  {
   "cell_type": "code",
   "execution_count": 47,
   "metadata": {
    "collapsed": false
   },
   "outputs": [
    {
     "ename": "KeyboardInterrupt",
     "evalue": "",
     "output_type": "error",
     "traceback": [
      "\u001b[0;31m---------------------------------------------------------------------------\u001b[0m",
      "\u001b[0;31mKeyboardInterrupt\u001b[0m                         Traceback (most recent call last)",
      "\u001b[0;32m<ipython-input-47-4ca7ae84b977>\u001b[0m in \u001b[0;36m<module>\u001b[0;34m()\u001b[0m\n\u001b[1;32m      7\u001b[0m         \u001b[0mcell\u001b[0m\u001b[0;34m[\u001b[0m\u001b[0;34m'properties'\u001b[0m\u001b[0;34m]\u001b[0m\u001b[0;34m[\u001b[0m\u001b[0;34m'call_in'\u001b[0m\u001b[0;34m]\u001b[0m \u001b[0;34m=\u001b[0m \u001b[0mdf\u001b[0m\u001b[0;34m[\u001b[0m\u001b[0;34m(\u001b[0m\u001b[0mdf\u001b[0m\u001b[0;34m[\u001b[0m\u001b[0;34m\"cellID\"\u001b[0m\u001b[0;34m]\u001b[0m \u001b[0;34m==\u001b[0m \u001b[0mcell\u001b[0m\u001b[0;34m[\u001b[0m\u001b[0;34m'properties'\u001b[0m\u001b[0;34m]\u001b[0m\u001b[0;34m[\u001b[0m\u001b[0;34m'cellId'\u001b[0m\u001b[0;34m]\u001b[0m\u001b[0;34m)\u001b[0m \u001b[0;34m&\u001b[0m \u001b[0;34m(\u001b[0m\u001b[0mdf\u001b[0m\u001b[0;34m[\u001b[0m\u001b[0;34m\"countryCode\"\u001b[0m\u001b[0;34m]\u001b[0m \u001b[0;34m!=\u001b[0m \u001b[0;36m0\u001b[0m\u001b[0;34m)\u001b[0m\u001b[0;34m]\u001b[0m\u001b[0;34m[\u001b[0m\u001b[0;34m'callIn'\u001b[0m\u001b[0;34m]\u001b[0m\u001b[0;34m.\u001b[0m\u001b[0msum\u001b[0m\u001b[0;34m(\u001b[0m\u001b[0;34m)\u001b[0m\u001b[0;34m\u001b[0m\u001b[0m\n\u001b[1;32m      8\u001b[0m     \u001b[0;32mif\u001b[0m \u001b[0;34m'call_out'\u001b[0m \u001b[0;32mnot\u001b[0m \u001b[0;32min\u001b[0m \u001b[0mcell\u001b[0m\u001b[0;34m[\u001b[0m\u001b[0;34m'properties'\u001b[0m\u001b[0;34m]\u001b[0m\u001b[0;34m:\u001b[0m\u001b[0;34m\u001b[0m\u001b[0m\n\u001b[0;32m----> 9\u001b[0;31m         \u001b[0mcell\u001b[0m\u001b[0;34m[\u001b[0m\u001b[0;34m'properties'\u001b[0m\u001b[0;34m]\u001b[0m\u001b[0;34m[\u001b[0m\u001b[0;34m'call_out'\u001b[0m\u001b[0;34m]\u001b[0m \u001b[0;34m=\u001b[0m \u001b[0mdf\u001b[0m\u001b[0;34m[\u001b[0m\u001b[0;34m(\u001b[0m\u001b[0mdf\u001b[0m\u001b[0;34m[\u001b[0m\u001b[0;34m\"cellID\"\u001b[0m\u001b[0;34m]\u001b[0m \u001b[0;34m==\u001b[0m \u001b[0mcell\u001b[0m\u001b[0;34m[\u001b[0m\u001b[0;34m'properties'\u001b[0m\u001b[0;34m]\u001b[0m\u001b[0;34m[\u001b[0m\u001b[0;34m'cellId'\u001b[0m\u001b[0;34m]\u001b[0m\u001b[0;34m)\u001b[0m \u001b[0;34m&\u001b[0m \u001b[0;34m(\u001b[0m\u001b[0mdf\u001b[0m\u001b[0;34m[\u001b[0m\u001b[0;34m\"countryCode\"\u001b[0m\u001b[0;34m]\u001b[0m \u001b[0;34m!=\u001b[0m \u001b[0;36m0\u001b[0m\u001b[0;34m)\u001b[0m\u001b[0;34m]\u001b[0m\u001b[0;34m[\u001b[0m\u001b[0;34m'callOut'\u001b[0m\u001b[0;34m]\u001b[0m\u001b[0;34m.\u001b[0m\u001b[0msum\u001b[0m\u001b[0;34m(\u001b[0m\u001b[0;34m)\u001b[0m\u001b[0;34m\u001b[0m\u001b[0m\n\u001b[0m\u001b[1;32m     10\u001b[0m     \u001b[0;32mif\u001b[0m \u001b[0;34m'internet'\u001b[0m \u001b[0;32mnot\u001b[0m \u001b[0;32min\u001b[0m \u001b[0mcell\u001b[0m\u001b[0;34m[\u001b[0m\u001b[0;34m'properties'\u001b[0m\u001b[0;34m]\u001b[0m\u001b[0;34m:\u001b[0m\u001b[0;34m\u001b[0m\u001b[0m\n\u001b[1;32m     11\u001b[0m         \u001b[0mcell\u001b[0m\u001b[0;34m[\u001b[0m\u001b[0;34m'properties'\u001b[0m\u001b[0;34m]\u001b[0m\u001b[0;34m[\u001b[0m\u001b[0;34m'internet'\u001b[0m\u001b[0;34m]\u001b[0m \u001b[0;34m=\u001b[0m \u001b[0mdf\u001b[0m\u001b[0;34m[\u001b[0m\u001b[0;34m(\u001b[0m\u001b[0mdf\u001b[0m\u001b[0;34m[\u001b[0m\u001b[0;34m\"cellID\"\u001b[0m\u001b[0;34m]\u001b[0m \u001b[0;34m==\u001b[0m \u001b[0mcell\u001b[0m\u001b[0;34m[\u001b[0m\u001b[0;34m'properties'\u001b[0m\u001b[0;34m]\u001b[0m\u001b[0;34m[\u001b[0m\u001b[0;34m'cellId'\u001b[0m\u001b[0;34m]\u001b[0m\u001b[0;34m)\u001b[0m \u001b[0;34m&\u001b[0m \u001b[0;34m(\u001b[0m\u001b[0mdf\u001b[0m\u001b[0;34m[\u001b[0m\u001b[0;34m\"countryCode\"\u001b[0m\u001b[0;34m]\u001b[0m \u001b[0;34m!=\u001b[0m \u001b[0;36m0\u001b[0m\u001b[0;34m)\u001b[0m\u001b[0;34m]\u001b[0m\u001b[0;34m[\u001b[0m\u001b[0;34m'internet'\u001b[0m\u001b[0;34m]\u001b[0m\u001b[0;34m.\u001b[0m\u001b[0msum\u001b[0m\u001b[0;34m(\u001b[0m\u001b[0;34m)\u001b[0m\u001b[0;34m\u001b[0m\u001b[0m\n",
      "\u001b[0;31mKeyboardInterrupt\u001b[0m: "
     ]
    }
   ],
   "source": [
    "for cell in grid[\"features\"]:\n",
    "    if 'sms_in' not in cell['properties']:\n",
    "        cell['properties']['sms_in'] = df[(df[\"cellID\"] == cell['properties']['cellId']) & (df[\"countryCode\"] != 0)]['smsIn'].sum()\n",
    "    if 'sms_out' not in cell['properties']:\n",
    "        cell['properties']['sms_out'] = df[(df[\"cellID\"] == cell['properties']['cellId']) & (df[\"countryCode\"] != 0)]['smsOut'].sum()\n",
    "    if 'call_in' not in cell['properties']:\n",
    "        cell['properties']['call_in'] = df[(df[\"cellID\"] == cell['properties']['cellId']) & (df[\"countryCode\"] != 0)]['callIn'].sum()\n",
    "    if 'call_out' not in cell['properties']:\n",
    "        cell['properties']['call_out'] = df[(df[\"cellID\"] == cell['properties']['cellId']) & (df[\"countryCode\"] != 0)]['callOut'].sum()\n",
    "    if 'internet' not in cell['properties']:\n",
    "        cell['properties']['internet'] = df[(df[\"cellID\"] == cell['properties']['cellId']) & (df[\"countryCode\"] != 0)]['internet'].sum()    "
   ]
  },
  {
   "cell_type": "code",
   "execution_count": 65,
   "metadata": {
    "collapsed": false
   },
   "outputs": [],
   "source": [
    "gg = json_normalize(grid['features'])"
   ]
  },
  {
   "cell_type": "code",
   "execution_count": 66,
   "metadata": {
    "collapsed": false
   },
   "outputs": [
    {
     "data": {
      "text/html": [
       "<div>\n",
       "<table border=\"1\" class=\"dataframe\">\n",
       "  <thead>\n",
       "    <tr style=\"text-align: right;\">\n",
       "      <th></th>\n",
       "      <th>cellID</th>\n",
       "      <th>time</th>\n",
       "      <th>countryCode</th>\n",
       "      <th>smsIn</th>\n",
       "      <th>smsOut</th>\n",
       "      <th>callIn</th>\n",
       "      <th>callOut</th>\n",
       "      <th>internet</th>\n",
       "    </tr>\n",
       "  </thead>\n",
       "  <tbody>\n",
       "    <tr>\n",
       "      <th>0</th>\n",
       "      <td>1</td>\n",
       "      <td>1383260400000</td>\n",
       "      <td>0</td>\n",
       "      <td>0.081363</td>\n",
       "      <td>NaN</td>\n",
       "      <td>NaN</td>\n",
       "      <td>NaN</td>\n",
       "      <td>NaN</td>\n",
       "    </tr>\n",
       "    <tr>\n",
       "      <th>1</th>\n",
       "      <td>1</td>\n",
       "      <td>1383260400000</td>\n",
       "      <td>39</td>\n",
       "      <td>0.141864</td>\n",
       "      <td>0.156787</td>\n",
       "      <td>0.160938</td>\n",
       "      <td>0.052275</td>\n",
       "      <td>11.028366</td>\n",
       "    </tr>\n",
       "    <tr>\n",
       "      <th>2</th>\n",
       "      <td>1</td>\n",
       "      <td>1383261000000</td>\n",
       "      <td>0</td>\n",
       "      <td>0.136588</td>\n",
       "      <td>NaN</td>\n",
       "      <td>NaN</td>\n",
       "      <td>0.027300</td>\n",
       "      <td>NaN</td>\n",
       "    </tr>\n",
       "    <tr>\n",
       "      <th>3</th>\n",
       "      <td>1</td>\n",
       "      <td>1383261000000</td>\n",
       "      <td>33</td>\n",
       "      <td>NaN</td>\n",
       "      <td>NaN</td>\n",
       "      <td>NaN</td>\n",
       "      <td>NaN</td>\n",
       "      <td>0.026137</td>\n",
       "    </tr>\n",
       "    <tr>\n",
       "      <th>4</th>\n",
       "      <td>1</td>\n",
       "      <td>1383261000000</td>\n",
       "      <td>39</td>\n",
       "      <td>0.278452</td>\n",
       "      <td>0.119926</td>\n",
       "      <td>0.188777</td>\n",
       "      <td>0.133637</td>\n",
       "      <td>11.100963</td>\n",
       "    </tr>\n",
       "  </tbody>\n",
       "</table>\n",
       "</div>"
      ],
      "text/plain": [
       "   cellID           time  countryCode     smsIn    smsOut    callIn   callOut  \\\n",
       "0       1  1383260400000            0  0.081363       NaN       NaN       NaN   \n",
       "1       1  1383260400000           39  0.141864  0.156787  0.160938  0.052275   \n",
       "2       1  1383261000000            0  0.136588       NaN       NaN  0.027300   \n",
       "3       1  1383261000000           33       NaN       NaN       NaN       NaN   \n",
       "4       1  1383261000000           39  0.278452  0.119926  0.188777  0.133637   \n",
       "\n",
       "    internet  \n",
       "0        NaN  \n",
       "1  11.028366  \n",
       "2        NaN  \n",
       "3   0.026137  \n",
       "4  11.100963  "
      ]
     },
     "execution_count": 66,
     "metadata": {},
     "output_type": "execute_result"
    }
   ],
   "source": [
    "df.head()"
   ]
  },
  {
   "cell_type": "code",
   "execution_count": 67,
   "metadata": {
    "collapsed": false
   },
   "outputs": [
    {
     "data": {
      "text/html": [
       "<div>\n",
       "<table border=\"1\" class=\"dataframe\">\n",
       "  <thead>\n",
       "    <tr style=\"text-align: right;\">\n",
       "      <th></th>\n",
       "      <th>geometry.coordinates</th>\n",
       "      <th>geometry.type</th>\n",
       "      <th>id</th>\n",
       "      <th>properties.cellId</th>\n",
       "      <th>type</th>\n",
       "    </tr>\n",
       "  </thead>\n",
       "  <tbody>\n",
       "    <tr>\n",
       "      <th>0</th>\n",
       "      <td>[[[9.0114910478323, 45.35880131440966], [9.014...</td>\n",
       "      <td>Polygon</td>\n",
       "      <td>0</td>\n",
       "      <td>1</td>\n",
       "      <td>Feature</td>\n",
       "    </tr>\n",
       "    <tr>\n",
       "      <th>1</th>\n",
       "      <td>[[[9.014491488013135, 45.35880097314403], [9.0...</td>\n",
       "      <td>Polygon</td>\n",
       "      <td>1</td>\n",
       "      <td>2</td>\n",
       "      <td>Feature</td>\n",
       "    </tr>\n",
       "    <tr>\n",
       "      <th>2</th>\n",
       "      <td>[[[9.017491928134044, 45.358800553060284], [9....</td>\n",
       "      <td>Polygon</td>\n",
       "      <td>2</td>\n",
       "      <td>3</td>\n",
       "      <td>Feature</td>\n",
       "    </tr>\n",
       "    <tr>\n",
       "      <th>3</th>\n",
       "      <td>[[[9.02049236818262, 45.35880005415845], [9.02...</td>\n",
       "      <td>Polygon</td>\n",
       "      <td>3</td>\n",
       "      <td>4</td>\n",
       "      <td>Feature</td>\n",
       "    </tr>\n",
       "    <tr>\n",
       "      <th>4</th>\n",
       "      <td>[[[9.023492808146456, 45.35879947643852], [9.0...</td>\n",
       "      <td>Polygon</td>\n",
       "      <td>4</td>\n",
       "      <td>5</td>\n",
       "      <td>Feature</td>\n",
       "    </tr>\n",
       "  </tbody>\n",
       "</table>\n",
       "</div>"
      ],
      "text/plain": [
       "                                geometry.coordinates geometry.type  id  \\\n",
       "0  [[[9.0114910478323, 45.35880131440966], [9.014...       Polygon   0   \n",
       "1  [[[9.014491488013135, 45.35880097314403], [9.0...       Polygon   1   \n",
       "2  [[[9.017491928134044, 45.358800553060284], [9....       Polygon   2   \n",
       "3  [[[9.02049236818262, 45.35880005415845], [9.02...       Polygon   3   \n",
       "4  [[[9.023492808146456, 45.35879947643852], [9.0...       Polygon   4   \n",
       "\n",
       "   properties.cellId     type  \n",
       "0                  1  Feature  \n",
       "1                  2  Feature  \n",
       "2                  3  Feature  \n",
       "3                  4  Feature  \n",
       "4                  5  Feature  "
      ]
     },
     "execution_count": 67,
     "metadata": {},
     "output_type": "execute_result"
    }
   ],
   "source": [
    "gg.head()"
   ]
  },
  {
   "cell_type": "code",
   "execution_count": 17,
   "metadata": {
    "collapsed": true
   },
   "outputs": [],
   "source": []
  },
  {
   "cell_type": "code",
   "execution_count": 18,
   "metadata": {
    "collapsed": false
   },
   "outputs": [
    {
     "data": {
      "text/html": [
       "<div>\n",
       "<table border=\"1\" class=\"dataframe\">\n",
       "  <thead>\n",
       "    <tr style=\"text-align: right;\">\n",
       "      <th></th>\n",
       "      <th>geometry.coordinates</th>\n",
       "      <th>geometry.type</th>\n",
       "      <th>id</th>\n",
       "      <th>properties.cellId</th>\n",
       "      <th>type</th>\n",
       "      <th>sms_in</th>\n",
       "    </tr>\n",
       "  </thead>\n",
       "  <tbody>\n",
       "    <tr>\n",
       "      <th>0</th>\n",
       "      <td>[[[9.0114910478323, 45.35880131440966], [9.014...</td>\n",
       "      <td>Polygon</td>\n",
       "      <td>0</td>\n",
       "      <td>1</td>\n",
       "      <td>Feature</td>\n",
       "      <td>1.23</td>\n",
       "    </tr>\n",
       "    <tr>\n",
       "      <th>1</th>\n",
       "      <td>[[[9.014491488013135, 45.35880097314403], [9.0...</td>\n",
       "      <td>Polygon</td>\n",
       "      <td>1</td>\n",
       "      <td>2</td>\n",
       "      <td>Feature</td>\n",
       "      <td>1.23</td>\n",
       "    </tr>\n",
       "    <tr>\n",
       "      <th>2</th>\n",
       "      <td>[[[9.017491928134044, 45.358800553060284], [9....</td>\n",
       "      <td>Polygon</td>\n",
       "      <td>2</td>\n",
       "      <td>3</td>\n",
       "      <td>Feature</td>\n",
       "      <td>1.23</td>\n",
       "    </tr>\n",
       "    <tr>\n",
       "      <th>3</th>\n",
       "      <td>[[[9.02049236818262, 45.35880005415845], [9.02...</td>\n",
       "      <td>Polygon</td>\n",
       "      <td>3</td>\n",
       "      <td>4</td>\n",
       "      <td>Feature</td>\n",
       "      <td>1.23</td>\n",
       "    </tr>\n",
       "    <tr>\n",
       "      <th>4</th>\n",
       "      <td>[[[9.023492808146456, 45.35879947643852], [9.0...</td>\n",
       "      <td>Polygon</td>\n",
       "      <td>4</td>\n",
       "      <td>5</td>\n",
       "      <td>Feature</td>\n",
       "      <td>1.23</td>\n",
       "    </tr>\n",
       "  </tbody>\n",
       "</table>\n",
       "</div>"
      ],
      "text/plain": [
       "                                geometry.coordinates geometry.type  id  \\\n",
       "0  [[[9.0114910478323, 45.35880131440966], [9.014...       Polygon   0   \n",
       "1  [[[9.014491488013135, 45.35880097314403], [9.0...       Polygon   1   \n",
       "2  [[[9.017491928134044, 45.358800553060284], [9....       Polygon   2   \n",
       "3  [[[9.02049236818262, 45.35880005415845], [9.02...       Polygon   3   \n",
       "4  [[[9.023492808146456, 45.35879947643852], [9.0...       Polygon   4   \n",
       "\n",
       "   properties.cellId     type  sms_in  \n",
       "0                  1  Feature    1.23  \n",
       "1                  2  Feature    1.23  \n",
       "2                  3  Feature    1.23  \n",
       "3                  4  Feature    1.23  \n",
       "4                  5  Feature    1.23  "
      ]
     },
     "execution_count": 18,
     "metadata": {},
     "output_type": "execute_result"
    }
   ],
   "source": []
  },
  {
   "cell_type": "code",
   "execution_count": 68,
   "metadata": {
    "collapsed": false
   },
   "outputs": [],
   "source": [
    "agg_df = df[df['countryCode']!=0].groupby('cellID').agg({\n",
    "        'cellID': 'first',\n",
    "        'time': 'first',\n",
    "        'smsIn': 'sum',\n",
    "        'smsOut': 'sum',\n",
    "        'callIn': 'sum',\n",
    "        'callOut': 'sum',\n",
    "        'internet': 'sum'\n",
    "    })"
   ]
  },
  {
   "cell_type": "code",
   "execution_count": 69,
   "metadata": {
    "collapsed": false
   },
   "outputs": [
    {
     "data": {
      "text/html": [
       "<div>\n",
       "<table border=\"1\" class=\"dataframe\">\n",
       "  <thead>\n",
       "    <tr style=\"text-align: right;\">\n",
       "      <th></th>\n",
       "      <th>callIn</th>\n",
       "      <th>cellID</th>\n",
       "      <th>callOut</th>\n",
       "      <th>smsOut</th>\n",
       "      <th>smsIn</th>\n",
       "      <th>time</th>\n",
       "      <th>internet</th>\n",
       "    </tr>\n",
       "    <tr>\n",
       "      <th>cellID</th>\n",
       "      <th></th>\n",
       "      <th></th>\n",
       "      <th></th>\n",
       "      <th></th>\n",
       "      <th></th>\n",
       "      <th></th>\n",
       "      <th></th>\n",
       "    </tr>\n",
       "  </thead>\n",
       "  <tbody>\n",
       "    <tr>\n",
       "      <th>1</th>\n",
       "      <td>40.947090</td>\n",
       "      <td>1</td>\n",
       "      <td>47.574988</td>\n",
       "      <td>45.827771</td>\n",
       "      <td>57.888593</td>\n",
       "      <td>1383260400000</td>\n",
       "      <td>1507.048349</td>\n",
       "    </tr>\n",
       "    <tr>\n",
       "      <th>2</th>\n",
       "      <td>41.578010</td>\n",
       "      <td>2</td>\n",
       "      <td>48.467323</td>\n",
       "      <td>46.423165</td>\n",
       "      <td>58.672131</td>\n",
       "      <td>1383260400000</td>\n",
       "      <td>1512.859757</td>\n",
       "    </tr>\n",
       "    <tr>\n",
       "      <th>3</th>\n",
       "      <td>42.249600</td>\n",
       "      <td>3</td>\n",
       "      <td>49.417178</td>\n",
       "      <td>47.056939</td>\n",
       "      <td>59.506176</td>\n",
       "      <td>1383260400000</td>\n",
       "      <td>1519.045771</td>\n",
       "    </tr>\n",
       "    <tr>\n",
       "      <th>4</th>\n",
       "      <td>39.119618</td>\n",
       "      <td>4</td>\n",
       "      <td>44.990324</td>\n",
       "      <td>44.103200</td>\n",
       "      <td>55.619062</td>\n",
       "      <td>1383260400000</td>\n",
       "      <td>1490.215500</td>\n",
       "    </tr>\n",
       "    <tr>\n",
       "      <th>5</th>\n",
       "      <td>36.720678</td>\n",
       "      <td>5</td>\n",
       "      <td>42.165447</td>\n",
       "      <td>40.994705</td>\n",
       "      <td>51.638382</td>\n",
       "      <td>1383260400000</td>\n",
       "      <td>1356.849530</td>\n",
       "    </tr>\n",
       "  </tbody>\n",
       "</table>\n",
       "</div>"
      ],
      "text/plain": [
       "           callIn  cellID    callOut     smsOut      smsIn           time  \\\n",
       "cellID                                                                      \n",
       "1       40.947090       1  47.574988  45.827771  57.888593  1383260400000   \n",
       "2       41.578010       2  48.467323  46.423165  58.672131  1383260400000   \n",
       "3       42.249600       3  49.417178  47.056939  59.506176  1383260400000   \n",
       "4       39.119618       4  44.990324  44.103200  55.619062  1383260400000   \n",
       "5       36.720678       5  42.165447  40.994705  51.638382  1383260400000   \n",
       "\n",
       "           internet  \n",
       "cellID               \n",
       "1       1507.048349  \n",
       "2       1512.859757  \n",
       "3       1519.045771  \n",
       "4       1490.215500  \n",
       "5       1356.849530  "
      ]
     },
     "execution_count": 69,
     "metadata": {},
     "output_type": "execute_result"
    }
   ],
   "source": [
    "agg_df.head()"
   ]
  },
  {
   "cell_type": "code",
   "execution_count": 70,
   "metadata": {
    "collapsed": false
   },
   "outputs": [
    {
     "data": {
      "text/html": [
       "<div>\n",
       "<table border=\"1\" class=\"dataframe\">\n",
       "  <thead>\n",
       "    <tr style=\"text-align: right;\">\n",
       "      <th></th>\n",
       "      <th>cellID</th>\n",
       "      <th>time</th>\n",
       "      <th>countryCode</th>\n",
       "      <th>smsIn</th>\n",
       "      <th>smsOut</th>\n",
       "      <th>callIn</th>\n",
       "      <th>callOut</th>\n",
       "      <th>internet</th>\n",
       "    </tr>\n",
       "  </thead>\n",
       "  <tbody>\n",
       "    <tr>\n",
       "      <th>0</th>\n",
       "      <td>1</td>\n",
       "      <td>1383260400000</td>\n",
       "      <td>0</td>\n",
       "      <td>0.081363</td>\n",
       "      <td>NaN</td>\n",
       "      <td>NaN</td>\n",
       "      <td>NaN</td>\n",
       "      <td>NaN</td>\n",
       "    </tr>\n",
       "    <tr>\n",
       "      <th>1</th>\n",
       "      <td>1</td>\n",
       "      <td>1383260400000</td>\n",
       "      <td>39</td>\n",
       "      <td>0.141864</td>\n",
       "      <td>0.156787</td>\n",
       "      <td>0.160938</td>\n",
       "      <td>0.052275</td>\n",
       "      <td>11.028366</td>\n",
       "    </tr>\n",
       "    <tr>\n",
       "      <th>2</th>\n",
       "      <td>1</td>\n",
       "      <td>1383261000000</td>\n",
       "      <td>0</td>\n",
       "      <td>0.136588</td>\n",
       "      <td>NaN</td>\n",
       "      <td>NaN</td>\n",
       "      <td>0.027300</td>\n",
       "      <td>NaN</td>\n",
       "    </tr>\n",
       "    <tr>\n",
       "      <th>3</th>\n",
       "      <td>1</td>\n",
       "      <td>1383261000000</td>\n",
       "      <td>33</td>\n",
       "      <td>NaN</td>\n",
       "      <td>NaN</td>\n",
       "      <td>NaN</td>\n",
       "      <td>NaN</td>\n",
       "      <td>0.026137</td>\n",
       "    </tr>\n",
       "    <tr>\n",
       "      <th>4</th>\n",
       "      <td>1</td>\n",
       "      <td>1383261000000</td>\n",
       "      <td>39</td>\n",
       "      <td>0.278452</td>\n",
       "      <td>0.119926</td>\n",
       "      <td>0.188777</td>\n",
       "      <td>0.133637</td>\n",
       "      <td>11.100963</td>\n",
       "    </tr>\n",
       "  </tbody>\n",
       "</table>\n",
       "</div>"
      ],
      "text/plain": [
       "   cellID           time  countryCode     smsIn    smsOut    callIn   callOut  \\\n",
       "0       1  1383260400000            0  0.081363       NaN       NaN       NaN   \n",
       "1       1  1383260400000           39  0.141864  0.156787  0.160938  0.052275   \n",
       "2       1  1383261000000            0  0.136588       NaN       NaN  0.027300   \n",
       "3       1  1383261000000           33       NaN       NaN       NaN       NaN   \n",
       "4       1  1383261000000           39  0.278452  0.119926  0.188777  0.133637   \n",
       "\n",
       "    internet  \n",
       "0        NaN  \n",
       "1  11.028366  \n",
       "2        NaN  \n",
       "3   0.026137  \n",
       "4  11.100963  "
      ]
     },
     "execution_count": 70,
     "metadata": {},
     "output_type": "execute_result"
    }
   ],
   "source": [
    "df.head()"
   ]
  },
  {
   "cell_type": "code",
   "execution_count": 71,
   "metadata": {
    "collapsed": false
   },
   "outputs": [],
   "source": [
    "merged = pd.merge(left=gg, right=agg_df, left_on='properties.cellId', right_on='cellID')"
   ]
  },
  {
   "cell_type": "code",
   "execution_count": 72,
   "metadata": {
    "collapsed": false
   },
   "outputs": [
    {
     "data": {
      "text/html": [
       "<div>\n",
       "<table border=\"1\" class=\"dataframe\">\n",
       "  <thead>\n",
       "    <tr style=\"text-align: right;\">\n",
       "      <th></th>\n",
       "      <th>geometry.coordinates</th>\n",
       "      <th>geometry.type</th>\n",
       "      <th>id</th>\n",
       "      <th>properties.cellId</th>\n",
       "      <th>type</th>\n",
       "      <th>callIn</th>\n",
       "      <th>cellID</th>\n",
       "      <th>callOut</th>\n",
       "      <th>smsOut</th>\n",
       "      <th>smsIn</th>\n",
       "      <th>time</th>\n",
       "      <th>internet</th>\n",
       "    </tr>\n",
       "  </thead>\n",
       "  <tbody>\n",
       "    <tr>\n",
       "      <th>0</th>\n",
       "      <td>[[[9.0114910478323, 45.35880131440966], [9.014...</td>\n",
       "      <td>Polygon</td>\n",
       "      <td>0</td>\n",
       "      <td>1</td>\n",
       "      <td>Feature</td>\n",
       "      <td>40.947090</td>\n",
       "      <td>1</td>\n",
       "      <td>47.574988</td>\n",
       "      <td>45.827771</td>\n",
       "      <td>57.888593</td>\n",
       "      <td>1383260400000</td>\n",
       "      <td>1507.048349</td>\n",
       "    </tr>\n",
       "    <tr>\n",
       "      <th>1</th>\n",
       "      <td>[[[9.014491488013135, 45.35880097314403], [9.0...</td>\n",
       "      <td>Polygon</td>\n",
       "      <td>1</td>\n",
       "      <td>2</td>\n",
       "      <td>Feature</td>\n",
       "      <td>41.578010</td>\n",
       "      <td>2</td>\n",
       "      <td>48.467323</td>\n",
       "      <td>46.423165</td>\n",
       "      <td>58.672131</td>\n",
       "      <td>1383260400000</td>\n",
       "      <td>1512.859757</td>\n",
       "    </tr>\n",
       "    <tr>\n",
       "      <th>2</th>\n",
       "      <td>[[[9.017491928134044, 45.358800553060284], [9....</td>\n",
       "      <td>Polygon</td>\n",
       "      <td>2</td>\n",
       "      <td>3</td>\n",
       "      <td>Feature</td>\n",
       "      <td>42.249600</td>\n",
       "      <td>3</td>\n",
       "      <td>49.417178</td>\n",
       "      <td>47.056939</td>\n",
       "      <td>59.506176</td>\n",
       "      <td>1383260400000</td>\n",
       "      <td>1519.045771</td>\n",
       "    </tr>\n",
       "    <tr>\n",
       "      <th>3</th>\n",
       "      <td>[[[9.02049236818262, 45.35880005415845], [9.02...</td>\n",
       "      <td>Polygon</td>\n",
       "      <td>3</td>\n",
       "      <td>4</td>\n",
       "      <td>Feature</td>\n",
       "      <td>39.119618</td>\n",
       "      <td>4</td>\n",
       "      <td>44.990324</td>\n",
       "      <td>44.103200</td>\n",
       "      <td>55.619062</td>\n",
       "      <td>1383260400000</td>\n",
       "      <td>1490.215500</td>\n",
       "    </tr>\n",
       "    <tr>\n",
       "      <th>4</th>\n",
       "      <td>[[[9.023492808146456, 45.35879947643852], [9.0...</td>\n",
       "      <td>Polygon</td>\n",
       "      <td>4</td>\n",
       "      <td>5</td>\n",
       "      <td>Feature</td>\n",
       "      <td>36.720678</td>\n",
       "      <td>5</td>\n",
       "      <td>42.165447</td>\n",
       "      <td>40.994705</td>\n",
       "      <td>51.638382</td>\n",
       "      <td>1383260400000</td>\n",
       "      <td>1356.849530</td>\n",
       "    </tr>\n",
       "  </tbody>\n",
       "</table>\n",
       "</div>"
      ],
      "text/plain": [
       "                                geometry.coordinates geometry.type  id  \\\n",
       "0  [[[9.0114910478323, 45.35880131440966], [9.014...       Polygon   0   \n",
       "1  [[[9.014491488013135, 45.35880097314403], [9.0...       Polygon   1   \n",
       "2  [[[9.017491928134044, 45.358800553060284], [9....       Polygon   2   \n",
       "3  [[[9.02049236818262, 45.35880005415845], [9.02...       Polygon   3   \n",
       "4  [[[9.023492808146456, 45.35879947643852], [9.0...       Polygon   4   \n",
       "\n",
       "   properties.cellId     type     callIn  cellID    callOut     smsOut  \\\n",
       "0                  1  Feature  40.947090       1  47.574988  45.827771   \n",
       "1                  2  Feature  41.578010       2  48.467323  46.423165   \n",
       "2                  3  Feature  42.249600       3  49.417178  47.056939   \n",
       "3                  4  Feature  39.119618       4  44.990324  44.103200   \n",
       "4                  5  Feature  36.720678       5  42.165447  40.994705   \n",
       "\n",
       "       smsIn           time     internet  \n",
       "0  57.888593  1383260400000  1507.048349  \n",
       "1  58.672131  1383260400000  1512.859757  \n",
       "2  59.506176  1383260400000  1519.045771  \n",
       "3  55.619062  1383260400000  1490.215500  \n",
       "4  51.638382  1383260400000  1356.849530  "
      ]
     },
     "execution_count": 72,
     "metadata": {},
     "output_type": "execute_result"
    }
   ],
   "source": [
    "merged.head()"
   ]
  },
  {
   "cell_type": "code",
   "execution_count": 74,
   "metadata": {
    "collapsed": true
   },
   "outputs": [],
   "source": [
    "def df_to_geojson(df, properties, lat='latitude', lon='longitude'):\n",
    "    geojson = {'crs':{'type':'name','properties':{}}, 'type':'FeatureCollection', 'features':[]}\n",
    "    for _, row in df.iterrows():\n",
    "        feature = {'type':'Feature', 'properties':{},'id': row['id'], 'geometry':{'type':'Polygon','coordinates':[]}}\n",
    "        feature['geometry']['coordinates'] = row['geometry.coordinates']\n",
    "        for prop in properties:\n",
    "            feature['properties'][prop] = row[prop]\n",
    "        geojson['features'].append(feature)\n",
    "    return geojson"
   ]
  },
  {
   "cell_type": "code",
   "execution_count": 75,
   "metadata": {
    "collapsed": false
   },
   "outputs": [],
   "source": [
    "cols = ['cellID','smsIn','smsOut','callIn','callOut','internet']\n",
    "geojson = df_to_geojson(merged, cols)"
   ]
  },
  {
   "cell_type": "code",
   "execution_count": 80,
   "metadata": {
    "collapsed": false
   },
   "outputs": [],
   "source": [
    "output_filename = 'joined.geojson'\n",
    "with open(output_filename, 'w') as output_file:\n",
    "    json.dump(geojson, output_file, indent=2)"
   ]
  },
  {
   "cell_type": "code",
   "execution_count": null,
   "metadata": {
    "collapsed": true
   },
   "outputs": [],
   "source": []
  }
 ],
 "metadata": {
  "kernelspec": {
   "display_name": "Python 3",
   "language": "python",
   "name": "python3"
  },
  "language_info": {
   "codemirror_mode": {
    "name": "ipython",
    "version": 3
   },
   "file_extension": ".py",
   "mimetype": "text/x-python",
   "name": "python",
   "nbconvert_exporter": "python",
   "pygments_lexer": "ipython3",
   "version": "3.5.1"
  }
 },
 "nbformat": 4,
 "nbformat_minor": 0
}
