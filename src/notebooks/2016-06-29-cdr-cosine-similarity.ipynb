{
 "cells": [
  {
   "cell_type": "code",
   "execution_count": null,
   "metadata": {
    "collapsed": true
   },
   "outputs": [],
   "source": [
    "import sys\n",
    "sys.path.append('../python/')\n",
    "\n",
    "import pandas as pd\n",
    "import imp\n",
    "import cdr\n",
    "import csv\n",
    "import json\n",
    "import os.path\n",
    "from scipy.spatial.distance import cosine\n",
    "\n",
    "imp.reload(cdr)\n",
    "\n",
    "print (\"Libraries loaded\")\n",
    "\n",
    "dfs = {}\n",
    "\n",
    "# Read all the files in Milano\n",
    "for month in {\"11\",\"12\"}:\n",
    "    for day in range(1,32):\n",
    "        to_read = '../../data/CDR/sms-call-internet-mi-2013-' + month + '-' +\\\n",
    "                    str(day).zfill(2) + '.txt'\n",
    "        \n",
    "        if os.path.isfile(to_read):\n",
    "            dfs[month + str(day).zfill(2)] = pd.read_csv(to_read, delimiter='\\t', header=None) \n",
    "            print (\"loaded \", to_read)\n",
    "\n",
    "print (\"Milano files loaded\")\n",
    "\n",
    "file = '../../data/GeoJSON/milano-grid.geojson'\n",
    "with open(file) as f:\n",
    "    grid = pd.read_json(f, typ='Series')\n",
    "\n",
    "print (\"Grid file loaded\")\n",
    "\n",
    "smsIn, smsOut, callIn, callOut, internet = cdr.calculate_cosine_similarity(grid, dfs, '1101')\n",
    "\n",
    "print (\"cosine similarity caculated\")\n",
    "\n",
    "\n",
    "# generating a DataFrame from dicts\n",
    "df = pd.DataFrame(smsIn,columns=['Date', 'smsIn'])\n",
    "df.set_index(df['Date'], inplace=True)\n",
    "df = pd.merge(left=df, right=pd.DataFrame(smsOut, columns=['Date', 'smsOut']), how='left', on=\"Date\")\n",
    "df = pd.merge(left=df, right=pd.DataFrame(callIn, columns=['Date', 'callIn']), how='left', on=\"Date\")\n",
    "df = pd.merge(left=df, right=pd.DataFrame(callOut, columns=['Date', 'callOut']), how='left', on=\"Date\")\n",
    "df = pd.merge(left=df, right=pd.DataFrame(internet, columns=['Date', 'internet']), how='left', on=\"Date\")\n",
    "\n",
    "output_filename = '../../data/CDR/generated/similarity.csv'\n",
    "df.to_csv(output_filename, encoding='utf-8', index=False)\n"
   ]
  }
 ],
 "metadata": {
  "kernelspec": {
   "display_name": "Python 3",
   "language": "python",
   "name": "python3"
  },
  "language_info": {
   "codemirror_mode": {
    "name": "ipython",
    "version": 3
   },
   "file_extension": ".py",
   "mimetype": "text/x-python",
   "name": "python",
   "nbconvert_exporter": "python",
   "pygments_lexer": "ipython3",
   "version": "3.5.1"
  }
 },
 "nbformat": 4,
 "nbformat_minor": 0
}
